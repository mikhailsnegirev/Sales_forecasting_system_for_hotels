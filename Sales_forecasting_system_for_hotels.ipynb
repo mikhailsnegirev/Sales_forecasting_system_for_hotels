{
 "cells": [
  {
   "cell_type": "markdown",
   "metadata": {},
   "source": [
    "# Прогнозирование оттока клиентов в сети отелей «Как в гостях»"
   ]
  },
  {
   "cell_type": "markdown",
   "metadata": {},
   "source": [
    "# Описание проекта "
   ]
  },
  {
   "cell_type": "markdown",
   "metadata": {},
   "source": [
    "**Заказчик этого исследования — сеть отелей «Как в гостях».**\n",
    "\n",
    "Чтобы привлечь клиентов, эта сеть отелей добавила на свой сайт возможность забронировать номер без предоплаты. Однако если клиент отменял бронирование, то компания терпела убытки. Сотрудники отеля могли, например, закупить продукты к приезду гостя или просто не успеть найти другого клиента.\n",
    "Чтобы решить эту проблему, вам нужно разработать систему, которая предсказывает отказ от брони. Если модель покажет, что бронь будет отменена, то клиенту предлагается внести депозит. Размер депозита — 80% от стоимости номера за одни сутки и затрат на разовую уборку. Деньги будут списаны со счёта клиента, если он всё же отменит бронь.\n",
    "\n",
    "\n",
    "**Бизнес-метрика и другие данные:**\n",
    "Основная бизнес-метрика для любой сети отелей — её прибыль. Прибыль отеля — это разница между стоимостью номера за все ночи и затраты на обслуживание: как при подготовке номера, так и при проживании постояльца. \n",
    "В отеле есть несколько типов номеров. В зависимости от типа номера назначается стоимость за одну ночь. Есть также затраты на уборку. Если клиент снял номер надолго, то убираются каждые два дня. \n",
    "Стоимость номеров отеля:\n",
    "- категория A: за ночь — 1 000, разовое обслуживание — 400;\n",
    "- категория B: за ночь — 800, разовое обслуживание — 350;\n",
    "- категория C: за ночь — 600, разовое обслуживание — 350;\n",
    "- категория D: за ночь — 550, разовое обслуживание — 150;\n",
    "- категория E: за ночь — 500, разовое обслуживание — 150;\n",
    "- категория F: за ночь — 450, разовое обслуживание — 150;\n",
    "- категория G: за ночь — 350, разовое обслуживание — 150.\n",
    "\n",
    "\n",
    "В ценовой политике отеля используются сезонные коэффициенты: весной и осенью цены повышаются на 20%, летом — на 40%.\n",
    "Убытки отеля в случае отмены брони номера — это стоимость одной уборки и одной ночи с учётом сезонного коэффициента.\n",
    "На разработку системы прогнозирования заложен бюджет — 400 000. При этом необходимо учесть, что внедрение модели должно окупиться за тестовый период. Затраты на разработку должны быть меньше той выручки, которую система принесёт компании."
   ]
  },
  {
   "cell_type": "markdown",
   "metadata": {},
   "source": [
    "# Описание данных"
   ]
  },
  {
   "cell_type": "markdown",
   "metadata": {},
   "source": [
    "/datasets/hotel_train.csv — данные для обучения модели\n",
    "\n",
    "/datasets/hotel_test.csv — данные для тестирования модели"
   ]
  },
  {
   "cell_type": "markdown",
   "metadata": {},
   "source": [
    "В таблицах `hotel_train`  и `hotel_test`  содержатся одинаковые столбцы:\n",
    "- `id`  — номер записи;\n",
    "- `adults`  — количество взрослых постояльцев;\n",
    "- `arrival_date_year`  — год заезда;\n",
    "- `arrival_date_month`  — месяц заезда;\n",
    "- `arrival_date_week_number`  — неделя заезда;\n",
    "- `arrival_date_day_of_month`  — день заезда;\n",
    "- `babies`  — количество младенцев;\n",
    "- `booking_changes`  — количество изменений параметров заказа;\n",
    "- `children`  — количество детей от 3 до 14 лет;\n",
    "- `country`  — гражданство постояльца;\n",
    "- `customer_type`  — тип заказчика:\n",
    "- `Contract`  — договор с юридическим лицом;\n",
    "- `Group`  — групповой заезд;\n",
    "- `Transient`  — не связано с договором или групповым заездом;\n",
    "- `Transient-party`  — не связано с договором или групповым заездом, но связано с бронированием типа Transient.\n",
    "- `days_in_waiting_list`  — сколько дней заказ ожидал подтверждения;\n",
    "- `distribution_channel`  — канал дистрибуции заказа;\n",
    "- `is_canceled`  — отмена заказа;\n",
    "- `is_repeated_guest`  — признак того, что гость бронирует номер второй раз;\n",
    "- `lead_time`  — количество дней между датой бронирования и датой прибытия;\n",
    "- `meal`  — опции заказа:\n",
    "- `SC`  — нет дополнительных опций;\n",
    "- `BB`  — включён завтрак;\n",
    "- `HB`  — включён завтрак и обед;\n",
    "- `FB`  — включён завтрак, обед и ужин.\n",
    "- `previous_bookings_not_canceled`  — количество подтверждённых заказов у клиента;\n",
    "- `previous_cancellations`  — количество отменённых заказов у клиента;\n",
    "- `required_car_parking_spaces`  — необходимость места для автомобиля;\n",
    "- `reserved_room_type`  — тип забронированной комнаты;\n",
    "- `stays_in_weekend_nights`  — количество ночей в выходные дни;\n",
    "- `stays_in_week_nights`  — количество ночей в будние дни;\n",
    "- `total_nights`  — общее количество ночей;\n",
    "- `total_of_special_requests`  — количество специальных отметок."
   ]
  },
  {
   "cell_type": "markdown",
   "metadata": {},
   "source": [
    "**Импорт необходимых библиотек:**"
   ]
  },
  {
   "cell_type": "code",
   "execution_count": 1,
   "metadata": {},
   "outputs": [
    {
     "name": "stdout",
     "output_type": "stream",
     "text": [
      "Requirement already satisfied: pip in /opt/conda/lib/python3.9/site-packages (21.1.3)\n",
      "Collecting pip\n",
      "  Downloading pip-23.3.1-py3-none-any.whl (2.1 MB)\n",
      "\u001b[K     |████████████████████████████████| 2.1 MB 1.0 MB/s eta 0:00:01\n",
      "\u001b[?25hInstalling collected packages: pip\n",
      "  Attempting uninstall: pip\n",
      "    Found existing installation: pip 21.1.3\n",
      "    Uninstalling pip-21.1.3:\n",
      "      Successfully uninstalled pip-21.1.3\n",
      "Successfully installed pip-23.3.1\n",
      "Note: you may need to restart the kernel to use updated packages.\n"
     ]
    }
   ],
   "source": [
    "pip install --upgrade pip"
   ]
  },
  {
   "cell_type": "code",
   "execution_count": 2,
   "metadata": {},
   "outputs": [
    {
     "name": "stdout",
     "output_type": "stream",
     "text": [
      "Requirement already satisfied: Pillow in /opt/conda/lib/python3.9/site-packages (8.4.0)\n",
      "Collecting Pillow\n",
      "  Downloading Pillow-10.1.0-cp39-cp39-manylinux_2_28_x86_64.whl.metadata (9.5 kB)\n",
      "Downloading Pillow-10.1.0-cp39-cp39-manylinux_2_28_x86_64.whl (3.6 MB)\n",
      "\u001b[2K   \u001b[90m━━━━━━━━━━━━━━━━━━━━━━━━━━━━━━━━━━━━━━━━\u001b[0m \u001b[32m3.6/3.6 MB\u001b[0m \u001b[31m11.0 MB/s\u001b[0m eta \u001b[36m0:00:00\u001b[0m00:01\u001b[0m0:01\u001b[0m\n",
      "\u001b[?25hInstalling collected packages: Pillow\n",
      "  Attempting uninstall: Pillow\n",
      "    Found existing installation: Pillow 8.4.0\n",
      "    Uninstalling Pillow-8.4.0:\n",
      "      Successfully uninstalled Pillow-8.4.0\n",
      "Successfully installed Pillow-10.1.0\n",
      "Note: you may need to restart the kernel to use updated packages.\n"
     ]
    }
   ],
   "source": [
    "pip install --upgrade Pillow"
   ]
  },
  {
   "cell_type": "code",
   "execution_count": 3,
   "metadata": {},
   "outputs": [
    {
     "name": "stdout",
     "output_type": "stream",
     "text": [
      "Collecting ydata-profiling\n",
      "  Downloading ydata_profiling-4.6.2-py2.py3-none-any.whl.metadata (20 kB)\n",
      "Requirement already satisfied: scipy<1.12,>=1.4.1 in /opt/conda/lib/python3.9/site-packages (from ydata-profiling) (1.9.1)\n",
      "Requirement already satisfied: pandas!=1.4.0,<2.1,>1.1 in /opt/conda/lib/python3.9/site-packages (from ydata-profiling) (1.2.4)\n",
      "Requirement already satisfied: matplotlib<=3.7.3,>=3.2 in /opt/conda/lib/python3.9/site-packages (from ydata-profiling) (3.3.4)\n",
      "Collecting pydantic>=2 (from ydata-profiling)\n",
      "  Downloading pydantic-2.5.2-py3-none-any.whl.metadata (65 kB)\n",
      "\u001b[2K     \u001b[90m━━━━━━━━━━━━━━━━━━━━━━━━━━━━━━━━━━━━━━━\u001b[0m \u001b[32m65.2/65.2 kB\u001b[0m \u001b[31m798.5 kB/s\u001b[0m eta \u001b[36m0:00:00\u001b[0m \u001b[36m0:00:01\u001b[0m\n",
      "\u001b[?25hRequirement already satisfied: PyYAML<6.1,>=5.0.0 in /opt/conda/lib/python3.9/site-packages (from ydata-profiling) (6.0)\n",
      "Requirement already satisfied: jinja2<3.2,>=2.11.1 in /opt/conda/lib/python3.9/site-packages (from ydata-profiling) (3.0.1)\n",
      "Collecting visions==0.7.5 (from visions[type_image_path]==0.7.5->ydata-profiling)\n",
      "  Downloading visions-0.7.5-py3-none-any.whl (102 kB)\n",
      "\u001b[2K     \u001b[90m━━━━━━━━━━━━━━━━━━━━━━━━━━━━━━━━━━━━━━━\u001b[0m \u001b[32m102.7/102.7 kB\u001b[0m \u001b[31m2.5 MB/s\u001b[0m eta \u001b[36m0:00:00\u001b[0m00:01\u001b[0m\n",
      "\u001b[?25hRequirement already satisfied: numpy<1.26,>=1.16.0 in /opt/conda/lib/python3.9/site-packages (from ydata-profiling) (1.20.1)\n",
      "Collecting htmlmin==0.1.12 (from ydata-profiling)\n",
      "  Downloading htmlmin-0.1.12.tar.gz (19 kB)\n",
      "  Preparing metadata (setup.py) ... \u001b[?25ldone\n",
      "\u001b[?25hCollecting phik<0.13,>=0.11.1 (from ydata-profiling)\n",
      "  Downloading phik-0.12.3-cp39-cp39-manylinux_2_17_x86_64.manylinux2014_x86_64.whl (679 kB)\n",
      "\u001b[2K     \u001b[90m━━━━━━━━━━━━━━━━━━━━━━━━━━━━━━━━━━━━━━━\u001b[0m \u001b[32m679.8/679.8 kB\u001b[0m \u001b[31m6.1 MB/s\u001b[0m eta \u001b[36m0:00:00\u001b[0m00:01\u001b[0m00:01\u001b[0m\n",
      "\u001b[?25hRequirement already satisfied: requests<3,>=2.24.0 in /opt/conda/lib/python3.9/site-packages (from ydata-profiling) (2.25.1)\n",
      "Requirement already satisfied: tqdm<5,>=4.48.2 in /opt/conda/lib/python3.9/site-packages (from ydata-profiling) (4.61.2)\n",
      "Requirement already satisfied: seaborn<0.13,>=0.10.1 in /opt/conda/lib/python3.9/site-packages (from ydata-profiling) (0.11.1)\n",
      "Collecting multimethod<2,>=1.4 (from ydata-profiling)\n",
      "  Downloading multimethod-1.10-py3-none-any.whl.metadata (8.2 kB)\n",
      "Requirement already satisfied: statsmodels<1,>=0.13.2 in /opt/conda/lib/python3.9/site-packages (from ydata-profiling) (0.13.2)\n",
      "Collecting typeguard<5,>=4.1.2 (from ydata-profiling)\n",
      "  Downloading typeguard-4.1.5-py3-none-any.whl.metadata (3.7 kB)\n",
      "Collecting imagehash==4.3.1 (from ydata-profiling)\n",
      "  Downloading ImageHash-4.3.1-py2.py3-none-any.whl (296 kB)\n",
      "\u001b[2K     \u001b[90m━━━━━━━━━━━━━━━━━━━━━━━━━━━━━━━━━━━━━━\u001b[0m \u001b[32m296.5/296.5 kB\u001b[0m \u001b[31m17.5 MB/s\u001b[0m eta \u001b[36m0:00:00\u001b[0m\n",
      "\u001b[?25hCollecting wordcloud>=1.9.1 (from ydata-profiling)\n",
      "  Downloading wordcloud-1.9.2-cp39-cp39-manylinux_2_17_x86_64.manylinux2014_x86_64.whl.metadata (3.3 kB)\n",
      "Collecting dacite>=1.8 (from ydata-profiling)\n",
      "  Downloading dacite-1.8.1-py3-none-any.whl.metadata (15 kB)\n",
      "Requirement already satisfied: numba<0.59.0,>=0.56.0 in /opt/conda/lib/python3.9/site-packages (from ydata-profiling) (0.56.0)\n",
      "Collecting PyWavelets (from imagehash==4.3.1->ydata-profiling)\n",
      "  Downloading pywavelets-1.5.0-cp39-cp39-manylinux_2_17_x86_64.manylinux2014_x86_64.whl.metadata (9.0 kB)\n",
      "Requirement already satisfied: pillow in /opt/conda/lib/python3.9/site-packages (from imagehash==4.3.1->ydata-profiling) (10.1.0)\n",
      "Requirement already satisfied: attrs>=19.3.0 in /opt/conda/lib/python3.9/site-packages (from visions==0.7.5->visions[type_image_path]==0.7.5->ydata-profiling) (20.3.0)\n",
      "Collecting networkx>=2.4 (from visions==0.7.5->visions[type_image_path]==0.7.5->ydata-profiling)\n",
      "  Downloading networkx-3.2.1-py3-none-any.whl.metadata (5.2 kB)\n",
      "Collecting tangled-up-in-unicode>=0.0.4 (from visions==0.7.5->visions[type_image_path]==0.7.5->ydata-profiling)\n",
      "  Downloading tangled_up_in_unicode-0.2.0-py3-none-any.whl (4.7 MB)\n",
      "\u001b[2K     \u001b[90m━━━━━━━━━━━━━━━━━━━━━━━━━━━━━━━━━━━━━━━━\u001b[0m \u001b[32m4.7/4.7 MB\u001b[0m \u001b[31m35.9 MB/s\u001b[0m eta \u001b[36m0:00:00\u001b[0m00:01\u001b[0m00:01\u001b[0m\n",
      "\u001b[?25h\u001b[33mWARNING: visions 0.7.5 does not provide the extra 'type-image-path'\u001b[0m\u001b[33m\n",
      "\u001b[0mRequirement already satisfied: MarkupSafe>=2.0 in /opt/conda/lib/python3.9/site-packages (from jinja2<3.2,>=2.11.1->ydata-profiling) (2.0.1)\n",
      "Requirement already satisfied: cycler>=0.10 in /opt/conda/lib/python3.9/site-packages (from matplotlib<=3.7.3,>=3.2->ydata-profiling) (0.11.0)\n",
      "Requirement already satisfied: kiwisolver>=1.0.1 in /opt/conda/lib/python3.9/site-packages (from matplotlib<=3.7.3,>=3.2->ydata-profiling) (1.4.4)\n",
      "Requirement already satisfied: pyparsing!=2.0.4,!=2.1.2,!=2.1.6,>=2.0.3 in /opt/conda/lib/python3.9/site-packages (from matplotlib<=3.7.3,>=3.2->ydata-profiling) (2.4.7)\n",
      "Requirement already satisfied: python-dateutil>=2.1 in /opt/conda/lib/python3.9/site-packages (from matplotlib<=3.7.3,>=3.2->ydata-profiling) (2.8.1)\n",
      "Requirement already satisfied: llvmlite<0.40,>=0.39.0dev0 in /opt/conda/lib/python3.9/site-packages (from numba<0.59.0,>=0.56.0->ydata-profiling) (0.39.0)\n",
      "Requirement already satisfied: setuptools in /opt/conda/lib/python3.9/site-packages (from numba<0.59.0,>=0.56.0->ydata-profiling) (49.6.0.post20210108)\n",
      "Requirement already satisfied: pytz>=2017.3 in /opt/conda/lib/python3.9/site-packages (from pandas!=1.4.0,<2.1,>1.1->ydata-profiling) (2021.1)\n",
      "Requirement already satisfied: joblib>=0.14.1 in /opt/conda/lib/python3.9/site-packages (from phik<0.13,>=0.11.1->ydata-profiling) (1.1.0)\n",
      "Collecting annotated-types>=0.4.0 (from pydantic>=2->ydata-profiling)\n",
      "  Downloading annotated_types-0.6.0-py3-none-any.whl.metadata (12 kB)\n",
      "Collecting pydantic-core==2.14.5 (from pydantic>=2->ydata-profiling)\n",
      "  Downloading pydantic_core-2.14.5-cp39-cp39-manylinux_2_17_x86_64.manylinux2014_x86_64.whl.metadata (6.5 kB)\n",
      "Collecting typing-extensions>=4.6.1 (from pydantic>=2->ydata-profiling)\n",
      "  Downloading typing_extensions-4.8.0-py3-none-any.whl.metadata (3.0 kB)\n",
      "Requirement already satisfied: chardet<5,>=3.0.2 in /opt/conda/lib/python3.9/site-packages (from requests<3,>=2.24.0->ydata-profiling) (4.0.0)\n",
      "Requirement already satisfied: idna<3,>=2.5 in /opt/conda/lib/python3.9/site-packages (from requests<3,>=2.24.0->ydata-profiling) (2.10)\n",
      "Requirement already satisfied: urllib3<1.27,>=1.21.1 in /opt/conda/lib/python3.9/site-packages (from requests<3,>=2.24.0->ydata-profiling) (1.26.6)\n",
      "Requirement already satisfied: certifi>=2017.4.17 in /opt/conda/lib/python3.9/site-packages (from requests<3,>=2.24.0->ydata-profiling) (2021.5.30)\n",
      "Requirement already satisfied: patsy>=0.5.2 in /opt/conda/lib/python3.9/site-packages (from statsmodels<1,>=0.13.2->ydata-profiling) (0.5.2)\n",
      "Collecting packaging>=21.3 (from statsmodels<1,>=0.13.2->ydata-profiling)\n",
      "  Downloading packaging-23.2-py3-none-any.whl.metadata (3.2 kB)\n",
      "Requirement already satisfied: importlib-metadata>=3.6 in /opt/conda/lib/python3.9/site-packages (from typeguard<5,>=4.1.2->ydata-profiling) (4.6.1)\n",
      "Requirement already satisfied: zipp>=0.5 in /opt/conda/lib/python3.9/site-packages (from importlib-metadata>=3.6->typeguard<5,>=4.1.2->ydata-profiling) (3.5.0)\n",
      "Requirement already satisfied: six in /opt/conda/lib/python3.9/site-packages (from patsy>=0.5.2->statsmodels<1,>=0.13.2->ydata-profiling) (1.16.0)\n",
      "Collecting numpy<1.26,>=1.16.0 (from ydata-profiling)\n",
      "  Downloading numpy-1.22.4-cp39-cp39-manylinux_2_17_x86_64.manylinux2014_x86_64.whl (16.8 MB)\n",
      "\u001b[2K     \u001b[90m━━━━━━━━━━━━━━━━━━━━━━━━━━━━━━━━━━━━━━━━\u001b[0m \u001b[32m16.8/16.8 MB\u001b[0m \u001b[31m53.8 MB/s\u001b[0m eta \u001b[36m0:00:00\u001b[0m00:01\u001b[0m00:01\u001b[0m\n",
      "\u001b[?25hDownloading ydata_profiling-4.6.2-py2.py3-none-any.whl (357 kB)\n",
      "\u001b[2K   \u001b[90m━━━━━━━━━━━━━━━━━━━━━━━━━━━━━━━━━━━━━━━━\u001b[0m \u001b[32m357.5/357.5 kB\u001b[0m \u001b[31m25.9 MB/s\u001b[0m eta \u001b[36m0:00:00\u001b[0m\n",
      "\u001b[?25hDownloading dacite-1.8.1-py3-none-any.whl (14 kB)\n",
      "Downloading multimethod-1.10-py3-none-any.whl (9.9 kB)\n",
      "Downloading pydantic-2.5.2-py3-none-any.whl (381 kB)\n",
      "\u001b[2K   \u001b[90m━━━━━━━━━━━━━━━━━━━━━━━━━━━━━━━━━━━━━━━━\u001b[0m \u001b[32m381.9/381.9 kB\u001b[0m \u001b[31m18.0 MB/s\u001b[0m eta \u001b[36m0:00:00\u001b[0m\n",
      "\u001b[?25hDownloading pydantic_core-2.14.5-cp39-cp39-manylinux_2_17_x86_64.manylinux2014_x86_64.whl (2.1 MB)\n",
      "\u001b[2K   \u001b[90m━━━━━━━━━━━━━━━━━━━━━━━━━━━━━━━━━━━━━━━━\u001b[0m \u001b[32m2.1/2.1 MB\u001b[0m \u001b[31m54.2 MB/s\u001b[0m eta \u001b[36m0:00:00\u001b[0m:00:01\u001b[0m\n",
      "\u001b[?25hDownloading typeguard-4.1.5-py3-none-any.whl (34 kB)\n",
      "Downloading wordcloud-1.9.2-cp39-cp39-manylinux_2_17_x86_64.manylinux2014_x86_64.whl (460 kB)\n",
      "\u001b[2K   \u001b[90m━━━━━━━━━━━━━━━━━━━━━━━━━━━━━━━━━━━━━━━━\u001b[0m \u001b[32m460.4/460.4 kB\u001b[0m \u001b[31m14.2 MB/s\u001b[0m eta \u001b[36m0:00:00\u001b[0m\n",
      "\u001b[?25hDownloading annotated_types-0.6.0-py3-none-any.whl (12 kB)\n",
      "Downloading networkx-3.2.1-py3-none-any.whl (1.6 MB)\n",
      "\u001b[2K   \u001b[90m━━━━━━━━━━━━━━━━━━━━━━━━━━━━━━━━━━━━━━━━\u001b[0m \u001b[32m1.6/1.6 MB\u001b[0m \u001b[31m66.4 MB/s\u001b[0m eta \u001b[36m0:00:00\u001b[0m\n",
      "\u001b[?25hDownloading packaging-23.2-py3-none-any.whl (53 kB)\n",
      "\u001b[2K   \u001b[90m━━━━━━━━━━━━━━━━━━━━━━━━━━━━━━━━━━━━━━━━\u001b[0m \u001b[32m53.0/53.0 kB\u001b[0m \u001b[31m5.2 MB/s\u001b[0m eta \u001b[36m0:00:00\u001b[0m\n",
      "\u001b[?25hDownloading typing_extensions-4.8.0-py3-none-any.whl (31 kB)\n",
      "Downloading pywavelets-1.5.0-cp39-cp39-manylinux_2_17_x86_64.manylinux2014_x86_64.whl (4.5 MB)\n",
      "\u001b[2K   \u001b[90m━━━━━━━━━━━━━━━━━━━━━━━━━━━━━━━━━━━━━━━━\u001b[0m \u001b[32m4.5/4.5 MB\u001b[0m \u001b[31m51.5 MB/s\u001b[0m eta \u001b[36m0:00:00\u001b[0m00:01\u001b[0m:00:01\u001b[0m\n",
      "\u001b[?25hBuilding wheels for collected packages: htmlmin\n",
      "  Building wheel for htmlmin (setup.py) ... \u001b[?25ldone\n",
      "\u001b[?25h  Created wheel for htmlmin: filename=htmlmin-0.1.12-py3-none-any.whl size=27085 sha256=ba66d623d875669c259f90503726bf3819755f18b7f9bc06a755594d690eddbb\n",
      "  Stored in directory: /home/jovyan/.cache/pip/wheels/1d/05/04/c6d7d3b66539d9e659ac6dfe81e2d0fd4c1a8316cc5a403300\n",
      "Successfully built htmlmin\n",
      "Installing collected packages: htmlmin, typing-extensions, tangled-up-in-unicode, packaging, numpy, networkx, multimethod, dacite, annotated-types, typeguard, PyWavelets, pydantic-core, wordcloud, visions, pydantic, phik, imagehash, ydata-profiling\n",
      "  Attempting uninstall: typing-extensions\n",
      "    Found existing installation: typing_extensions 4.3.0\n",
      "    Uninstalling typing_extensions-4.3.0:\n",
      "      Successfully uninstalled typing_extensions-4.3.0\n",
      "  Attempting uninstall: packaging\n",
      "    Found existing installation: packaging 21.0\n",
      "    Uninstalling packaging-21.0:\n",
      "      Successfully uninstalled packaging-21.0\n",
      "  Attempting uninstall: numpy\n",
      "    Found existing installation: numpy 1.20.1\n",
      "    Uninstalling numpy-1.20.1:\n",
      "      Successfully uninstalled numpy-1.20.1\n",
      "  Attempting uninstall: pydantic\n",
      "    Found existing installation: pydantic 1.8.2\n",
      "    Uninstalling pydantic-1.8.2:\n",
      "      Successfully uninstalled pydantic-1.8.2\n",
      "\u001b[31mERROR: pip's dependency resolver does not currently take into account all the packages that are installed. This behaviour is the source of the following dependency conflicts.\n",
      "spacy 3.2.0 requires pydantic!=1.8,!=1.8.1,<1.9.0,>=1.7.4, but you have pydantic 2.5.2 which is incompatible.\n",
      "thinc 8.0.17 requires pydantic!=1.8,!=1.8.1,<1.9.0,>=1.7.4, but you have pydantic 2.5.2 which is incompatible.\u001b[0m\u001b[31m\n",
      "\u001b[0mSuccessfully installed PyWavelets-1.5.0 annotated-types-0.6.0 dacite-1.8.1 htmlmin-0.1.12 imagehash-4.3.1 multimethod-1.10 networkx-3.2.1 numpy-1.21.1 packaging-21.3 phik-0.12.3 pydantic-2.5.2 pydantic-core-2.14.5 tangled-up-in-unicode-0.2.0 typeguard-4.1.5 typing-extensions-4.8.0 visions-0.7.5 wordcloud-1.9.2 ydata-profiling-4.6.2\n"
     ]
    }
   ],
   "source": [
    "#!pip install ydata-profiling"
   ]
  },
  {
   "cell_type": "code",
   "execution_count": 4,
   "metadata": {},
   "outputs": [
    {
     "name": "stdout",
     "output_type": "stream",
     "text": [
      "Collecting pandas-profiling\n",
      "  Downloading pandas_profiling-3.6.6-py2.py3-none-any.whl (324 kB)\n",
      "\u001b[2K     \u001b[90m━━━━━━━━━━━━━━━━━━━━━━━━━━━━━━━━━━━━━━━\u001b[0m \u001b[32m324.4/324.4 kB\u001b[0m \u001b[31m2.1 MB/s\u001b[0m eta \u001b[36m0:00:00\u001b[0ma \u001b[36m0:00:01\u001b[0m\n",
      "\u001b[?25hRequirement already satisfied: ydata-profiling in /opt/conda/lib/python3.9/site-packages (from pandas-profiling) (4.6.2)\n",
      "Requirement already satisfied: scipy<1.12,>=1.4.1 in /opt/conda/lib/python3.9/site-packages (from ydata-profiling->pandas-profiling) (1.9.1)\n",
      "Requirement already satisfied: pandas!=1.4.0,<2.1,>1.1 in /opt/conda/lib/python3.9/site-packages (from ydata-profiling->pandas-profiling) (1.2.4)\n",
      "Requirement already satisfied: matplotlib<=3.7.3,>=3.2 in /opt/conda/lib/python3.9/site-packages (from ydata-profiling->pandas-profiling) (3.3.4)\n",
      "Requirement already satisfied: pydantic>=2 in /opt/conda/lib/python3.9/site-packages (from ydata-profiling->pandas-profiling) (2.5.2)\n",
      "Requirement already satisfied: PyYAML<6.1,>=5.0.0 in /opt/conda/lib/python3.9/site-packages (from ydata-profiling->pandas-profiling) (6.0)\n",
      "Requirement already satisfied: jinja2<3.2,>=2.11.1 in /opt/conda/lib/python3.9/site-packages (from ydata-profiling->pandas-profiling) (3.0.1)\n",
      "Requirement already satisfied: visions==0.7.5 in /opt/conda/lib/python3.9/site-packages (from visions[type_image_path]==0.7.5->ydata-profiling->pandas-profiling) (0.7.5)\n",
      "Requirement already satisfied: numpy<1.26,>=1.16.0 in /opt/conda/lib/python3.9/site-packages (from ydata-profiling->pandas-profiling) (1.21.1)\n",
      "Requirement already satisfied: htmlmin==0.1.12 in /opt/conda/lib/python3.9/site-packages (from ydata-profiling->pandas-profiling) (0.1.12)\n",
      "Requirement already satisfied: phik<0.13,>=0.11.1 in /opt/conda/lib/python3.9/site-packages (from ydata-profiling->pandas-profiling) (0.12.3)\n",
      "Requirement already satisfied: requests<3,>=2.24.0 in /opt/conda/lib/python3.9/site-packages (from ydata-profiling->pandas-profiling) (2.25.1)\n",
      "Requirement already satisfied: tqdm<5,>=4.48.2 in /opt/conda/lib/python3.9/site-packages (from ydata-profiling->pandas-profiling) (4.61.2)\n",
      "Requirement already satisfied: seaborn<0.13,>=0.10.1 in /opt/conda/lib/python3.9/site-packages (from ydata-profiling->pandas-profiling) (0.11.1)\n",
      "Requirement already satisfied: multimethod<2,>=1.4 in /opt/conda/lib/python3.9/site-packages (from ydata-profiling->pandas-profiling) (1.10)\n",
      "Requirement already satisfied: statsmodels<1,>=0.13.2 in /opt/conda/lib/python3.9/site-packages (from ydata-profiling->pandas-profiling) (0.13.2)\n",
      "Requirement already satisfied: typeguard<5,>=4.1.2 in /opt/conda/lib/python3.9/site-packages (from ydata-profiling->pandas-profiling) (4.1.5)\n",
      "Requirement already satisfied: imagehash==4.3.1 in /opt/conda/lib/python3.9/site-packages (from ydata-profiling->pandas-profiling) (4.3.1)\n",
      "Requirement already satisfied: wordcloud>=1.9.1 in /opt/conda/lib/python3.9/site-packages (from ydata-profiling->pandas-profiling) (1.9.2)\n",
      "Requirement already satisfied: dacite>=1.8 in /opt/conda/lib/python3.9/site-packages (from ydata-profiling->pandas-profiling) (1.8.1)\n",
      "Requirement already satisfied: numba<0.59.0,>=0.56.0 in /opt/conda/lib/python3.9/site-packages (from ydata-profiling->pandas-profiling) (0.56.0)\n",
      "Requirement already satisfied: PyWavelets in /opt/conda/lib/python3.9/site-packages (from imagehash==4.3.1->ydata-profiling->pandas-profiling) (1.5.0)\n",
      "Requirement already satisfied: pillow in /opt/conda/lib/python3.9/site-packages (from imagehash==4.3.1->ydata-profiling->pandas-profiling) (10.1.0)\n",
      "Requirement already satisfied: attrs>=19.3.0 in /opt/conda/lib/python3.9/site-packages (from visions==0.7.5->visions[type_image_path]==0.7.5->ydata-profiling->pandas-profiling) (20.3.0)\n",
      "Requirement already satisfied: networkx>=2.4 in /opt/conda/lib/python3.9/site-packages (from visions==0.7.5->visions[type_image_path]==0.7.5->ydata-profiling->pandas-profiling) (3.2.1)\n",
      "Requirement already satisfied: tangled-up-in-unicode>=0.0.4 in /opt/conda/lib/python3.9/site-packages (from visions==0.7.5->visions[type_image_path]==0.7.5->ydata-profiling->pandas-profiling) (0.2.0)\n",
      "\u001b[33mWARNING: visions 0.7.5 does not provide the extra 'type-image-path'\u001b[0m\u001b[33m\n",
      "\u001b[0mRequirement already satisfied: MarkupSafe>=2.0 in /opt/conda/lib/python3.9/site-packages (from jinja2<3.2,>=2.11.1->ydata-profiling->pandas-profiling) (2.0.1)\n",
      "Requirement already satisfied: cycler>=0.10 in /opt/conda/lib/python3.9/site-packages (from matplotlib<=3.7.3,>=3.2->ydata-profiling->pandas-profiling) (0.11.0)\n",
      "Requirement already satisfied: kiwisolver>=1.0.1 in /opt/conda/lib/python3.9/site-packages (from matplotlib<=3.7.3,>=3.2->ydata-profiling->pandas-profiling) (1.4.4)\n",
      "Requirement already satisfied: pyparsing!=2.0.4,!=2.1.2,!=2.1.6,>=2.0.3 in /opt/conda/lib/python3.9/site-packages (from matplotlib<=3.7.3,>=3.2->ydata-profiling->pandas-profiling) (2.4.7)\n",
      "Requirement already satisfied: python-dateutil>=2.1 in /opt/conda/lib/python3.9/site-packages (from matplotlib<=3.7.3,>=3.2->ydata-profiling->pandas-profiling) (2.8.1)\n",
      "Requirement already satisfied: llvmlite<0.40,>=0.39.0dev0 in /opt/conda/lib/python3.9/site-packages (from numba<0.59.0,>=0.56.0->ydata-profiling->pandas-profiling) (0.39.0)\n",
      "Requirement already satisfied: setuptools in /opt/conda/lib/python3.9/site-packages (from numba<0.59.0,>=0.56.0->ydata-profiling->pandas-profiling) (49.6.0.post20210108)\n",
      "Requirement already satisfied: pytz>=2017.3 in /opt/conda/lib/python3.9/site-packages (from pandas!=1.4.0,<2.1,>1.1->ydata-profiling->pandas-profiling) (2021.1)\n",
      "Requirement already satisfied: joblib>=0.14.1 in /opt/conda/lib/python3.9/site-packages (from phik<0.13,>=0.11.1->ydata-profiling->pandas-profiling) (1.1.0)\n",
      "Requirement already satisfied: annotated-types>=0.4.0 in /opt/conda/lib/python3.9/site-packages (from pydantic>=2->ydata-profiling->pandas-profiling) (0.6.0)\n",
      "Requirement already satisfied: pydantic-core==2.14.5 in /opt/conda/lib/python3.9/site-packages (from pydantic>=2->ydata-profiling->pandas-profiling) (2.14.5)\n",
      "Requirement already satisfied: typing-extensions>=4.6.1 in /opt/conda/lib/python3.9/site-packages (from pydantic>=2->ydata-profiling->pandas-profiling) (4.8.0)\n",
      "Requirement already satisfied: chardet<5,>=3.0.2 in /opt/conda/lib/python3.9/site-packages (from requests<3,>=2.24.0->ydata-profiling->pandas-profiling) (4.0.0)\n",
      "Requirement already satisfied: idna<3,>=2.5 in /opt/conda/lib/python3.9/site-packages (from requests<3,>=2.24.0->ydata-profiling->pandas-profiling) (2.10)\n",
      "Requirement already satisfied: urllib3<1.27,>=1.21.1 in /opt/conda/lib/python3.9/site-packages (from requests<3,>=2.24.0->ydata-profiling->pandas-profiling) (1.26.6)\n",
      "Requirement already satisfied: certifi>=2017.4.17 in /opt/conda/lib/python3.9/site-packages (from requests<3,>=2.24.0->ydata-profiling->pandas-profiling) (2021.5.30)\n",
      "Requirement already satisfied: patsy>=0.5.2 in /opt/conda/lib/python3.9/site-packages (from statsmodels<1,>=0.13.2->ydata-profiling->pandas-profiling) (0.5.2)\n",
      "Requirement already satisfied: packaging>=21.3 in /opt/conda/lib/python3.9/site-packages (from statsmodels<1,>=0.13.2->ydata-profiling->pandas-profiling) (21.3)\n",
      "Requirement already satisfied: importlib-metadata>=3.6 in /opt/conda/lib/python3.9/site-packages (from typeguard<5,>=4.1.2->ydata-profiling->pandas-profiling) (4.6.1)\n",
      "Requirement already satisfied: zipp>=0.5 in /opt/conda/lib/python3.9/site-packages (from importlib-metadata>=3.6->typeguard<5,>=4.1.2->ydata-profiling->pandas-profiling) (3.5.0)\n",
      "Requirement already satisfied: six in /opt/conda/lib/python3.9/site-packages (from patsy>=0.5.2->statsmodels<1,>=0.13.2->ydata-profiling->pandas-profiling) (1.16.0)\n",
      "Collecting numpy<1.26,>=1.16.0 (from ydata-profiling->pandas-profiling)\n",
      "  Using cached numpy-1.22.4-cp39-cp39-manylinux_2_17_x86_64.manylinux2014_x86_64.whl (16.8 MB)\n",
      "Installing collected packages: numpy, pandas-profiling\n",
      "  Attempting uninstall: numpy\n",
      "    Found existing installation: numpy 1.21.1\n",
      "    Uninstalling numpy-1.21.1:\n",
      "      Successfully uninstalled numpy-1.21.1\n",
      "\u001b[31mERROR: pip's dependency resolver does not currently take into account all the packages that are installed. This behaviour is the source of the following dependency conflicts.\n",
      "spacy 3.2.0 requires pydantic!=1.8,!=1.8.1,<1.9.0,>=1.7.4, but you have pydantic 2.5.2 which is incompatible.\n",
      "thinc 8.0.17 requires pydantic!=1.8,!=1.8.1,<1.9.0,>=1.7.4, but you have pydantic 2.5.2 which is incompatible.\u001b[0m\u001b[31m\n",
      "\u001b[0mSuccessfully installed numpy-1.22.4 pandas-profiling-3.6.6\n"
     ]
    }
   ],
   "source": [
    "#!pip install pandas-profiling"
   ]
  },
  {
   "cell_type": "code",
   "execution_count": 5,
   "metadata": {},
   "outputs": [],
   "source": [
    "import pandas as pd\n",
    "from ydata_profiling import ProfileReport\n",
    "import numpy as np\n",
    "import matplotlib.pyplot as plt\n",
    "import plotly.graph_objs as go\n",
    "import plotly.offline as pyo\n",
    "import plotly.express as px\n",
    "import seaborn as sns\n",
    "import warnings\n",
    "warnings.filterwarnings('ignore')\n",
    "from sklearn.linear_model import LogisticRegression\n",
    "from sklearn.linear_model import LinearRegression\n",
    "from sklearn.model_selection import train_test_split\n",
    "from sklearn.metrics import mean_squared_error\n",
    "from sklearn.metrics import mean_absolute_error\n",
    "from scipy import stats as st\n",
    "from sklearn.ensemble import RandomForestClassifier\n",
    "from sklearn.linear_model import LogisticRegression\n",
    "from sklearn.tree import DecisionTreeClassifier\n",
    "from sklearn.dummy import DummyClassifier\n",
    "from sklearn.preprocessing import StandardScaler, OneHotEncoder\n",
    "from sklearn.utils import shuffle\n",
    "from sklearn.metrics import accuracy_score, roc_auc_score, f1_score, precision_score, recall_score, roc_curve\n",
    "from sklearn.metrics import confusion_matrix\n",
    "from sklearn.model_selection import cross_val_score\n",
    "from tqdm import tqdm\n",
    "from sklearn.metrics import make_scorer\n",
    "from statsmodels.stats.outliers_influence import variance_inflation_factor\n",
    "from sklearn.preprocessing import OneHotEncoder\n",
    "from sklearn.preprocessing import OrdinalEncoder\n",
    "from sklearn.preprocessing import StandardScaler\n",
    "from sklearn.compose import make_column_transformer\n",
    "from sklearn.compose import make_column_selector\n",
    "from sklearn.pipeline import make_pipeline\n",
    "from sklearn.model_selection import GridSearchCV\n",
    "from sklearn.metrics import f1_score\n",
    "from sklearn.metrics import confusion_matrix\n",
    "from sklearn.metrics import accuracy_score\n",
    "from sklearn.metrics import precision_score\n",
    "from sklearn.metrics import recall_score\n",
    "from sklearn.ensemble import RandomForestClassifier\n",
    "from sklearn.ensemble import AdaBoostClassifier\n",
    "from sklearn.ensemble import GradientBoostingClassifier\n",
    "from sklearn.linear_model import LogisticRegression\n",
    "from sklearn.svm import LinearSVC\n",
    "from sklearn import set_config\n",
    "from sklearn.dummy import DummyClassifier"
   ]
  },
  {
   "cell_type": "markdown",
   "metadata": {},
   "source": [
    "### Шаг 1. Откройте файлы с данными"
   ]
  },
  {
   "cell_type": "markdown",
   "metadata": {},
   "source": [
    "**Данные для обучения моделей:**"
   ]
  },
  {
   "cell_type": "code",
   "execution_count": 6,
   "metadata": {},
   "outputs": [],
   "source": [
    "hotel_train = pd.read_csv('/datasets/hotel_train.csv')"
   ]
  },
  {
   "cell_type": "markdown",
   "metadata": {},
   "source": [
    "**Данные для тестирования модели:**"
   ]
  },
  {
   "cell_type": "code",
   "execution_count": 7,
   "metadata": {},
   "outputs": [],
   "source": [
    "hotel_test = pd.read_csv('/datasets/hotel_test.csv')"
   ]
  },
  {
   "cell_type": "markdown",
   "metadata": {},
   "source": [
    "### Шаг 2. Предобработка и исследовательский анализ данных"
   ]
  },
  {
   "cell_type": "markdown",
   "metadata": {},
   "source": [
    "- Проверим данные и откорректируем их, если потребуется.\n",
    "- Проведем исследовательский анализ представленных данных. Опишем найденные особенности: пропуски, выбросы."
   ]
  },
  {
   "cell_type": "code",
   "execution_count": 8,
   "metadata": {},
   "outputs": [
    {
     "name": "stdout",
     "output_type": "stream",
     "text": [
      "<class 'pandas.core.frame.DataFrame'>\n",
      "RangeIndex: 65229 entries, 0 to 65228\n",
      "Data columns (total 25 columns):\n",
      " #   Column                          Non-Null Count  Dtype  \n",
      "---  ------                          --------------  -----  \n",
      " 0   id                              65229 non-null  int64  \n",
      " 1   is_canceled                     65229 non-null  int64  \n",
      " 2   lead_time                       65229 non-null  float64\n",
      " 3   arrival_date_year               65229 non-null  int64  \n",
      " 4   arrival_date_month              65229 non-null  object \n",
      " 5   arrival_date_week_number        65229 non-null  int64  \n",
      " 6   arrival_date_day_of_month       65229 non-null  int64  \n",
      " 7   stays_in_weekend_nights         65229 non-null  int64  \n",
      " 8   stays_in_week_nights            65229 non-null  int64  \n",
      " 9   adults                          65229 non-null  float64\n",
      " 10  children                        65229 non-null  float64\n",
      " 11  babies                          65229 non-null  float64\n",
      " 12  meal                            65229 non-null  object \n",
      " 13  country                         65229 non-null  object \n",
      " 14  distribution_channel            65229 non-null  object \n",
      " 15  is_repeated_guest               65229 non-null  int64  \n",
      " 16  previous_cancellations          65229 non-null  int64  \n",
      " 17  previous_bookings_not_canceled  65229 non-null  int64  \n",
      " 18  reserved_room_type              65229 non-null  object \n",
      " 19  booking_changes                 65229 non-null  int64  \n",
      " 20  days_in_waiting_list            65229 non-null  int64  \n",
      " 21  customer_type                   65229 non-null  object \n",
      " 22  required_car_parking_spaces     65229 non-null  int64  \n",
      " 23  total_of_special_requests       65229 non-null  int64  \n",
      " 24  total_nights                    65229 non-null  int64  \n",
      "dtypes: float64(4), int64(15), object(6)\n",
      "memory usage: 12.4+ MB\n"
     ]
    }
   ],
   "source": [
    "hotel_train.info()"
   ]
  },
  {
   "cell_type": "code",
   "execution_count": 9,
   "metadata": {},
   "outputs": [
    {
     "name": "stdout",
     "output_type": "stream",
     "text": [
      "<class 'pandas.core.frame.DataFrame'>\n",
      "RangeIndex: 32412 entries, 0 to 32411\n",
      "Data columns (total 25 columns):\n",
      " #   Column                          Non-Null Count  Dtype  \n",
      "---  ------                          --------------  -----  \n",
      " 0   id                              32412 non-null  int64  \n",
      " 1   is_canceled                     32412 non-null  int64  \n",
      " 2   lead_time                       32412 non-null  float64\n",
      " 3   arrival_date_year               32412 non-null  int64  \n",
      " 4   arrival_date_month              32412 non-null  object \n",
      " 5   arrival_date_week_number        32412 non-null  int64  \n",
      " 6   arrival_date_day_of_month       32412 non-null  int64  \n",
      " 7   stays_in_weekend_nights         32412 non-null  int64  \n",
      " 8   stays_in_week_nights            32412 non-null  int64  \n",
      " 9   adults                          32412 non-null  float64\n",
      " 10  children                        32412 non-null  float64\n",
      " 11  babies                          32412 non-null  float64\n",
      " 12  meal                            32412 non-null  object \n",
      " 13  country                         32412 non-null  object \n",
      " 14  distribution_channel            32412 non-null  object \n",
      " 15  is_repeated_guest               32412 non-null  int64  \n",
      " 16  previous_cancellations          32412 non-null  int64  \n",
      " 17  previous_bookings_not_canceled  32412 non-null  int64  \n",
      " 18  reserved_room_type              32412 non-null  object \n",
      " 19  booking_changes                 32412 non-null  int64  \n",
      " 20  days_in_waiting_list            32412 non-null  int64  \n",
      " 21  customer_type                   32412 non-null  object \n",
      " 22  required_car_parking_spaces     32412 non-null  int64  \n",
      " 23  total_of_special_requests       32412 non-null  int64  \n",
      " 24  total_nights                    32412 non-null  int64  \n",
      "dtypes: float64(4), int64(15), object(6)\n",
      "memory usage: 6.2+ MB\n"
     ]
    }
   ],
   "source": [
    "hotel_test.info()"
   ]
  },
  {
   "cell_type": "code",
   "execution_count": 10,
   "metadata": {},
   "outputs": [
    {
     "data": {
      "text/html": [
       "<div>\n",
       "<style scoped>\n",
       "    .dataframe tbody tr th:only-of-type {\n",
       "        vertical-align: middle;\n",
       "    }\n",
       "\n",
       "    .dataframe tbody tr th {\n",
       "        vertical-align: top;\n",
       "    }\n",
       "\n",
       "    .dataframe thead th {\n",
       "        text-align: right;\n",
       "    }\n",
       "</style>\n",
       "<table border=\"1\" class=\"dataframe\">\n",
       "  <thead>\n",
       "    <tr style=\"text-align: right;\">\n",
       "      <th></th>\n",
       "      <th>id</th>\n",
       "      <th>is_canceled</th>\n",
       "      <th>lead_time</th>\n",
       "      <th>arrival_date_year</th>\n",
       "      <th>arrival_date_month</th>\n",
       "      <th>arrival_date_week_number</th>\n",
       "      <th>arrival_date_day_of_month</th>\n",
       "      <th>stays_in_weekend_nights</th>\n",
       "      <th>stays_in_week_nights</th>\n",
       "      <th>adults</th>\n",
       "      <th>...</th>\n",
       "      <th>is_repeated_guest</th>\n",
       "      <th>previous_cancellations</th>\n",
       "      <th>previous_bookings_not_canceled</th>\n",
       "      <th>reserved_room_type</th>\n",
       "      <th>booking_changes</th>\n",
       "      <th>days_in_waiting_list</th>\n",
       "      <th>customer_type</th>\n",
       "      <th>required_car_parking_spaces</th>\n",
       "      <th>total_of_special_requests</th>\n",
       "      <th>total_nights</th>\n",
       "    </tr>\n",
       "  </thead>\n",
       "  <tbody>\n",
       "    <tr>\n",
       "      <th>6001</th>\n",
       "      <td>6078</td>\n",
       "      <td>1</td>\n",
       "      <td>10.0</td>\n",
       "      <td>2016</td>\n",
       "      <td>December</td>\n",
       "      <td>53</td>\n",
       "      <td>30</td>\n",
       "      <td>1</td>\n",
       "      <td>2</td>\n",
       "      <td>1.0</td>\n",
       "      <td>...</td>\n",
       "      <td>0</td>\n",
       "      <td>0</td>\n",
       "      <td>0</td>\n",
       "      <td>A</td>\n",
       "      <td>1</td>\n",
       "      <td>0</td>\n",
       "      <td>Transient-Party</td>\n",
       "      <td>0</td>\n",
       "      <td>0</td>\n",
       "      <td>3</td>\n",
       "    </tr>\n",
       "    <tr>\n",
       "      <th>25273</th>\n",
       "      <td>33213</td>\n",
       "      <td>1</td>\n",
       "      <td>5.0</td>\n",
       "      <td>2016</td>\n",
       "      <td>April</td>\n",
       "      <td>15</td>\n",
       "      <td>4</td>\n",
       "      <td>3</td>\n",
       "      <td>5</td>\n",
       "      <td>2.0</td>\n",
       "      <td>...</td>\n",
       "      <td>0</td>\n",
       "      <td>0</td>\n",
       "      <td>0</td>\n",
       "      <td>D</td>\n",
       "      <td>0</td>\n",
       "      <td>0</td>\n",
       "      <td>Transient</td>\n",
       "      <td>0</td>\n",
       "      <td>0</td>\n",
       "      <td>8</td>\n",
       "    </tr>\n",
       "    <tr>\n",
       "      <th>59030</th>\n",
       "      <td>77697</td>\n",
       "      <td>0</td>\n",
       "      <td>346.0</td>\n",
       "      <td>2016</td>\n",
       "      <td>September</td>\n",
       "      <td>38</td>\n",
       "      <td>13</td>\n",
       "      <td>0</td>\n",
       "      <td>2</td>\n",
       "      <td>2.0</td>\n",
       "      <td>...</td>\n",
       "      <td>0</td>\n",
       "      <td>0</td>\n",
       "      <td>0</td>\n",
       "      <td>A</td>\n",
       "      <td>0</td>\n",
       "      <td>0</td>\n",
       "      <td>Transient-Party</td>\n",
       "      <td>0</td>\n",
       "      <td>1</td>\n",
       "      <td>2</td>\n",
       "    </tr>\n",
       "    <tr>\n",
       "      <th>32861</th>\n",
       "      <td>40801</td>\n",
       "      <td>1</td>\n",
       "      <td>39.0</td>\n",
       "      <td>2016</td>\n",
       "      <td>September</td>\n",
       "      <td>40</td>\n",
       "      <td>25</td>\n",
       "      <td>1</td>\n",
       "      <td>0</td>\n",
       "      <td>1.0</td>\n",
       "      <td>...</td>\n",
       "      <td>0</td>\n",
       "      <td>0</td>\n",
       "      <td>0</td>\n",
       "      <td>A</td>\n",
       "      <td>0</td>\n",
       "      <td>0</td>\n",
       "      <td>Transient</td>\n",
       "      <td>0</td>\n",
       "      <td>0</td>\n",
       "      <td>1</td>\n",
       "    </tr>\n",
       "    <tr>\n",
       "      <th>29424</th>\n",
       "      <td>37364</td>\n",
       "      <td>1</td>\n",
       "      <td>15.0</td>\n",
       "      <td>2016</td>\n",
       "      <td>June</td>\n",
       "      <td>25</td>\n",
       "      <td>17</td>\n",
       "      <td>2</td>\n",
       "      <td>2</td>\n",
       "      <td>3.0</td>\n",
       "      <td>...</td>\n",
       "      <td>0</td>\n",
       "      <td>0</td>\n",
       "      <td>0</td>\n",
       "      <td>D</td>\n",
       "      <td>0</td>\n",
       "      <td>0</td>\n",
       "      <td>Transient</td>\n",
       "      <td>0</td>\n",
       "      <td>0</td>\n",
       "      <td>4</td>\n",
       "    </tr>\n",
       "  </tbody>\n",
       "</table>\n",
       "<p>5 rows × 25 columns</p>\n",
       "</div>"
      ],
      "text/plain": [
       "          id  is_canceled  lead_time  arrival_date_year arrival_date_month  \\\n",
       "6001    6078            1       10.0               2016           December   \n",
       "25273  33213            1        5.0               2016              April   \n",
       "59030  77697            0      346.0               2016          September   \n",
       "32861  40801            1       39.0               2016          September   \n",
       "29424  37364            1       15.0               2016               June   \n",
       "\n",
       "       arrival_date_week_number  arrival_date_day_of_month  \\\n",
       "6001                         53                         30   \n",
       "25273                        15                          4   \n",
       "59030                        38                         13   \n",
       "32861                        40                         25   \n",
       "29424                        25                         17   \n",
       "\n",
       "       stays_in_weekend_nights  stays_in_week_nights  adults  ...  \\\n",
       "6001                         1                     2     1.0  ...   \n",
       "25273                        3                     5     2.0  ...   \n",
       "59030                        0                     2     2.0  ...   \n",
       "32861                        1                     0     1.0  ...   \n",
       "29424                        2                     2     3.0  ...   \n",
       "\n",
       "       is_repeated_guest  previous_cancellations  \\\n",
       "6001                   0                       0   \n",
       "25273                  0                       0   \n",
       "59030                  0                       0   \n",
       "32861                  0                       0   \n",
       "29424                  0                       0   \n",
       "\n",
       "      previous_bookings_not_canceled reserved_room_type booking_changes  \\\n",
       "6001                               0   A                              1   \n",
       "25273                              0   D                              0   \n",
       "59030                              0   A                              0   \n",
       "32861                              0   A                              0   \n",
       "29424                              0   D                              0   \n",
       "\n",
       "       days_in_waiting_list    customer_type  required_car_parking_spaces  \\\n",
       "6001                      0  Transient-Party                            0   \n",
       "25273                     0        Transient                            0   \n",
       "59030                     0  Transient-Party                            0   \n",
       "32861                     0        Transient                            0   \n",
       "29424                     0        Transient                            0   \n",
       "\n",
       "      total_of_special_requests  total_nights  \n",
       "6001                          0             3  \n",
       "25273                         0             8  \n",
       "59030                         1             2  \n",
       "32861                         0             1  \n",
       "29424                         0             4  \n",
       "\n",
       "[5 rows x 25 columns]"
      ]
     },
     "execution_count": 10,
     "metadata": {},
     "output_type": "execute_result"
    }
   ],
   "source": [
    "hotel_train.sample(5)"
   ]
  },
  {
   "cell_type": "code",
   "execution_count": 11,
   "metadata": {},
   "outputs": [
    {
     "data": {
      "text/html": [
       "<div>\n",
       "<style scoped>\n",
       "    .dataframe tbody tr th:only-of-type {\n",
       "        vertical-align: middle;\n",
       "    }\n",
       "\n",
       "    .dataframe tbody tr th {\n",
       "        vertical-align: top;\n",
       "    }\n",
       "\n",
       "    .dataframe thead th {\n",
       "        text-align: right;\n",
       "    }\n",
       "</style>\n",
       "<table border=\"1\" class=\"dataframe\">\n",
       "  <thead>\n",
       "    <tr style=\"text-align: right;\">\n",
       "      <th></th>\n",
       "      <th>id</th>\n",
       "      <th>is_canceled</th>\n",
       "      <th>lead_time</th>\n",
       "      <th>arrival_date_year</th>\n",
       "      <th>arrival_date_month</th>\n",
       "      <th>arrival_date_week_number</th>\n",
       "      <th>arrival_date_day_of_month</th>\n",
       "      <th>stays_in_weekend_nights</th>\n",
       "      <th>stays_in_week_nights</th>\n",
       "      <th>adults</th>\n",
       "      <th>...</th>\n",
       "      <th>is_repeated_guest</th>\n",
       "      <th>previous_cancellations</th>\n",
       "      <th>previous_bookings_not_canceled</th>\n",
       "      <th>reserved_room_type</th>\n",
       "      <th>booking_changes</th>\n",
       "      <th>days_in_waiting_list</th>\n",
       "      <th>customer_type</th>\n",
       "      <th>required_car_parking_spaces</th>\n",
       "      <th>total_of_special_requests</th>\n",
       "      <th>total_nights</th>\n",
       "    </tr>\n",
       "  </thead>\n",
       "  <tbody>\n",
       "    <tr>\n",
       "      <th>9351</th>\n",
       "      <td>46540</td>\n",
       "      <td>1</td>\n",
       "      <td>134.0</td>\n",
       "      <td>2017</td>\n",
       "      <td>February</td>\n",
       "      <td>8</td>\n",
       "      <td>25</td>\n",
       "      <td>0</td>\n",
       "      <td>1</td>\n",
       "      <td>1.0</td>\n",
       "      <td>...</td>\n",
       "      <td>0</td>\n",
       "      <td>0</td>\n",
       "      <td>0</td>\n",
       "      <td>A</td>\n",
       "      <td>0</td>\n",
       "      <td>0</td>\n",
       "      <td>Transient-Party</td>\n",
       "      <td>0</td>\n",
       "      <td>0</td>\n",
       "      <td>1</td>\n",
       "    </tr>\n",
       "    <tr>\n",
       "      <th>12636</th>\n",
       "      <td>49825</td>\n",
       "      <td>1</td>\n",
       "      <td>15.0</td>\n",
       "      <td>2017</td>\n",
       "      <td>May</td>\n",
       "      <td>18</td>\n",
       "      <td>4</td>\n",
       "      <td>0</td>\n",
       "      <td>2</td>\n",
       "      <td>2.0</td>\n",
       "      <td>...</td>\n",
       "      <td>0</td>\n",
       "      <td>0</td>\n",
       "      <td>0</td>\n",
       "      <td>A</td>\n",
       "      <td>0</td>\n",
       "      <td>0</td>\n",
       "      <td>Transient</td>\n",
       "      <td>0</td>\n",
       "      <td>1</td>\n",
       "      <td>2</td>\n",
       "    </tr>\n",
       "    <tr>\n",
       "      <th>26709</th>\n",
       "      <td>92201</td>\n",
       "      <td>0</td>\n",
       "      <td>50.0</td>\n",
       "      <td>2017</td>\n",
       "      <td>May</td>\n",
       "      <td>21</td>\n",
       "      <td>22</td>\n",
       "      <td>1</td>\n",
       "      <td>3</td>\n",
       "      <td>2.0</td>\n",
       "      <td>...</td>\n",
       "      <td>0</td>\n",
       "      <td>0</td>\n",
       "      <td>0</td>\n",
       "      <td>D</td>\n",
       "      <td>0</td>\n",
       "      <td>0</td>\n",
       "      <td>Transient</td>\n",
       "      <td>0</td>\n",
       "      <td>1</td>\n",
       "      <td>4</td>\n",
       "    </tr>\n",
       "    <tr>\n",
       "      <th>16749</th>\n",
       "      <td>53938</td>\n",
       "      <td>1</td>\n",
       "      <td>351.0</td>\n",
       "      <td>2017</td>\n",
       "      <td>July</td>\n",
       "      <td>29</td>\n",
       "      <td>18</td>\n",
       "      <td>0</td>\n",
       "      <td>4</td>\n",
       "      <td>3.0</td>\n",
       "      <td>...</td>\n",
       "      <td>0</td>\n",
       "      <td>0</td>\n",
       "      <td>0</td>\n",
       "      <td>D</td>\n",
       "      <td>0</td>\n",
       "      <td>0</td>\n",
       "      <td>Transient</td>\n",
       "      <td>0</td>\n",
       "      <td>0</td>\n",
       "      <td>4</td>\n",
       "    </tr>\n",
       "    <tr>\n",
       "      <th>27038</th>\n",
       "      <td>92530</td>\n",
       "      <td>0</td>\n",
       "      <td>119.0</td>\n",
       "      <td>2017</td>\n",
       "      <td>May</td>\n",
       "      <td>22</td>\n",
       "      <td>29</td>\n",
       "      <td>1</td>\n",
       "      <td>1</td>\n",
       "      <td>2.0</td>\n",
       "      <td>...</td>\n",
       "      <td>0</td>\n",
       "      <td>0</td>\n",
       "      <td>0</td>\n",
       "      <td>A</td>\n",
       "      <td>0</td>\n",
       "      <td>0</td>\n",
       "      <td>Transient</td>\n",
       "      <td>0</td>\n",
       "      <td>0</td>\n",
       "      <td>2</td>\n",
       "    </tr>\n",
       "  </tbody>\n",
       "</table>\n",
       "<p>5 rows × 25 columns</p>\n",
       "</div>"
      ],
      "text/plain": [
       "          id  is_canceled  lead_time  arrival_date_year arrival_date_month  \\\n",
       "9351   46540            1      134.0               2017           February   \n",
       "12636  49825            1       15.0               2017                May   \n",
       "26709  92201            0       50.0               2017                May   \n",
       "16749  53938            1      351.0               2017               July   \n",
       "27038  92530            0      119.0               2017                May   \n",
       "\n",
       "       arrival_date_week_number  arrival_date_day_of_month  \\\n",
       "9351                          8                         25   \n",
       "12636                        18                          4   \n",
       "26709                        21                         22   \n",
       "16749                        29                         18   \n",
       "27038                        22                         29   \n",
       "\n",
       "       stays_in_weekend_nights  stays_in_week_nights  adults  ...  \\\n",
       "9351                         0                     1     1.0  ...   \n",
       "12636                        0                     2     2.0  ...   \n",
       "26709                        1                     3     2.0  ...   \n",
       "16749                        0                     4     3.0  ...   \n",
       "27038                        1                     1     2.0  ...   \n",
       "\n",
       "       is_repeated_guest  previous_cancellations  \\\n",
       "9351                   0                       0   \n",
       "12636                  0                       0   \n",
       "26709                  0                       0   \n",
       "16749                  0                       0   \n",
       "27038                  0                       0   \n",
       "\n",
       "      previous_bookings_not_canceled reserved_room_type booking_changes  \\\n",
       "9351                               0   A                              0   \n",
       "12636                              0   A                              0   \n",
       "26709                              0   D                              0   \n",
       "16749                              0   D                              0   \n",
       "27038                              0   A                              0   \n",
       "\n",
       "       days_in_waiting_list    customer_type  required_car_parking_spaces  \\\n",
       "9351                      0  Transient-Party                            0   \n",
       "12636                     0        Transient                            0   \n",
       "26709                     0        Transient                            0   \n",
       "16749                     0        Transient                            0   \n",
       "27038                     0        Transient                            0   \n",
       "\n",
       "      total_of_special_requests  total_nights  \n",
       "9351                          0             1  \n",
       "12636                         1             2  \n",
       "26709                         1             4  \n",
       "16749                         0             4  \n",
       "27038                         0             2  \n",
       "\n",
       "[5 rows x 25 columns]"
      ]
     },
     "execution_count": 11,
     "metadata": {},
     "output_type": "execute_result"
    }
   ],
   "source": [
    "hotel_test.sample(5)"
   ]
  },
  {
   "cell_type": "code",
   "execution_count": null,
   "metadata": {
    "scrolled": true
   },
   "outputs": [],
   "source": [
    "#profile_train = ProfileReport(hotel_train, title=\"Pandas Profiling Report\")\n",
    "\n",
    "# запускаем показ профиля\n",
    "#profile_train"
   ]
  },
  {
   "cell_type": "code",
   "execution_count": null,
   "metadata": {},
   "outputs": [],
   "source": [
    "#profile_test = ProfileReport(hotel_test, title=\"Pandas Profiling Report\")\n",
    "\n",
    "# запускаем показ профиля\n",
    "#profile_test"
   ]
  },
  {
   "cell_type": "code",
   "execution_count": 14,
   "metadata": {},
   "outputs": [
    {
     "data": {
      "image/png": "[encoded data removed]",
      "text/plain": [
       "<Figure size 720x432 with 1 Axes>"
      ]
     },
     "metadata": {
      "needs_background": "light"
     },
     "output_type": "display_data"
    },
    {
     "data": {
      "image/png": "[encoded data removed]",
      "text/plain": [
       "<Figure size 576x432 with 1 Axes>"
      ]
     },
     "metadata": {},
     "output_type": "display_data"
    },
    {
     "data": {
      "image/png": "[encoded data removed]",
      "text/plain": [
       "<Figure size 576x432 with 1 Axes>"
      ]
     },
     "metadata": {},
     "output_type": "display_data"
    },
    {
     "data": {
      "image/png": "[encoded data removed]",
      "text/plain": [
       "<Figure size 720x432 with 1 Axes>"
      ]
     },
     "metadata": {
      "needs_background": "light"
     },
     "output_type": "display_data"
    }
   ],
   "source": [
    "hotel_data = pd.concat([hotel_train, hotel_test])\n",
    "\n",
    "# Визуализация доли клиентов по странам\n",
    "plt.figure(figsize=(10, 6))\n",
    "country_counts = hotel_data['country'].value_counts(normalize=True).head(10)\n",
    "country_counts.plot(kind='bar')\n",
    "plt.title('Доля клиентов по странам (Топ 10)')\n",
    "plt.xlabel('Страна')\n",
    "plt.ylabel('Доля клиентов')\n",
    "plt.xticks(rotation=45)\n",
    "plt.tight_layout()\n",
    "plt.show()\n",
    "\n",
    "# Визуализация доли клиентов по типу заказчика\n",
    "plt.figure(figsize=(8, 6))\n",
    "customer_type_counts = hotel_data['customer_type'].value_counts(normalize=True)\n",
    "customer_type_counts.plot(kind='pie', autopct='%1.1f%%')\n",
    "plt.title('Доля клиентов по типу заказчика')\n",
    "plt.ylabel('')\n",
    "plt.tight_layout()\n",
    "plt.show()\n",
    "\n",
    "# Визуализация доли клиентов по типу питания\n",
    "plt.figure(figsize=(8, 6))\n",
    "meal_counts = hotel_data['meal'].value_counts(normalize=True)\n",
    "meal_counts.plot(kind='pie', autopct='%1.1f%%')\n",
    "plt.title('Доля клиентов по типу питания')\n",
    "plt.ylabel('')\n",
    "plt.tight_layout()\n",
    "plt.show()\n",
    "\n",
    "# Визуализация доли клиентов по категориям номеров\n",
    "plt.figure(figsize=(10, 6))\n",
    "room_type_counts = hotel_data['reserved_room_type'].value_counts(normalize=True)\n",
    "room_type_counts.plot(kind='bar')\n",
    "plt.title('Доля клиентов по категориям номеров')\n",
    "plt.xlabel('Категория номера')\n",
    "plt.ylabel('Доля клиентов')\n",
    "plt.xticks(rotation=0)\n",
    "plt.tight_layout()\n",
    "plt.show()"
   ]
  },
  {
   "cell_type": "code",
   "execution_count": 15,
   "metadata": {},
   "outputs": [
    {
     "data": {
      "image/png": "[encoded data removed]",
      "text/plain": [
       "<Figure size 1296x1008 with 13 Axes>"
      ]
     },
     "metadata": {
      "needs_background": "light"
     },
     "output_type": "display_data"
    },
    {
     "data": {
      "image/png": "[encoded data removed]",
      "text/plain": [
       "<Figure size 1296x1152 with 9 Axes>"
      ]
     },
     "metadata": {
      "needs_background": "light"
     },
     "output_type": "display_data"
    }
   ],
   "source": [
    "\n",
    "numerical_columns = ['adults', 'babies', 'booking_changes', 'children', 'days_in_waiting_list', \n",
    "                     'lead_time', 'previous_bookings_not_canceled', 'previous_cancellations', \n",
    "                     'required_car_parking_spaces', 'stays_in_weekend_nights', 'stays_in_week_nights', \n",
    "                     'total_nights', 'total_of_special_requests']\n",
    "\n",
    "plt.figure(figsize=(18, 14))\n",
    "for i, col in enumerate(numerical_columns, 1):\n",
    "    plt.subplot(4, 4, i)\n",
    "    sns.histplot(data=hotel_data, x=col, hue='is_canceled', multiple='stack', bins=30)\n",
    "    plt.title(f'{col.capitalize()}')\n",
    "plt.tight_layout()\n",
    "plt.show()\n",
    "\n",
    "\n",
    "categorical_columns = ['arrival_date_year', 'arrival_date_month', 'arrival_date_week_number', \n",
    "                       'arrival_date_day_of_month', 'customer_type', 'distribution_channel', \n",
    "                       'is_repeated_guest', 'meal', 'reserved_room_type']\n",
    "\n",
    "plt.figure(figsize=(18, 16))\n",
    "for i, col in enumerate(categorical_columns, 1):\n",
    "    plt.subplot(3, 3, i)\n",
    "    sns.countplot(data=hotel_data, x=col, hue='is_canceled')\n",
    "    plt.title(f'{col.capitalize()}')\n",
    "    plt.xticks(rotation=45)\n",
    "plt.tight_layout()\n",
    "plt.show()"
   ]
  },
  {
   "cell_type": "code",
   "execution_count": 16,
   "metadata": {},
   "outputs": [
    {
     "data": {
      "image/png": "[encoded data removed]",
      "text/plain": [
       "<Figure size 1296x1008 with 13 Axes>"
      ]
     },
     "metadata": {
      "needs_background": "light"
     },
     "output_type": "display_data"
    }
   ],
   "source": [
    "plt.figure(figsize=(18, 14))\n",
    "for i, col in enumerate(numerical_columns, 1):\n",
    "    plt.subplot(4, 4, i)\n",
    "    sns.boxplot(data=hotel_data, x='is_canceled', y=col)\n",
    "    plt.title(f'{col.capitalize()}')\n",
    "plt.tight_layout()\n",
    "plt.show()"
   ]
  },
  {
   "cell_type": "code",
   "execution_count": 17,
   "metadata": {},
   "outputs": [
    {
     "data": {
      "image/png": "[encoded data removed]",
      "text/plain": [
       "<Figure size 1296x720 with 18 Axes>"
      ]
     },
     "metadata": {
      "needs_background": "light"
     },
     "output_type": "display_data"
    }
   ],
   "source": [
    "\n",
    "numeric_columns = ['adults', 'arrival_date_year', 'arrival_date_week_number', 'arrival_date_day_of_month',\n",
    "                   'babies', 'booking_changes', 'children', 'days_in_waiting_list', 'is_canceled',\n",
    "                   'is_repeated_guest', 'lead_time', 'previous_bookings_not_canceled', 'previous_cancellations',\n",
    "                   'required_car_parking_spaces', 'stays_in_weekend_nights', 'stays_in_week_nights',\n",
    "                   'total_nights', 'total_of_special_requests']\n",
    "\n",
    "\n",
    "plt.figure(figsize=(18, 10))\n",
    "\n",
    "for i, column in enumerate(numeric_columns):\n",
    "    plt.subplot(6, 4, i + 1) \n",
    "    sns.boxplot(data=hotel_train[column])  \n",
    "    plt.title(column)  \n",
    "\n",
    "plt.tight_layout()  \n",
    "plt.show()  "
   ]
  },
  {
   "cell_type": "markdown",
   "metadata": {},
   "source": [
    "Эти показатели могут очень сильно помочь бизнесу для планирования стратегии:\n",
    "\n",
    "1. Почти половина туристов заселяется из Португалии, было бы очень продуктивно, если сеть давала таргетированную рекламу на данную страну, брала обратную связь от туристов, а также можно взять в штат сотрудников, владеющих португальским языком. \n",
    "\n",
    "2. По типу заказов почти 80% заселенцев никак не связаны с договором или групповым заездом, бизнес может сконцентрироваться на предоставлении персонализированных услуг. Это означает, что можно уделить больше внимания индивидуальным потребностям клиентов, улучшить обслуживание и создать более гибкую систему бронирования.\n",
    "\n",
    "3. По типу питания так же почти 80% включают себе в услугу только завтрак, это позволяет бизнесу сосредоточиться на основной своей услуге. Можно улучшить качество завтраков, предложить больше вариантов и разнообразия, что может увеличить удовлетворенность клиентов.\n",
    "\n",
    "4. Также большинство гостей предпочитают один и тот же тип номеров, это может быть полезной информацией для бизнеса: стоить сделать акцент на популярных номерах, ведь зная предпочтения клиентов, бизнес может уделить больше внимания и ресурсов на улучшение и поддержание популярных типов номеров. Это может включать обновление удобств, повышение комфорта и создание особых предложений для этих номеров.\n",
    "\n",
    "5. А соотношение ушедших/оставшихся клиентов по признакам поможет выяснить явные проблемы, препятствующие возможному комфортному пребыванию или, например, сократить возможность бронирования за какой-то период, потому что чем раньше была бронь, тем выше шанс отказа. Но со всеми метриками надо быть аккуратнее, чтобы не отпугнуть постояльцев радикальными изменениями."
   ]
  },
  {
   "cell_type": "markdown",
   "metadata": {},
   "source": [
    "**В исходных датафреймах нет пропущенных и дублирующихся значений**"
   ]
  },
  {
   "cell_type": "markdown",
   "metadata": {},
   "source": [
    "**Мы также можем удалить столбец `id`, так как наличие такого большого количества уникальных значений создает сложности для решения задачи, однако не приносит ценности для качества будущей модели:**"
   ]
  },
  {
   "cell_type": "code",
   "execution_count": 18,
   "metadata": {},
   "outputs": [],
   "source": [
    "hotel_train.drop(columns='id', inplace=True)\n",
    "hotel_test.drop(columns='id', inplace=True)"
   ]
  },
  {
   "cell_type": "markdown",
   "metadata": {},
   "source": [
    "**Проверим не появились ли дубликаты после удаления столбец `id`:**"
   ]
  },
  {
   "cell_type": "code",
   "execution_count": 19,
   "metadata": {},
   "outputs": [
    {
     "name": "stdout",
     "output_type": "stream",
     "text": [
      "False    43852\n",
      "True     21377\n",
      "dtype: int64\n",
      "False    24695\n",
      "True      7717\n",
      "dtype: int64\n"
     ]
    }
   ],
   "source": [
    "print(hotel_train.duplicated().value_counts())\n",
    "print(hotel_test.duplicated().value_counts())"
   ]
  },
  {
   "cell_type": "markdown",
   "metadata": {},
   "source": [
    "**К сожалению, предположение оказалось верным, но мы не можем выяснить их причину появления без более детальной информации. Так как даже без этих строк количество данных остаётся существенным для исследования, то принимаем решение об их удалении.**"
   ]
  },
  {
   "cell_type": "code",
   "execution_count": 20,
   "metadata": {},
   "outputs": [],
   "source": [
    "hotel_train.drop_duplicates(inplace=True, ignore_index=True)\n",
    "hotel_test.drop_duplicates(inplace=True, ignore_index=True)"
   ]
  },
  {
   "cell_type": "markdown",
   "metadata": {},
   "source": [
    "**Перейдем к более детальному изучению наших данных и столбцов, используя pandas_profiling отчёты.**"
   ]
  },
  {
   "cell_type": "markdown",
   "metadata": {},
   "source": [
    "**В столбцах `reserved_room_type - тип забронированной комнаты` и `meal - опции заказа` есть лишние пробелы, уберем их:**"
   ]
  },
  {
   "cell_type": "code",
   "execution_count": 21,
   "metadata": {},
   "outputs": [
    {
     "name": "stdout",
     "output_type": "stream",
     "text": [
      "['A               ' 'E               ' 'G               '\n",
      " 'D               ' 'F               ' 'C               '\n",
      " 'B               ']\n",
      "['BB       ' 'HB       ' 'SC' 'FB       ' 'SC       ']\n"
     ]
    }
   ],
   "source": [
    "unique_reserved_room_type = hotel_test['reserved_room_type'].unique()\n",
    "print(unique_reserved_room_type)\n",
    "unique_meal = hotel_test['meal'].unique()\n",
    "print(unique_meal)"
   ]
  },
  {
   "cell_type": "code",
   "execution_count": 22,
   "metadata": {},
   "outputs": [
    {
     "name": "stdout",
     "output_type": "stream",
     "text": [
      "['A' 'E' 'G' 'D' 'F' 'C' 'B']\n",
      "['BB' 'HB' 'SC' 'FB']\n"
     ]
    }
   ],
   "source": [
    "# Убедимся, что все значения приведены к строковому типу \n",
    "hotel_train['reserved_room_type'] = hotel_train['reserved_room_type'].astype(str)\n",
    "hotel_test['reserved_room_type'] = hotel_test['reserved_room_type'].astype(str)\n",
    "hotel_train['meal'] = hotel_train['meal'].astype(str)\n",
    "hotel_test['meal'] = hotel_test['meal'].astype(str)\n",
    "\n",
    "# Убираем лишние пробелы\n",
    "hotel_train['reserved_room_type'] = hotel_train['reserved_room_type'].str.strip()\n",
    "hotel_test['reserved_room_type'] = hotel_test['reserved_room_type'].str.strip()\n",
    "hotel_train['meal'] = hotel_train['meal'].str.strip()\n",
    "hotel_test['meal'] = hotel_test['meal'].str.strip()\n",
    "\n",
    "# Перезаписываем обновленные значения в столбцы\n",
    "hotel_train['reserved_room_type'] = hotel_train['reserved_room_type']\n",
    "hotel_test['reserved_room_type'] = hotel_test['reserved_room_type']\n",
    "hotel_train['meal'] = hotel_train['meal']\n",
    "hotel_test['meal'] = hotel_test['meal']\n",
    "\n",
    "# Проверяем уникальные значения\n",
    "unique_reserved_room_type = hotel_test['reserved_room_type'].unique()\n",
    "print(unique_reserved_room_type)\n",
    "unique_meal = hotel_test['meal'].unique()\n",
    "print(unique_meal)"
   ]
  },
  {
   "cell_type": "markdown",
   "metadata": {},
   "source": [
    "**В столбце `babies — количество младенцев` есть два аномальных значения с 9 и 10 младенцами. Избавимся от этих аномальных значений, все же у нас сеть отелей, а не дом малютки :)**"
   ]
  },
  {
   "cell_type": "code",
   "execution_count": 23,
   "metadata": {},
   "outputs": [],
   "source": [
    "hotel_train = hotel_train[hotel_train['babies'] < 9]\n",
    "hotel_test = hotel_test[hotel_test['babies'] < 9]"
   ]
  },
  {
   "cell_type": "markdown",
   "metadata": {},
   "source": [
    "**В столбце `required_car_parking_spaces — необходимость места для автомобиля` тоже есть лишние значения, избавимся от них:**"
   ]
  },
  {
   "cell_type": "code",
   "execution_count": 24,
   "metadata": {},
   "outputs": [],
   "source": [
    "hotel_train = hotel_train[hotel_train['required_car_parking_spaces'] <= 1]\n",
    "hotel_test = hotel_test[hotel_test['required_car_parking_spaces'] <= 1]"
   ]
  },
  {
   "cell_type": "markdown",
   "metadata": {},
   "source": [
    "**Вывод:**\n",
    "- Выяснили, что в исходных датафреймах нет пропущенных и дублирующихся значений\n",
    "- Удалили столбец id, так как наличие такого большого количества уникальных значений создает сложности для решения задачи, однако не приносит ценности для качества будущей модели, удалили дублирующиеся строки после удаления столбца\n",
    "- В столбцах reserved_room_type - тип забронированной комнаты и meal - опции заказа были лишние пробелы, убрали их\n",
    "- В столбце babies — количество младенцев было два аномальных значения с 9 и 10 младенцами. Избавились от этих аномальных значений, все же у нас сеть отелей, а не дом малютки :)\n",
    "- В столбце required_car_parking_spaces — необходимость места для автомобиля тоже были лишние значения, избавились от них"
   ]
  },
  {
   "cell_type": "markdown",
   "metadata": {},
   "source": [
    "### Шаг 3. Формулировка ML-задачи на основе бизнес-задачи"
   ]
  },
  {
   "cell_type": "markdown",
   "metadata": {},
   "source": [
    "**Оценим прибыль отеля без внедрения депозитов:**"
   ]
  },
  {
   "cell_type": "markdown",
   "metadata": {},
   "source": [
    "- Определим стоимость номеров и разового обслуживания: Зададим цены на различные типы номеров (room_prices) и их обслуживание.\n",
    "\n",
    "**Создадим функцию для расчета доходности бронирования:**\n",
    "\n",
    "- Расчет сезонного коэффициента: В зависимости от месяца заезда, определяется коэффициент сезонности, который влияет на цену номера.\n",
    "- Расчет стоимости номера: Используются данные о типе зарезервированного номера, общем количестве ночей и сезонном коэффициенте для определения стоимости проживания.\n",
    "- Расчет затрат на обслуживание: Затраты на уборку вычисляются в зависимости от количества ночей проживания и типа номера.\n",
    "- Расчет затрат при отмене бронирования: Если бронь была отменена (is_canceled == 1), то учитывается убыток от отмены бронирования, который включает стоимость одной уборки и одной ночи с учетом сезонного коэффициента.\n",
    "- Применение функции к данным Функция calculate_income применяется к каждой записи (строке) в DataFrame hotel_train и hotel_test, чтобы рассчитать доходность бронирования и записать результат в новый столбец income.\n",
    "\n",
    "Этот код позволить оценить доходность отдельных бронирований, учитывая различные факторы, такие как тип номера, длительность проживания, сезонные изменения цен и статус отмены брони."
   ]
  },
  {
   "cell_type": "code",
   "execution_count": 25,
   "metadata": {},
   "outputs": [],
   "source": [
    "# Определение стоимости номеров и разового обслуживания\n",
    "room_prices = {\n",
    "    'A': {'night': 1000, 'service': 400},\n",
    "    'B': {'night': 800, 'service': 350},\n",
    "    'C': {'night': 600, 'service': 350},\n",
    "    'D': {'night': 550, 'service': 150},\n",
    "    'E': {'night': 500, 'service': 150},\n",
    "    'F': {'night': 450, 'service': 150},\n",
    "    'G': {'night': 350, 'service': 150}\n",
    "}\n",
    "\n",
    "# Функция для расчета доходности бронирования\n",
    "def calculate_income(row):\n",
    "    season_coefficient = 1.0\n",
    "    if row['arrival_date_month'] in ['March', 'April', 'May', 'September', 'October', 'November']:\n",
    "        season_coefficient += 0.2  # Повышение цен на 20% весной и осенью\n",
    "    elif row['arrival_date_month'] in ['June', 'July', 'August']:\n",
    "        season_coefficient += 0.4  # Повышение цен на 40% летом\n",
    "    \n",
    "    room_cost = room_prices[row['reserved_room_type']]['night'] * row['total_nights'] * season_coefficient\n",
    "    service_cost = room_prices[row['reserved_room_type']]['service']\n",
    "    \n",
    "    cleaning_cost = service_cost * (row['total_nights'] // 2) if row['total_nights'] >= 2 else service_cost\n",
    "    \n",
    "    cancellation_cost = service_cost + room_prices[row['reserved_room_type']]['night'] * season_coefficient\n",
    "    \n",
    "    total_income = -cancellation_cost if row['is_canceled'] == 1 else room_cost - cleaning_cost\n",
    "    \n",
    "    return total_income\n",
    "\n",
    "\n",
    "\n",
    "# Применение функции к каждой записи в DataFrame (hotel_train или hotel_test)\n",
    "hotel_train['income'] = hotel_train.apply(calculate_income, axis=1)\n",
    "hotel_test['income'] = hotel_test.apply(calculate_income, axis=1)"
   ]
  },
  {
   "cell_type": "code",
   "execution_count": 26,
   "metadata": {},
   "outputs": [],
   "source": [
    "def calculate_income(row):\n",
    "    season_coefficient = 1.0\n",
    "    if row['arrival_date_month'] in ['March', 'April', 'May', 'September', 'October', 'November']:\n",
    "        season_coefficient += 0.2  # Повышение цен на 20% весной и осенью\n",
    "    elif row['arrival_date_month'] in ['June', 'July', 'August']:\n",
    "        season_coefficient += 0.4  # Повышение цен на 40% летом\n",
    "    \n",
    "    room_cost = room_prices[row['reserved_room_type']]['night'] * row['total_nights'] * season_coefficient\n",
    "    service_cost = room_prices[row['reserved_room_type']]['service']\n",
    "    \n",
    "    # Расчет количества уборок\n",
    "    cleanings = 1 + row['total_nights'] // 2\n",
    "    \n",
    "    # Расчет стоимости уборок\n",
    "    cleaning_cost = service_cost * cleanings\n",
    "    \n",
    "    # Расчет стоимости отмены\n",
    "    cancellation_cost = service_cost + room_prices[row['reserved_room_type']]['night'] * season_coefficient\n",
    "    \n",
    "    # Расчет общего дохода\n",
    "    total_income = -cancellation_cost if row['is_canceled'] == 1 else room_cost - cleaning_cost\n",
    "    \n",
    "    return total_income\n",
    "\n",
    "# Применение функции к каждой записи в DataFrame (hotel_train или hotel_test)\n",
    "hotel_train['income'] = hotel_train.apply(calculate_income, axis=1)\n",
    "hotel_test['income'] = hotel_test.apply(calculate_income, axis=1)"
   ]
  },
  {
   "cell_type": "code",
   "execution_count": 27,
   "metadata": {},
   "outputs": [
    {
     "data": {
      "text/html": [
       "<div>\n",
       "<style scoped>\n",
       "    .dataframe tbody tr th:only-of-type {\n",
       "        vertical-align: middle;\n",
       "    }\n",
       "\n",
       "    .dataframe tbody tr th {\n",
       "        vertical-align: top;\n",
       "    }\n",
       "\n",
       "    .dataframe thead th {\n",
       "        text-align: right;\n",
       "    }\n",
       "</style>\n",
       "<table border=\"1\" class=\"dataframe\">\n",
       "  <thead>\n",
       "    <tr style=\"text-align: right;\">\n",
       "      <th></th>\n",
       "      <th>is_canceled</th>\n",
       "      <th>lead_time</th>\n",
       "      <th>arrival_date_year</th>\n",
       "      <th>arrival_date_month</th>\n",
       "      <th>arrival_date_week_number</th>\n",
       "      <th>arrival_date_day_of_month</th>\n",
       "      <th>stays_in_weekend_nights</th>\n",
       "      <th>stays_in_week_nights</th>\n",
       "      <th>adults</th>\n",
       "      <th>children</th>\n",
       "      <th>...</th>\n",
       "      <th>previous_cancellations</th>\n",
       "      <th>previous_bookings_not_canceled</th>\n",
       "      <th>reserved_room_type</th>\n",
       "      <th>booking_changes</th>\n",
       "      <th>days_in_waiting_list</th>\n",
       "      <th>customer_type</th>\n",
       "      <th>required_car_parking_spaces</th>\n",
       "      <th>total_of_special_requests</th>\n",
       "      <th>total_nights</th>\n",
       "      <th>income</th>\n",
       "    </tr>\n",
       "  </thead>\n",
       "  <tbody>\n",
       "    <tr>\n",
       "      <th>35120</th>\n",
       "      <td>0</td>\n",
       "      <td>146.0</td>\n",
       "      <td>2016</td>\n",
       "      <td>July</td>\n",
       "      <td>28</td>\n",
       "      <td>8</td>\n",
       "      <td>0</td>\n",
       "      <td>1</td>\n",
       "      <td>2.0</td>\n",
       "      <td>0.0</td>\n",
       "      <td>...</td>\n",
       "      <td>0</td>\n",
       "      <td>0</td>\n",
       "      <td>D</td>\n",
       "      <td>0</td>\n",
       "      <td>0</td>\n",
       "      <td>Transient-Party</td>\n",
       "      <td>0</td>\n",
       "      <td>2</td>\n",
       "      <td>1</td>\n",
       "      <td>620.0</td>\n",
       "    </tr>\n",
       "    <tr>\n",
       "      <th>43800</th>\n",
       "      <td>0</td>\n",
       "      <td>1.0</td>\n",
       "      <td>2016</td>\n",
       "      <td>December</td>\n",
       "      <td>53</td>\n",
       "      <td>31</td>\n",
       "      <td>1</td>\n",
       "      <td>1</td>\n",
       "      <td>1.0</td>\n",
       "      <td>0.0</td>\n",
       "      <td>...</td>\n",
       "      <td>0</td>\n",
       "      <td>0</td>\n",
       "      <td>D</td>\n",
       "      <td>1</td>\n",
       "      <td>0</td>\n",
       "      <td>Transient</td>\n",
       "      <td>0</td>\n",
       "      <td>0</td>\n",
       "      <td>2</td>\n",
       "      <td>800.0</td>\n",
       "    </tr>\n",
       "    <tr>\n",
       "      <th>38383</th>\n",
       "      <td>0</td>\n",
       "      <td>1.0</td>\n",
       "      <td>2016</td>\n",
       "      <td>September</td>\n",
       "      <td>37</td>\n",
       "      <td>6</td>\n",
       "      <td>0</td>\n",
       "      <td>1</td>\n",
       "      <td>2.0</td>\n",
       "      <td>0.0</td>\n",
       "      <td>...</td>\n",
       "      <td>0</td>\n",
       "      <td>0</td>\n",
       "      <td>A</td>\n",
       "      <td>1</td>\n",
       "      <td>0</td>\n",
       "      <td>Transient</td>\n",
       "      <td>0</td>\n",
       "      <td>2</td>\n",
       "      <td>1</td>\n",
       "      <td>800.0</td>\n",
       "    </tr>\n",
       "    <tr>\n",
       "      <th>26938</th>\n",
       "      <td>0</td>\n",
       "      <td>0.0</td>\n",
       "      <td>2015</td>\n",
       "      <td>November</td>\n",
       "      <td>47</td>\n",
       "      <td>20</td>\n",
       "      <td>2</td>\n",
       "      <td>5</td>\n",
       "      <td>1.0</td>\n",
       "      <td>0.0</td>\n",
       "      <td>...</td>\n",
       "      <td>0</td>\n",
       "      <td>0</td>\n",
       "      <td>A</td>\n",
       "      <td>1</td>\n",
       "      <td>0</td>\n",
       "      <td>Transient</td>\n",
       "      <td>0</td>\n",
       "      <td>1</td>\n",
       "      <td>7</td>\n",
       "      <td>6800.0</td>\n",
       "    </tr>\n",
       "    <tr>\n",
       "      <th>37949</th>\n",
       "      <td>0</td>\n",
       "      <td>9.0</td>\n",
       "      <td>2016</td>\n",
       "      <td>October</td>\n",
       "      <td>42</td>\n",
       "      <td>13</td>\n",
       "      <td>0</td>\n",
       "      <td>2</td>\n",
       "      <td>1.0</td>\n",
       "      <td>0.0</td>\n",
       "      <td>...</td>\n",
       "      <td>0</td>\n",
       "      <td>2</td>\n",
       "      <td>A</td>\n",
       "      <td>0</td>\n",
       "      <td>0</td>\n",
       "      <td>Transient</td>\n",
       "      <td>1</td>\n",
       "      <td>1</td>\n",
       "      <td>2</td>\n",
       "      <td>1600.0</td>\n",
       "    </tr>\n",
       "  </tbody>\n",
       "</table>\n",
       "<p>5 rows × 25 columns</p>\n",
       "</div>"
      ],
      "text/plain": [
       "       is_canceled  lead_time  arrival_date_year arrival_date_month  \\\n",
       "35120            0      146.0               2016               July   \n",
       "43800            0        1.0               2016           December   \n",
       "38383            0        1.0               2016          September   \n",
       "26938            0        0.0               2015           November   \n",
       "37949            0        9.0               2016            October   \n",
       "\n",
       "       arrival_date_week_number  arrival_date_day_of_month  \\\n",
       "35120                        28                          8   \n",
       "43800                        53                         31   \n",
       "38383                        37                          6   \n",
       "26938                        47                         20   \n",
       "37949                        42                         13   \n",
       "\n",
       "       stays_in_weekend_nights  stays_in_week_nights  adults  children  ...  \\\n",
       "35120                        0                     1     2.0       0.0  ...   \n",
       "43800                        1                     1     1.0       0.0  ...   \n",
       "38383                        0                     1     2.0       0.0  ...   \n",
       "26938                        2                     5     1.0       0.0  ...   \n",
       "37949                        0                     2     1.0       0.0  ...   \n",
       "\n",
       "       previous_cancellations previous_bookings_not_canceled  \\\n",
       "35120                       0                              0   \n",
       "43800                       0                              0   \n",
       "38383                       0                              0   \n",
       "26938                       0                              0   \n",
       "37949                       0                              2   \n",
       "\n",
       "      reserved_room_type booking_changes  days_in_waiting_list  \\\n",
       "35120                  D               0                     0   \n",
       "43800                  D               1                     0   \n",
       "38383                  A               1                     0   \n",
       "26938                  A               1                     0   \n",
       "37949                  A               0                     0   \n",
       "\n",
       "         customer_type  required_car_parking_spaces total_of_special_requests  \\\n",
       "35120  Transient-Party                            0                         2   \n",
       "43800        Transient                            0                         0   \n",
       "38383        Transient                            0                         2   \n",
       "26938        Transient                            0                         1   \n",
       "37949        Transient                            1                         1   \n",
       "\n",
       "       total_nights  income  \n",
       "35120             1   620.0  \n",
       "43800             2   800.0  \n",
       "38383             1   800.0  \n",
       "26938             7  6800.0  \n",
       "37949             2  1600.0  \n",
       "\n",
       "[5 rows x 25 columns]"
      ]
     },
     "execution_count": 27,
     "metadata": {},
     "output_type": "execute_result"
    }
   ],
   "source": [
    "hotel_train.sample(5)"
   ]
  },
  {
   "cell_type": "markdown",
   "metadata": {},
   "source": [
    "Построим сводную таблицу выручки по годам для двух датафреймов hotel_train и hotel_test одновременно:"
   ]
  },
  {
   "cell_type": "code",
   "execution_count": 28,
   "metadata": {},
   "outputs": [
    {
     "name": "stdout",
     "output_type": "stream",
     "text": [
      "          income\n",
      "year            \n",
      "2015  17987230.0\n",
      "2016  48428750.0\n",
      "2017  32666790.0\n"
     ]
    }
   ],
   "source": [
    "# Объединяем данные из двух датафреймов\n",
    "combined_data = pd.concat([hotel_train, hotel_test])\n",
    "\n",
    "# Создаем столбец с годом из столбца arrival_date_year\n",
    "combined_data['year'] = combined_data['arrival_date_year']\n",
    "\n",
    "# Сводная таблица по годам и выручке\n",
    "revenue_by_year = combined_data.pivot_table(values='income', index='year', aggfunc='sum')\n",
    "\n",
    "print(revenue_by_year)"
   ]
  },
  {
   "cell_type": "markdown",
   "metadata": {},
   "source": [
    "**Вывод:**\n",
    "\n",
    "- **Рассчитали доходность для каждой записи о бронировании в отеле на основе типа номера, количества забронированных ночей и сезонных факторов. Результаты сохранили в новый столбец income в соответствующих датафреймах hotel_train и hotel_test.**"
   ]
  },
  {
   "cell_type": "markdown",
   "metadata": {},
   "source": [
    "### Шаг 4. Разработка модели ML"
   ]
  },
  {
   "cell_type": "markdown",
   "metadata": {},
   "source": [
    "- Обучим разные модели и оцените их качество кросс-валидацией. Выберем лучшую модель и провермс её на тестовой выборке. Опишим выводы.\n",
    "- Выберем метрику для обучения.\n",
    "- Оценим прибыль, которую принесёт выбранная модель за год."
   ]
  },
  {
   "cell_type": "markdown",
   "metadata": {},
   "source": [
    "Проведем сравнительный анализ различных моделей машинного обучения с использованием кросс-валидации для оценки их производительности. Затем выберем наилучшую модель и протестируем ее на тестовом наборе данных.\n",
    "\n",
    "Учитывая, что данные не сильно несбалансированы, будем использовать несколько метрик для оценки качества моделей: F1, Accuracy, матрицу ошибок, Precision, Recall и оценку прибыли.\n",
    "\n",
    "Будем использовать гармоническое среднее F1 для выбора лучших гиперпараметров.\n",
    "\n",
    "Кроме того, оценим потенциальную прибыль, которую сможет принести выбранная модель за последний год.\n",
    "\n",
    "В качестве моделей для обучения мы рассматриваем три модели на основе ансамблей:\n",
    "\n",
    "- RandomForestClassifier\n",
    "- AdaBoostClassifier\n",
    "- GradientBoostingClassifier\n",
    "\n",
    "\n",
    "А также линейную модель и модель на методе опорных векторов:\n",
    "\n",
    "- LogisticRegression\n",
    "- LinearSVC\n",
    "\n",
    "\n",
    "Это позволит нам сравнить эффективность различных типов моделей и выбрать наилучшую для нашей задачи."
   ]
  },
  {
   "cell_type": "markdown",
   "metadata": {},
   "source": [
    "**Напишем функцию для расчета прибыли моделей. Если модель покажет, что бронь будет отменена, то клиенту предлагается внести депозит. Размер депозита — 80% от стоимости номера за одни сутки и затрат на разовую уборку. Деньги будут списаны со счёта клиента, если он всё же отменит бронь.**"
   ]
  },
  {
   "cell_type": "code",
   "execution_count": 147,
   "metadata": {},
   "outputs": [],
   "source": [
    "# # Определение стоимости номеров и разового обслуживания\n",
    "# room_prices = {\n",
    "#     'A': {'night': 1000, 'service': 400},\n",
    "#     'B': {'night': 800, 'service': 350},\n",
    "#     'C': {'night': 600, 'service': 350},\n",
    "#     'D': {'night': 550, 'service': 150},\n",
    "#     'E': {'night': 500, 'service': 150},\n",
    "#     'F': {'night': 450, 'service': 150},\n",
    "#     'G': {'night': 350, 'service': 150}\n",
    "# }\n",
    "\n",
    "# # Функция для расчета доходности бронирования\n",
    "# def calculate_income_model(row):\n",
    "#     season_coefficient = 1.0\n",
    "#     if row['arrival_date_month'] in ['March', 'April', 'May', 'September', 'October', 'November']:\n",
    "#         season_coefficient += 0.2  # Повышение цен на 20% весной и осенью\n",
    "#     elif row['arrival_date_month'] in ['June', 'July', 'August']:\n",
    "#         season_coefficient += 0.4  # Повышение цен на 40% летом\n",
    "    \n",
    "#     room_cost = room_prices[row['reserved_room_type']]['night'] * row['total_nights'] * season_coefficient\n",
    "#     service_cost = room_prices[row['reserved_room_type']]['service']\n",
    "    \n",
    "#     cleaning_cost = service_cost * (row['total_nights'] // 2) if row['total_nights'] >= 2 else service_cost\n",
    "    \n",
    "#     deposit = 0.8 * (service_cost + room_prices[row['reserved_room_type']]['night'] * season_coefficient)\n",
    "    \n",
    "#     total_income = +deposit if row['is_canceled'] == 1 else room_cost - cleaning_cost\n",
    "    \n",
    "#     return total_income"
   ]
  },
  {
   "cell_type": "code",
   "execution_count": 30,
   "metadata": {},
   "outputs": [],
   "source": [
    "# # Определение стоимости номеров и разового обслуживания\n",
    "# room_prices = {\n",
    "#     'A': {'night': 1000, 'service': 400},\n",
    "#     'B': {'night': 800, 'service': 350},\n",
    "#     'C': {'night': 600, 'service': 350},\n",
    "#     'D': {'night': 550, 'service': 150},\n",
    "#     'E': {'night': 500, 'service': 150},\n",
    "#     'F': {'night': 450, 'service': 150},\n",
    "#     'G': {'night': 350, 'service': 150}\n",
    "# }\n",
    "\n",
    "\n",
    "# def calculate_income_model(row, model_prediction):\n",
    "#     season_coefficient = 1.0\n",
    "#     if row['arrival_date_month'] in ['March', 'April', 'May', 'September', 'October', 'November']:\n",
    "#         season_coefficient += 0.2  # Повышение цен на 20% весной и осенью\n",
    "#     elif row['arrival_date_month'] in ['June', 'July', 'August']:\n",
    "#         season_coefficient += 0.4  # Повышение цен на 40% летом\n",
    "    \n",
    "#     room_cost = room_prices[row['reserved_room_type']]['night'] * row['total_nights'] * season_coefficient\n",
    "#     service_cost = room_prices[row['reserved_room_type']]['service']\n",
    "    \n",
    "#     cleaning_cost = service_cost * (row['total_nights'] // 2) if row['total_nights'] >= 2 else service_cost\n",
    "    \n",
    "#     deposit = 0.8 * (service_cost + room_prices[row['reserved_room_type']]['night'] * season_coefficient)\n",
    "    \n",
    "#     if row['is_canceled'] == 0:  # Постоялец заселился\n",
    "#         if model_prediction == 1:  # Модель предсказала отмену\n",
    "#             return deposit  # Депозит, который пойдет в счет оплаты\n",
    "#         else:\n",
    "#             return room_cost - cleaning_cost  # Прибыль от заселения\n",
    "#     else:  # Постоялец отменил бронь\n",
    "#         if model_prediction == 1:  # Модель предсказала отмену\n",
    "#             return 0.2 * (service_cost + room_prices[row['reserved_room_type']]['night'] * season_coefficient)\n",
    "#         else:\n",
    "#             return room_cost - cleaning_cost  # Отель потеряет только 20% от потери без модели"
   ]
  },
  {
   "cell_type": "code",
   "execution_count": 149,
   "metadata": {},
   "outputs": [],
   "source": [
    "# Определение стоимости номеров и разового обслуживания\n",
    "room_prices = {\n",
    "    'A': {'night': 1000, 'service': 400},\n",
    "    'B': {'night': 800, 'service': 350},\n",
    "    'C': {'night': 600, 'service': 350},\n",
    "    'D': {'night': 550, 'service': 150},\n",
    "    'E': {'night': 500, 'service': 150},\n",
    "    'F': {'night': 450, 'service': 150},\n",
    "    'G': {'night': 350, 'service': 150}\n",
    "}\n",
    "\n",
    "\n",
    "def calculate_income_model(row, model_prediction):\n",
    "    season_coefficient = 1.0\n",
    "    if row['arrival_date_month'] in ['March', 'April', 'May', 'September', 'October', 'November']:\n",
    "        season_coefficient += 0.2  # Повышение цен на 20% весной и осенью\n",
    "    elif row['arrival_date_month'] in ['June', 'July', 'August']:\n",
    "        season_coefficient += 0.4  # Повышение цен на 40% летом\n",
    "    \n",
    "    room_cost = room_prices[row['reserved_room_type']]['night'] * row['total_nights'] * season_coefficient\n",
    "    service_cost = room_prices[row['reserved_room_type']]['service']\n",
    "    \n",
    "    cleaning_cost = service_cost * (row['total_nights'] // 2) if row['total_nights'] >= 2 else service_cost\n",
    "    \n",
    "    deposit = 0.8 * (service_cost + room_prices[row['reserved_room_type']]['night'] * season_coefficient)\n",
    "    \n",
    "    if row['is_canceled'] == 0:  # Постоялец заселился\n",
    "        if model_prediction == 1:  # Модель предсказала отмену\n",
    "            return max(0, room_cost - cleaning_cost - deposit)  # Прибыль от заселения, учитывая депозит\n",
    "        else:\n",
    "            return max(0, room_cost - cleaning_cost)  # Прибыль от заселения, без учета депозита\n",
    "    else:  # Постоялец отменил бронь\n",
    "        if model_prediction == 1:  # Модель предсказала отмену\n",
    "            return -0.2 * (room_cost - cleaning_cost)  # Отель уйдет в минус на 20% от убытков без модели\n",
    "        else:\n",
    "            return max(0, room_cost - cleaning_cost)  # Отель потеряет только 20% от потери без модели"
   ]
  },
  {
   "cell_type": "markdown",
   "metadata": {},
   "source": [
    "Преобразуем данные:"
   ]
  },
  {
   "cell_type": "code",
   "execution_count": 32,
   "metadata": {},
   "outputs": [],
   "source": [
    "# uint8 колонки\n",
    "uint8_columns = [\n",
    "    'is_canceled', 'arrival_date_day_of_month',\n",
    "    'stays_in_week_nights', 'adults', 'children',\n",
    "    'babies', 'is_repeated_guest', 'previous_cancellations', 'previous_bookings_not_canceled',\n",
    "    'booking_changes', 'required_car_parking_spaces', 'total_of_special_requests', 'total_nights'\n",
    "]\n",
    "\n",
    "# uint16 колонки\n",
    "uint16_columns = ['lead_time', 'days_in_waiting_list']\n",
    "\n",
    "# category колонки\n",
    "category_columns = [\n",
    "    'arrival_date_year', 'arrival_date_month', 'meal', 'country',\n",
    "    'distribution_channel', 'reserved_room_type', 'customer_type'\n",
    "]\n",
    "\n",
    "# изменяем dtypes колонок\n",
    "hotel_train = hotel_train.astype({\n",
    "    **{_:'uint8' for _ in uint8_columns},\n",
    "    **{_:'uint16' for _ in uint16_columns},\n",
    "    **{_:'category' for _ in category_columns}\n",
    "})\n",
    "\n",
    "hotel_test = hotel_test.astype({\n",
    "    **{_:'uint8' for _ in uint8_columns},\n",
    "    **{_:'uint16' for _ in uint16_columns},\n",
    "    **{_:'category' for _ in category_columns}\n",
    "})"
   ]
  },
  {
   "cell_type": "markdown",
   "metadata": {},
   "source": [
    "Разделим на обучающие и тестовые данные:"
   ]
  },
  {
   "cell_type": "code",
   "execution_count": 33,
   "metadata": {},
   "outputs": [],
   "source": [
    "features = hotel_train.drop(['is_canceled', 'income'], axis=1)\n",
    "target = hotel_train['is_canceled']\n",
    "features_test = hotel_test.drop(['is_canceled', 'income'], axis=1)\n",
    "target_test = hotel_test['is_canceled']"
   ]
  },
  {
   "cell_type": "markdown",
   "metadata": {},
   "source": [
    "**Получим результаты для случайной модели:**"
   ]
  },
  {
   "cell_type": "code",
   "execution_count": 130,
   "metadata": {},
   "outputs": [
    {
     "name": "stdout",
     "output_type": "stream",
     "text": [
      "Метрика F1 на случайной модели составила 0.33789816602316597\n",
      "Метрика Accuracy на случайной модели составила 0.49929285095122955\n",
      "Метрика Precision на случайной модели составила 0.2545446282494092\n",
      "Метрика Recall на случайной модели составила 0.5024219590958019\n"
     ]
    }
   ],
   "source": [
    "model_DummyClassifier = DummyClassifier(strategy='uniform', random_state=12345)\n",
    "model_DummyClassifier.fit(features, target)\n",
    "prediction_model_DummyClassifier = model_DummyClassifier.predict(features)\n",
    "\n",
    "f1 = f1_score(target, prediction_model_DummyClassifier)\n",
    "print(f'Метрика F1 на случайной модели составила {f1}')\n",
    "accuracy = accuracy_score(target, prediction_model_DummyClassifier)\n",
    "print(f'Метрика Accuracy на случайной модели составила {accuracy}')\n",
    "precision = precision_score(target, prediction_model_DummyClassifier)\n",
    "print(f'Метрика Precision на случайной модели составила {precision}')\n",
    "recall = recall_score(target, prediction_model_DummyClassifier)\n",
    "print(f'Метрика Recall на случайной модели составила {recall}')"
   ]
  },
  {
   "cell_type": "markdown",
   "metadata": {},
   "source": [
    "Зафиксируем результаты:"
   ]
  },
  {
   "cell_type": "code",
   "execution_count": 131,
   "metadata": {},
   "outputs": [
    {
     "data": {
      "text/plain": [
       "(16287, 16403, 5547, 5601)"
      ]
     },
     "execution_count": 131,
     "metadata": {},
     "output_type": "execute_result"
    }
   ],
   "source": [
    "tn, fp, fn, tp = confusion_matrix(target, prediction_model_DummyClassifier).ravel()\n",
    "(tn, fp, fn, tp)"
   ]
  },
  {
   "cell_type": "code",
   "execution_count": 132,
   "metadata": {},
   "outputs": [],
   "source": [
    "results_table = {}\n",
    "results_table_best = {}\n",
    "\n",
    "results_table['DummyClassifierRandom'] = [f1, accuracy, tn, fp, fn, tp, precision, recall]"
   ]
  },
  {
   "cell_type": "markdown",
   "metadata": {},
   "source": [
    "Создадим функцию для оценки метрик:"
   ]
  },
  {
   "cell_type": "code",
   "execution_count": 136,
   "metadata": {},
   "outputs": [],
   "source": [
    "def model_score(estimator, features, target, results_table):\n",
    "    f1 = f1_score(target, estimator.predict(features))\n",
    "    print(f'Метрика F1 составила {f1}')\n",
    "    accuracy = accuracy_score(target, estimator.predict(features))\n",
    "    print(f'Метрика Accuracy составила {accuracy}')\n",
    "    precision = precision_score(target, estimator.predict(features))\n",
    "    print(f'Метрика Precision составила {precision}')\n",
    "    recall = recall_score(target, estimator.predict(features))\n",
    "    print(f'Метрика Recall составила {recall}')\n",
    "\n",
    "    # матрица ошибок\n",
    "    display(pd.DataFrame(\n",
    "        [confusion_matrix(target, estimator.predict(features)).ravel().tolist()],\n",
    "        columns=['TN', 'FP', 'FN', 'TP'],\n",
    "        index=['Для оцениваемой модели']\n",
    "    ))\n",
    "    tn, fp, fn, tp = confusion_matrix(target, estimator.predict(features)).ravel()\n",
    "\n",
    "    # заносим результаты в сводную таблицу\n",
    "    results_table[estimator.best_estimator_.named_steps[estimator.best_estimator_.steps[1][0]].__class__.__name__] \\\n",
    "        = [f1, accuracy, tn, fp, fn, tp, precision, recall]\n",
    "    return None"
   ]
  },
  {
   "cell_type": "code",
   "execution_count": 153,
   "metadata": {},
   "outputs": [],
   "source": [
    "def model_score_best(estimator, features_test, target_test, results_table_best):\n",
    "    f1 = f1_score(target_test, estimator.predict(features_test))\n",
    "    print(f'Метрика F1 составила {f1}')\n",
    "    accuracy = accuracy_score(target_test, estimator.predict(features_test))\n",
    "    print(f'Метрика Accuracy составила {accuracy}')\n",
    "    precision = precision_score(target_test, estimator.predict(features_test))\n",
    "    print(f'Метрика Precision составила {precision}')\n",
    "    recall = recall_score(target_test, estimator.predict(features_test))\n",
    "    print(f'Метрика Recall составила {recall}')\n",
    "\n",
    "    data_for_income = features_test.copy()\n",
    "    data_for_income['is_canceled'] = target_test\n",
    "    prediction_model = estimator.predict(features_test)\n",
    "\n",
    "    # Примените функцию calculate_income к этим данным\n",
    "    data_for_income['prediction'] = prediction_model\n",
    "    data_for_income['income'] = data_for_income.apply(\n",
    "        lambda row: calculate_income_model(row, row['prediction']), axis=1)\n",
    "    profit = data_for_income['income'].sum()\n",
    "    print(f'Прибыль за 2017 год составила {profit} млн. рублей')\n",
    "\n",
    "    # матрица ошибок\n",
    "    display(pd.DataFrame(\n",
    "        [confusion_matrix(target_test, estimator.predict(features_test)).ravel().tolist()],\n",
    "        columns=['TN', 'FP', 'FN', 'TP'],\n",
    "        index=['Для выбранной модели']\n",
    "    ))\n",
    "    tn, fp, fn, tp = confusion_matrix(target_test, estimator.predict(features_test)).ravel()\n",
    "\n",
    "    # заносим результаты в сводную таблицу\n",
    "    results_table_best[estimator.best_estimator_.named_steps[estimator.best_estimator_.steps[1][0]].__class__.__name__] \\\n",
    "        = [f1, accuracy, tn, fp, fn, tp, precision, recall, profit]\n",
    "    return None"
   ]
  },
  {
   "cell_type": "markdown",
   "metadata": {},
   "source": [
    "**`RandomForestClassifier`**"
   ]
  },
  {
   "cell_type": "code",
   "execution_count": 53,
   "metadata": {},
   "outputs": [],
   "source": [
    "ensemble_transformer = make_column_transformer(\n",
    "    (\n",
    "        OrdinalEncoder(\n",
    "            dtype='int16',\n",
    "            handle_unknown='use_encoded_value',\n",
    "            unknown_value=-1\n",
    "        ), make_column_selector(dtype_include='category')\n",
    "    ),\n",
    "    remainder='passthrough'\n",
    ")"
   ]
  },
  {
   "cell_type": "code",
   "execution_count": 54,
   "metadata": {},
   "outputs": [],
   "source": [
    "pipe_rf = make_pipeline(\n",
    "    ensemble_transformer,\n",
    "    RandomForestClassifier(\n",
    "        random_state=12345,\n",
    "        n_jobs=-1,\n",
    "        class_weight='balanced',\n",
    "        verbose=0\n",
    "    )\n",
    ")"
   ]
  },
  {
   "cell_type": "code",
   "execution_count": 55,
   "metadata": {},
   "outputs": [],
   "source": [
    "param_grid = {\n",
    "    'randomforestclassifier__n_estimators':np.arange(100, 151, 50),\n",
    "    'randomforestclassifier__max_depth':np.arange(1, 10, 1),\n",
    "}\n",
    "\n",
    "gs_rf = GridSearchCV(\n",
    "    pipe_rf,\n",
    "    param_grid,\n",
    "    scoring={'f1':'f1', 'accuracy':'accuracy', 'precision':'precision', 'recall':'recall'},\n",
    "    n_jobs=-1,\n",
    "    verbose=1,\n",
    "    refit='f1'\n",
    ")"
   ]
  },
  {
   "cell_type": "code",
   "execution_count": 56,
   "metadata": {},
   "outputs": [
    {
     "name": "stdout",
     "output_type": "stream",
     "text": [
      "Fitting 5 folds for each of 18 candidates, totalling 90 fits\n",
      "CPU times: user 2min 23s, sys: 480 ms, total: 2min 23s\n",
      "Wall time: 2min 24s\n"
     ]
    },
    {
     "data": {
      "text/plain": [
       "GridSearchCV(estimator=Pipeline(steps=[('columntransformer',\n",
       "                                        ColumnTransformer(remainder='passthrough',\n",
       "                                                          transformers=[('ordinalencoder',\n",
       "                                                                         OrdinalEncoder(dtype='int16',\n",
       "                                                                                        handle_unknown='use_encoded_value',\n",
       "                                                                                        unknown_value=-1),\n",
       "                                                                         <sklearn.compose._column_transformer.make_column_selector object at 0x7f1ae0679d30>)])),\n",
       "                                       ('randomforestclassifier',\n",
       "                                        RandomForestClassifier(class_weight='balanced',\n",
       "                                                               n_jobs=-1,\n",
       "                                                               random_state=12345))]),\n",
       "             n_jobs=-1,\n",
       "             param_grid={'randomforestclassifier__max_depth': array([1, 2, 3, 4, 5, 6, 7, 8, 9]),\n",
       "                         'randomforestclassifier__n_estimators': array([100, 150])},\n",
       "             refit='f1',\n",
       "             scoring={'accuracy': 'accuracy', 'f1': 'f1',\n",
       "                      'precision': 'precision', 'recall': 'recall'},\n",
       "             verbose=1)"
      ]
     },
     "execution_count": 56,
     "metadata": {},
     "output_type": "execute_result"
    }
   ],
   "source": [
    "%time gs_rf.fit(features, target)"
   ]
  },
  {
   "cell_type": "code",
   "execution_count": 57,
   "metadata": {
    "scrolled": true
   },
   "outputs": [
    {
     "data": {
      "text/html": [
       "<div>\n",
       "<style scoped>\n",
       "    .dataframe tbody tr th:only-of-type {\n",
       "        vertical-align: middle;\n",
       "    }\n",
       "\n",
       "    .dataframe tbody tr th {\n",
       "        vertical-align: top;\n",
       "    }\n",
       "\n",
       "    .dataframe thead th {\n",
       "        text-align: right;\n",
       "    }\n",
       "</style>\n",
       "<table border=\"1\" class=\"dataframe\">\n",
       "  <thead>\n",
       "    <tr style=\"text-align: right;\">\n",
       "      <th></th>\n",
       "      <th>param_randomforestclassifier__max_depth</th>\n",
       "      <th>param_randomforestclassifier__n_estimators</th>\n",
       "      <th>mean_test_f1</th>\n",
       "      <th>rank_test_f1</th>\n",
       "      <th>mean_test_accuracy</th>\n",
       "      <th>rank_test_accuracy</th>\n",
       "      <th>mean_test_precision</th>\n",
       "      <th>rank_test_precision</th>\n",
       "      <th>mean_test_recall</th>\n",
       "      <th>rank_test_recall</th>\n",
       "    </tr>\n",
       "  </thead>\n",
       "  <tbody>\n",
       "    <tr>\n",
       "      <th>0</th>\n",
       "      <td>1</td>\n",
       "      <td>100</td>\n",
       "      <td>0.372071</td>\n",
       "      <td>17</td>\n",
       "      <td>0.543815</td>\n",
       "      <td>18</td>\n",
       "      <td>0.300099</td>\n",
       "      <td>18</td>\n",
       "      <td>0.505013</td>\n",
       "      <td>12</td>\n",
       "    </tr>\n",
       "    <tr>\n",
       "      <th>1</th>\n",
       "      <td>1</td>\n",
       "      <td>150</td>\n",
       "      <td>0.402266</td>\n",
       "      <td>8</td>\n",
       "      <td>0.548880</td>\n",
       "      <td>16</td>\n",
       "      <td>0.313432</td>\n",
       "      <td>16</td>\n",
       "      <td>0.571384</td>\n",
       "      <td>2</td>\n",
       "    </tr>\n",
       "    <tr>\n",
       "      <th>2</th>\n",
       "      <td>2</td>\n",
       "      <td>100</td>\n",
       "      <td>0.373724</td>\n",
       "      <td>16</td>\n",
       "      <td>0.546757</td>\n",
       "      <td>17</td>\n",
       "      <td>0.304222</td>\n",
       "      <td>17</td>\n",
       "      <td>0.504214</td>\n",
       "      <td>13</td>\n",
       "    </tr>\n",
       "    <tr>\n",
       "      <th>3</th>\n",
       "      <td>2</td>\n",
       "      <td>150</td>\n",
       "      <td>0.411996</td>\n",
       "      <td>5</td>\n",
       "      <td>0.563957</td>\n",
       "      <td>15</td>\n",
       "      <td>0.326498</td>\n",
       "      <td>12</td>\n",
       "      <td>0.571126</td>\n",
       "      <td>3</td>\n",
       "    </tr>\n",
       "    <tr>\n",
       "      <th>4</th>\n",
       "      <td>3</td>\n",
       "      <td>100</td>\n",
       "      <td>0.402845</td>\n",
       "      <td>7</td>\n",
       "      <td>0.569112</td>\n",
       "      <td>13</td>\n",
       "      <td>0.324925</td>\n",
       "      <td>13</td>\n",
       "      <td>0.544488</td>\n",
       "      <td>8</td>\n",
       "    </tr>\n",
       "    <tr>\n",
       "      <th>5</th>\n",
       "      <td>3</td>\n",
       "      <td>150</td>\n",
       "      <td>0.405763</td>\n",
       "      <td>6</td>\n",
       "      <td>0.568314</td>\n",
       "      <td>14</td>\n",
       "      <td>0.324249</td>\n",
       "      <td>14</td>\n",
       "      <td>0.554622</td>\n",
       "      <td>4</td>\n",
       "    </tr>\n",
       "    <tr>\n",
       "      <th>6</th>\n",
       "      <td>4</td>\n",
       "      <td>100</td>\n",
       "      <td>0.415926</td>\n",
       "      <td>2</td>\n",
       "      <td>0.584464</td>\n",
       "      <td>4</td>\n",
       "      <td>0.340544</td>\n",
       "      <td>2</td>\n",
       "      <td>0.552830</td>\n",
       "      <td>5</td>\n",
       "    </tr>\n",
       "    <tr>\n",
       "      <th>7</th>\n",
       "      <td>4</td>\n",
       "      <td>150</td>\n",
       "      <td>0.425364</td>\n",
       "      <td>1</td>\n",
       "      <td>0.587703</td>\n",
       "      <td>1</td>\n",
       "      <td>0.344771</td>\n",
       "      <td>1</td>\n",
       "      <td>0.571485</td>\n",
       "      <td>1</td>\n",
       "    </tr>\n",
       "    <tr>\n",
       "      <th>8</th>\n",
       "      <td>5</td>\n",
       "      <td>100</td>\n",
       "      <td>0.412651</td>\n",
       "      <td>4</td>\n",
       "      <td>0.585993</td>\n",
       "      <td>2</td>\n",
       "      <td>0.339552</td>\n",
       "      <td>3</td>\n",
       "      <td>0.546734</td>\n",
       "      <td>7</td>\n",
       "    </tr>\n",
       "    <tr>\n",
       "      <th>9</th>\n",
       "      <td>5</td>\n",
       "      <td>150</td>\n",
       "      <td>0.412903</td>\n",
       "      <td>3</td>\n",
       "      <td>0.585650</td>\n",
       "      <td>3</td>\n",
       "      <td>0.339336</td>\n",
       "      <td>4</td>\n",
       "      <td>0.547810</td>\n",
       "      <td>6</td>\n",
       "    </tr>\n",
       "    <tr>\n",
       "      <th>10</th>\n",
       "      <td>6</td>\n",
       "      <td>100</td>\n",
       "      <td>0.397323</td>\n",
       "      <td>10</td>\n",
       "      <td>0.579787</td>\n",
       "      <td>7</td>\n",
       "      <td>0.333410</td>\n",
       "      <td>7</td>\n",
       "      <td>0.512736</td>\n",
       "      <td>10</td>\n",
       "    </tr>\n",
       "    <tr>\n",
       "      <th>11</th>\n",
       "      <td>6</td>\n",
       "      <td>150</td>\n",
       "      <td>0.401573</td>\n",
       "      <td>9</td>\n",
       "      <td>0.582776</td>\n",
       "      <td>5</td>\n",
       "      <td>0.334739</td>\n",
       "      <td>5</td>\n",
       "      <td>0.521257</td>\n",
       "      <td>9</td>\n",
       "    </tr>\n",
       "    <tr>\n",
       "      <th>12</th>\n",
       "      <td>7</td>\n",
       "      <td>100</td>\n",
       "      <td>0.370390</td>\n",
       "      <td>18</td>\n",
       "      <td>0.570389</td>\n",
       "      <td>12</td>\n",
       "      <td>0.318330</td>\n",
       "      <td>15</td>\n",
       "      <td>0.467439</td>\n",
       "      <td>18</td>\n",
       "    </tr>\n",
       "    <tr>\n",
       "      <th>13</th>\n",
       "      <td>7</td>\n",
       "      <td>150</td>\n",
       "      <td>0.386789</td>\n",
       "      <td>13</td>\n",
       "      <td>0.581133</td>\n",
       "      <td>6</td>\n",
       "      <td>0.334129</td>\n",
       "      <td>6</td>\n",
       "      <td>0.487981</td>\n",
       "      <td>15</td>\n",
       "    </tr>\n",
       "    <tr>\n",
       "      <th>14</th>\n",
       "      <td>8</td>\n",
       "      <td>100</td>\n",
       "      <td>0.388453</td>\n",
       "      <td>11</td>\n",
       "      <td>0.573263</td>\n",
       "      <td>11</td>\n",
       "      <td>0.332973</td>\n",
       "      <td>8</td>\n",
       "      <td>0.506111</td>\n",
       "      <td>11</td>\n",
       "    </tr>\n",
       "    <tr>\n",
       "      <th>15</th>\n",
       "      <td>8</td>\n",
       "      <td>150</td>\n",
       "      <td>0.387060</td>\n",
       "      <td>12</td>\n",
       "      <td>0.575362</td>\n",
       "      <td>10</td>\n",
       "      <td>0.332731</td>\n",
       "      <td>9</td>\n",
       "      <td>0.499112</td>\n",
       "      <td>14</td>\n",
       "    </tr>\n",
       "    <tr>\n",
       "      <th>16</th>\n",
       "      <td>9</td>\n",
       "      <td>100</td>\n",
       "      <td>0.378700</td>\n",
       "      <td>15</td>\n",
       "      <td>0.578008</td>\n",
       "      <td>9</td>\n",
       "      <td>0.328797</td>\n",
       "      <td>11</td>\n",
       "      <td>0.475784</td>\n",
       "      <td>17</td>\n",
       "    </tr>\n",
       "    <tr>\n",
       "      <th>17</th>\n",
       "      <td>9</td>\n",
       "      <td>150</td>\n",
       "      <td>0.380037</td>\n",
       "      <td>14</td>\n",
       "      <td>0.579058</td>\n",
       "      <td>8</td>\n",
       "      <td>0.329244</td>\n",
       "      <td>10</td>\n",
       "      <td>0.479284</td>\n",
       "      <td>16</td>\n",
       "    </tr>\n",
       "  </tbody>\n",
       "</table>\n",
       "</div>"
      ],
      "text/plain": [
       "   param_randomforestclassifier__max_depth  \\\n",
       "0                                        1   \n",
       "1                                        1   \n",
       "2                                        2   \n",
       "3                                        2   \n",
       "4                                        3   \n",
       "5                                        3   \n",
       "6                                        4   \n",
       "7                                        4   \n",
       "8                                        5   \n",
       "9                                        5   \n",
       "10                                       6   \n",
       "11                                       6   \n",
       "12                                       7   \n",
       "13                                       7   \n",
       "14                                       8   \n",
       "15                                       8   \n",
       "16                                       9   \n",
       "17                                       9   \n",
       "\n",
       "   param_randomforestclassifier__n_estimators  mean_test_f1  rank_test_f1  \\\n",
       "0                                         100      0.372071            17   \n",
       "1                                         150      0.402266             8   \n",
       "2                                         100      0.373724            16   \n",
       "3                                         150      0.411996             5   \n",
       "4                                         100      0.402845             7   \n",
       "5                                         150      0.405763             6   \n",
       "6                                         100      0.415926             2   \n",
       "7                                         150      0.425364             1   \n",
       "8                                         100      0.412651             4   \n",
       "9                                         150      0.412903             3   \n",
       "10                                        100      0.397323            10   \n",
       "11                                        150      0.401573             9   \n",
       "12                                        100      0.370390            18   \n",
       "13                                        150      0.386789            13   \n",
       "14                                        100      0.388453            11   \n",
       "15                                        150      0.387060            12   \n",
       "16                                        100      0.378700            15   \n",
       "17                                        150      0.380037            14   \n",
       "\n",
       "    mean_test_accuracy  rank_test_accuracy  mean_test_precision  \\\n",
       "0             0.543815                  18             0.300099   \n",
       "1             0.548880                  16             0.313432   \n",
       "2             0.546757                  17             0.304222   \n",
       "3             0.563957                  15             0.326498   \n",
       "4             0.569112                  13             0.324925   \n",
       "5             0.568314                  14             0.324249   \n",
       "6             0.584464                   4             0.340544   \n",
       "7             0.587703                   1             0.344771   \n",
       "8             0.585993                   2             0.339552   \n",
       "9             0.585650                   3             0.339336   \n",
       "10            0.579787                   7             0.333410   \n",
       "11            0.582776                   5             0.334739   \n",
       "12            0.570389                  12             0.318330   \n",
       "13            0.581133                   6             0.334129   \n",
       "14            0.573263                  11             0.332973   \n",
       "15            0.575362                  10             0.332731   \n",
       "16            0.578008                   9             0.328797   \n",
       "17            0.579058                   8             0.329244   \n",
       "\n",
       "    rank_test_precision  mean_test_recall  rank_test_recall  \n",
       "0                    18          0.505013                12  \n",
       "1                    16          0.571384                 2  \n",
       "2                    17          0.504214                13  \n",
       "3                    12          0.571126                 3  \n",
       "4                    13          0.544488                 8  \n",
       "5                    14          0.554622                 4  \n",
       "6                     2          0.552830                 5  \n",
       "7                     1          0.571485                 1  \n",
       "8                     3          0.546734                 7  \n",
       "9                     4          0.547810                 6  \n",
       "10                    7          0.512736                10  \n",
       "11                    5          0.521257                 9  \n",
       "12                   15          0.467439                18  \n",
       "13                    6          0.487981                15  \n",
       "14                    8          0.506111                11  \n",
       "15                    9          0.499112                14  \n",
       "16                   11          0.475784                17  \n",
       "17                   10          0.479284                16  "
      ]
     },
     "execution_count": 57,
     "metadata": {},
     "output_type": "execute_result"
    }
   ],
   "source": [
    "pd.DataFrame(gs_rf.cv_results_)[[\n",
    "    'param_randomforestclassifier__max_depth', 'param_randomforestclassifier__n_estimators',\n",
    "    'mean_test_f1', 'rank_test_f1',\n",
    "    'mean_test_accuracy', 'rank_test_accuracy',\n",
    "    'mean_test_precision', 'rank_test_precision',\n",
    "    'mean_test_recall', 'rank_test_recall',\n",
    "]]"
   ]
  },
  {
   "cell_type": "code",
   "execution_count": 137,
   "metadata": {
    "scrolled": true
   },
   "outputs": [
    {
     "name": "stdout",
     "output_type": "stream",
     "text": [
      "Метрика F1 составила 0.5753319087820086\n",
      "Метрика Accuracy составила 0.7234590994114695\n",
      "Метрика Precision составила 0.4719811483418587\n",
      "Метрика Recall составила 0.7366343738787227\n"
     ]
    },
    {
     "data": {
      "text/html": [
       "<div>\n",
       "<style scoped>\n",
       "    .dataframe tbody tr th:only-of-type {\n",
       "        vertical-align: middle;\n",
       "    }\n",
       "\n",
       "    .dataframe tbody tr th {\n",
       "        vertical-align: top;\n",
       "    }\n",
       "\n",
       "    .dataframe thead th {\n",
       "        text-align: right;\n",
       "    }\n",
       "</style>\n",
       "<table border=\"1\" class=\"dataframe\">\n",
       "  <thead>\n",
       "    <tr style=\"text-align: right;\">\n",
       "      <th></th>\n",
       "      <th>TN</th>\n",
       "      <th>FP</th>\n",
       "      <th>FN</th>\n",
       "      <th>TP</th>\n",
       "    </tr>\n",
       "  </thead>\n",
       "  <tbody>\n",
       "    <tr>\n",
       "      <th>Для оцениваемой модели</th>\n",
       "      <td>23503</td>\n",
       "      <td>9187</td>\n",
       "      <td>2936</td>\n",
       "      <td>8212</td>\n",
       "    </tr>\n",
       "  </tbody>\n",
       "</table>\n",
       "</div>"
      ],
      "text/plain": [
       "                           TN    FP    FN    TP\n",
       "Для оцениваемой модели  23503  9187  2936  8212"
      ]
     },
     "metadata": {},
     "output_type": "display_data"
    }
   ],
   "source": [
    "model_score(gs_rf, features, target, results_table)"
   ]
  },
  {
   "cell_type": "markdown",
   "metadata": {},
   "source": [
    "На тесте мы получаем разницу по прибыли в почти 17 млн рублей."
   ]
  },
  {
   "cell_type": "markdown",
   "metadata": {},
   "source": [
    "**`AdaBoostClassifier`**"
   ]
  },
  {
   "cell_type": "code",
   "execution_count": 84,
   "metadata": {},
   "outputs": [],
   "source": [
    "pipe_ab = make_pipeline(\n",
    "    ensemble_transformer,\n",
    "    AdaBoostClassifier(\n",
    "        random_state=12345\n",
    "    )\n",
    ")"
   ]
  },
  {
   "cell_type": "code",
   "execution_count": 85,
   "metadata": {},
   "outputs": [],
   "source": [
    "param_grid = {\n",
    "    'adaboostclassifier__learning_rate':np.arange(1, 1.5, 0.1),\n",
    "    'adaboostclassifier__n_estimators':[50, 100, 150]\n",
    "}\n",
    "\n",
    "gs_ab = GridSearchCV(\n",
    "    pipe_ab,\n",
    "    param_grid,\n",
    "    scoring={'f1':'f1', 'accuracy':'accuracy', 'precision':'precision', 'recall':'recall'},\n",
    "    n_jobs=-1,\n",
    "    verbose=1,\n",
    "    refit='f1'\n",
    ")"
   ]
  },
  {
   "cell_type": "code",
   "execution_count": 86,
   "metadata": {},
   "outputs": [
    {
     "name": "stdout",
     "output_type": "stream",
     "text": [
      "Fitting 5 folds for each of 15 candidates, totalling 75 fits\n",
      "CPU times: user 3min 5s, sys: 276 ms, total: 3min 5s\n",
      "Wall time: 3min 5s\n"
     ]
    },
    {
     "data": {
      "text/plain": [
       "GridSearchCV(estimator=Pipeline(steps=[('columntransformer',\n",
       "                                        ColumnTransformer(remainder='passthrough',\n",
       "                                                          transformers=[('ordinalencoder',\n",
       "                                                                         OrdinalEncoder(dtype='int16',\n",
       "                                                                                        handle_unknown='use_encoded_value',\n",
       "                                                                                        unknown_value=-1),\n",
       "                                                                         <sklearn.compose._column_transformer.make_column_selector object at 0x7f1ae0679d30>)])),\n",
       "                                       ('adaboostclassifier',\n",
       "                                        AdaBoostClassifier(random_state=12345))]),\n",
       "             n_jobs=-1,\n",
       "             param_grid={'adaboostclassifier__learning_rate': array([1. , 1.1, 1.2, 1.3, 1.4]),\n",
       "                         'adaboostclassifier__n_estimators': [50, 100, 150]},\n",
       "             refit='f1',\n",
       "             scoring={'accuracy': 'accuracy', 'f1': 'f1',\n",
       "                      'precision': 'precision', 'recall': 'recall'},\n",
       "             verbose=1)"
      ]
     },
     "execution_count": 86,
     "metadata": {},
     "output_type": "execute_result"
    }
   ],
   "source": [
    "%time gs_ab.fit(features, target)"
   ]
  },
  {
   "cell_type": "code",
   "execution_count": 87,
   "metadata": {},
   "outputs": [
    {
     "data": {
      "text/html": [
       "<div>\n",
       "<style scoped>\n",
       "    .dataframe tbody tr th:only-of-type {\n",
       "        vertical-align: middle;\n",
       "    }\n",
       "\n",
       "    .dataframe tbody tr th {\n",
       "        vertical-align: top;\n",
       "    }\n",
       "\n",
       "    .dataframe thead th {\n",
       "        text-align: right;\n",
       "    }\n",
       "</style>\n",
       "<table border=\"1\" class=\"dataframe\">\n",
       "  <thead>\n",
       "    <tr style=\"text-align: right;\">\n",
       "      <th></th>\n",
       "      <th>param_adaboostclassifier__learning_rate</th>\n",
       "      <th>param_adaboostclassifier__n_estimators</th>\n",
       "      <th>mean_test_f1</th>\n",
       "      <th>rank_test_f1</th>\n",
       "      <th>mean_test_accuracy</th>\n",
       "      <th>rank_test_accuracy</th>\n",
       "      <th>mean_test_precision</th>\n",
       "      <th>rank_test_precision</th>\n",
       "      <th>mean_test_recall</th>\n",
       "      <th>rank_test_recall</th>\n",
       "    </tr>\n",
       "  </thead>\n",
       "  <tbody>\n",
       "    <tr>\n",
       "      <th>0</th>\n",
       "      <td>1.0</td>\n",
       "      <td>50</td>\n",
       "      <td>0.254101</td>\n",
       "      <td>15</td>\n",
       "      <td>0.677309</td>\n",
       "      <td>9</td>\n",
       "      <td>0.345109</td>\n",
       "      <td>14</td>\n",
       "      <td>0.223732</td>\n",
       "      <td>15</td>\n",
       "    </tr>\n",
       "    <tr>\n",
       "      <th>1</th>\n",
       "      <td>1.0</td>\n",
       "      <td>100</td>\n",
       "      <td>0.265903</td>\n",
       "      <td>13</td>\n",
       "      <td>0.678815</td>\n",
       "      <td>5</td>\n",
       "      <td>0.349678</td>\n",
       "      <td>9</td>\n",
       "      <td>0.237548</td>\n",
       "      <td>13</td>\n",
       "    </tr>\n",
       "    <tr>\n",
       "      <th>2</th>\n",
       "      <td>1.0</td>\n",
       "      <td>150</td>\n",
       "      <td>0.265941</td>\n",
       "      <td>12</td>\n",
       "      <td>0.677264</td>\n",
       "      <td>10</td>\n",
       "      <td>0.350105</td>\n",
       "      <td>7</td>\n",
       "      <td>0.239701</td>\n",
       "      <td>11</td>\n",
       "    </tr>\n",
       "    <tr>\n",
       "      <th>3</th>\n",
       "      <td>1.1</td>\n",
       "      <td>50</td>\n",
       "      <td>0.269228</td>\n",
       "      <td>6</td>\n",
       "      <td>0.679659</td>\n",
       "      <td>2</td>\n",
       "      <td>0.351846</td>\n",
       "      <td>3</td>\n",
       "      <td>0.239969</td>\n",
       "      <td>10</td>\n",
       "    </tr>\n",
       "    <tr>\n",
       "      <th>4</th>\n",
       "      <td>1.1</td>\n",
       "      <td>100</td>\n",
       "      <td>0.271239</td>\n",
       "      <td>2</td>\n",
       "      <td>0.681279</td>\n",
       "      <td>1</td>\n",
       "      <td>0.353591</td>\n",
       "      <td>1</td>\n",
       "      <td>0.243110</td>\n",
       "      <td>4</td>\n",
       "    </tr>\n",
       "    <tr>\n",
       "      <th>5</th>\n",
       "      <td>1.1</td>\n",
       "      <td>150</td>\n",
       "      <td>0.270314</td>\n",
       "      <td>4</td>\n",
       "      <td>0.677355</td>\n",
       "      <td>8</td>\n",
       "      <td>0.348075</td>\n",
       "      <td>10</td>\n",
       "      <td>0.244455</td>\n",
       "      <td>2</td>\n",
       "    </tr>\n",
       "    <tr>\n",
       "      <th>6</th>\n",
       "      <td>1.2</td>\n",
       "      <td>50</td>\n",
       "      <td>0.261695</td>\n",
       "      <td>14</td>\n",
       "      <td>0.677880</td>\n",
       "      <td>7</td>\n",
       "      <td>0.344550</td>\n",
       "      <td>15</td>\n",
       "      <td>0.234049</td>\n",
       "      <td>14</td>\n",
       "    </tr>\n",
       "    <tr>\n",
       "      <th>7</th>\n",
       "      <td>1.2</td>\n",
       "      <td>100</td>\n",
       "      <td>0.268175</td>\n",
       "      <td>8</td>\n",
       "      <td>0.679089</td>\n",
       "      <td>4</td>\n",
       "      <td>0.350891</td>\n",
       "      <td>4</td>\n",
       "      <td>0.240957</td>\n",
       "      <td>8</td>\n",
       "    </tr>\n",
       "    <tr>\n",
       "      <th>8</th>\n",
       "      <td>1.2</td>\n",
       "      <td>150</td>\n",
       "      <td>0.266396</td>\n",
       "      <td>10</td>\n",
       "      <td>0.676009</td>\n",
       "      <td>13</td>\n",
       "      <td>0.346039</td>\n",
       "      <td>12</td>\n",
       "      <td>0.241137</td>\n",
       "      <td>7</td>\n",
       "    </tr>\n",
       "    <tr>\n",
       "      <th>9</th>\n",
       "      <td>1.3</td>\n",
       "      <td>50</td>\n",
       "      <td>0.268595</td>\n",
       "      <td>7</td>\n",
       "      <td>0.679408</td>\n",
       "      <td>3</td>\n",
       "      <td>0.352701</td>\n",
       "      <td>2</td>\n",
       "      <td>0.238266</td>\n",
       "      <td>12</td>\n",
       "    </tr>\n",
       "    <tr>\n",
       "      <th>10</th>\n",
       "      <td>1.3</td>\n",
       "      <td>100</td>\n",
       "      <td>0.269389</td>\n",
       "      <td>5</td>\n",
       "      <td>0.676420</td>\n",
       "      <td>11</td>\n",
       "      <td>0.348009</td>\n",
       "      <td>11</td>\n",
       "      <td>0.243289</td>\n",
       "      <td>3</td>\n",
       "    </tr>\n",
       "    <tr>\n",
       "      <th>11</th>\n",
       "      <td>1.3</td>\n",
       "      <td>150</td>\n",
       "      <td>0.265994</td>\n",
       "      <td>11</td>\n",
       "      <td>0.675461</td>\n",
       "      <td>14</td>\n",
       "      <td>0.349754</td>\n",
       "      <td>8</td>\n",
       "      <td>0.240868</td>\n",
       "      <td>9</td>\n",
       "    </tr>\n",
       "    <tr>\n",
       "      <th>12</th>\n",
       "      <td>1.4</td>\n",
       "      <td>50</td>\n",
       "      <td>0.267464</td>\n",
       "      <td>9</td>\n",
       "      <td>0.674458</td>\n",
       "      <td>15</td>\n",
       "      <td>0.345930</td>\n",
       "      <td>13</td>\n",
       "      <td>0.242481</td>\n",
       "      <td>6</td>\n",
       "    </tr>\n",
       "    <tr>\n",
       "      <th>13</th>\n",
       "      <td>1.4</td>\n",
       "      <td>100</td>\n",
       "      <td>0.270530</td>\n",
       "      <td>3</td>\n",
       "      <td>0.678587</td>\n",
       "      <td>6</td>\n",
       "      <td>0.350755</td>\n",
       "      <td>5</td>\n",
       "      <td>0.243110</td>\n",
       "      <td>5</td>\n",
       "    </tr>\n",
       "    <tr>\n",
       "      <th>14</th>\n",
       "      <td>1.4</td>\n",
       "      <td>150</td>\n",
       "      <td>0.272783</td>\n",
       "      <td>1</td>\n",
       "      <td>0.676397</td>\n",
       "      <td>12</td>\n",
       "      <td>0.350691</td>\n",
       "      <td>6</td>\n",
       "      <td>0.248223</td>\n",
       "      <td>1</td>\n",
       "    </tr>\n",
       "  </tbody>\n",
       "</table>\n",
       "</div>"
      ],
      "text/plain": [
       "   param_adaboostclassifier__learning_rate  \\\n",
       "0                                      1.0   \n",
       "1                                      1.0   \n",
       "2                                      1.0   \n",
       "3                                      1.1   \n",
       "4                                      1.1   \n",
       "5                                      1.1   \n",
       "6                                      1.2   \n",
       "7                                      1.2   \n",
       "8                                      1.2   \n",
       "9                                      1.3   \n",
       "10                                     1.3   \n",
       "11                                     1.3   \n",
       "12                                     1.4   \n",
       "13                                     1.4   \n",
       "14                                     1.4   \n",
       "\n",
       "   param_adaboostclassifier__n_estimators  mean_test_f1  rank_test_f1  \\\n",
       "0                                      50      0.254101            15   \n",
       "1                                     100      0.265903            13   \n",
       "2                                     150      0.265941            12   \n",
       "3                                      50      0.269228             6   \n",
       "4                                     100      0.271239             2   \n",
       "5                                     150      0.270314             4   \n",
       "6                                      50      0.261695            14   \n",
       "7                                     100      0.268175             8   \n",
       "8                                     150      0.266396            10   \n",
       "9                                      50      0.268595             7   \n",
       "10                                    100      0.269389             5   \n",
       "11                                    150      0.265994            11   \n",
       "12                                     50      0.267464             9   \n",
       "13                                    100      0.270530             3   \n",
       "14                                    150      0.272783             1   \n",
       "\n",
       "    mean_test_accuracy  rank_test_accuracy  mean_test_precision  \\\n",
       "0             0.677309                   9             0.345109   \n",
       "1             0.678815                   5             0.349678   \n",
       "2             0.677264                  10             0.350105   \n",
       "3             0.679659                   2             0.351846   \n",
       "4             0.681279                   1             0.353591   \n",
       "5             0.677355                   8             0.348075   \n",
       "6             0.677880                   7             0.344550   \n",
       "7             0.679089                   4             0.350891   \n",
       "8             0.676009                  13             0.346039   \n",
       "9             0.679408                   3             0.352701   \n",
       "10            0.676420                  11             0.348009   \n",
       "11            0.675461                  14             0.349754   \n",
       "12            0.674458                  15             0.345930   \n",
       "13            0.678587                   6             0.350755   \n",
       "14            0.676397                  12             0.350691   \n",
       "\n",
       "    rank_test_precision  mean_test_recall  rank_test_recall  \n",
       "0                    14          0.223732                15  \n",
       "1                     9          0.237548                13  \n",
       "2                     7          0.239701                11  \n",
       "3                     3          0.239969                10  \n",
       "4                     1          0.243110                 4  \n",
       "5                    10          0.244455                 2  \n",
       "6                    15          0.234049                14  \n",
       "7                     4          0.240957                 8  \n",
       "8                    12          0.241137                 7  \n",
       "9                     2          0.238266                12  \n",
       "10                   11          0.243289                 3  \n",
       "11                    8          0.240868                 9  \n",
       "12                   13          0.242481                 6  \n",
       "13                    5          0.243110                 5  \n",
       "14                    6          0.248223                 1  "
      ]
     },
     "execution_count": 87,
     "metadata": {},
     "output_type": "execute_result"
    }
   ],
   "source": [
    "pd.DataFrame(gs_ab.cv_results_)[[\n",
    "    'param_adaboostclassifier__learning_rate', 'param_adaboostclassifier__n_estimators',\n",
    "    'mean_test_f1', 'rank_test_f1',\n",
    "    'mean_test_accuracy', 'rank_test_accuracy',\n",
    "    'mean_test_precision', 'rank_test_precision',\n",
    "    'mean_test_recall', 'rank_test_recall',\n",
    "]]"
   ]
  },
  {
   "cell_type": "code",
   "execution_count": 138,
   "metadata": {},
   "outputs": [
    {
     "name": "stdout",
     "output_type": "stream",
     "text": [
      "Метрика F1 составила 0.528372917012678\n",
      "Метрика Accuracy составила 0.8056708791459465\n",
      "Метрика Precision составила 0.6900939985538684\n",
      "Метрика Recall составила 0.4280588446358091\n"
     ]
    },
    {
     "data": {
      "text/html": [
       "<div>\n",
       "<style scoped>\n",
       "    .dataframe tbody tr th:only-of-type {\n",
       "        vertical-align: middle;\n",
       "    }\n",
       "\n",
       "    .dataframe tbody tr th {\n",
       "        vertical-align: top;\n",
       "    }\n",
       "\n",
       "    .dataframe thead th {\n",
       "        text-align: right;\n",
       "    }\n",
       "</style>\n",
       "<table border=\"1\" class=\"dataframe\">\n",
       "  <thead>\n",
       "    <tr style=\"text-align: right;\">\n",
       "      <th></th>\n",
       "      <th>TN</th>\n",
       "      <th>FP</th>\n",
       "      <th>FN</th>\n",
       "      <th>TP</th>\n",
       "    </tr>\n",
       "  </thead>\n",
       "  <tbody>\n",
       "    <tr>\n",
       "      <th>Для оцениваемой модели</th>\n",
       "      <td>30547</td>\n",
       "      <td>2143</td>\n",
       "      <td>6376</td>\n",
       "      <td>4772</td>\n",
       "    </tr>\n",
       "  </tbody>\n",
       "</table>\n",
       "</div>"
      ],
      "text/plain": [
       "                           TN    FP    FN    TP\n",
       "Для оцениваемой модели  30547  2143  6376  4772"
      ]
     },
     "metadata": {},
     "output_type": "display_data"
    }
   ],
   "source": [
    "model_score(gs_ab, features, target, results_table)"
   ]
  },
  {
   "cell_type": "markdown",
   "metadata": {},
   "source": [
    "Эта модель более точно распознаёт негативные случаи, но менее точно идентифицирует позитивные. В результате, она может упустить положительные случаи, однако её преимущество заключается в том, что она значительно снижает число ложноположительных срабатываний (FP)."
   ]
  },
  {
   "cell_type": "markdown",
   "metadata": {},
   "source": [
    "**`GradientBoostingClassifier`**"
   ]
  },
  {
   "cell_type": "code",
   "execution_count": 89,
   "metadata": {},
   "outputs": [],
   "source": [
    "pipe_gb = make_pipeline(\n",
    "    ensemble_transformer,\n",
    "    GradientBoostingClassifier(\n",
    "        random_state=12345\n",
    "    )\n",
    ")"
   ]
  },
  {
   "cell_type": "code",
   "execution_count": 90,
   "metadata": {},
   "outputs": [],
   "source": [
    "param_grid = {\n",
    "    'gradientboostingclassifier__loss':['deviance', 'exponential'],\n",
    "    'gradientboostingclassifier__learning_rate':[.005, .01, .05],\n",
    "    'gradientboostingclassifier__n_estimators':[100, 200, 300]\n",
    "}\n",
    "\n",
    "gs_gb = GridSearchCV(\n",
    "    pipe_gb,\n",
    "    param_grid,\n",
    "    scoring={\n",
    "        'f1':'f1',\n",
    "        'accuracy':'accuracy',\n",
    "        'precision': make_scorer(precision_score, zero_division=1),\n",
    "        'recall':'recall'\n",
    "    },\n",
    "    n_jobs=-1,\n",
    "    verbose=1,\n",
    "    refit='f1'\n",
    ")"
   ]
  },
  {
   "cell_type": "code",
   "execution_count": 91,
   "metadata": {},
   "outputs": [
    {
     "name": "stdout",
     "output_type": "stream",
     "text": [
      "Fitting 5 folds for each of 18 candidates, totalling 90 fits\n",
      "CPU times: user 12min 21s, sys: 540 ms, total: 12min 22s\n",
      "Wall time: 12min 24s\n"
     ]
    },
    {
     "data": {
      "text/plain": [
       "GridSearchCV(estimator=Pipeline(steps=[('columntransformer',\n",
       "                                        ColumnTransformer(remainder='passthrough',\n",
       "                                                          transformers=[('ordinalencoder',\n",
       "                                                                         OrdinalEncoder(dtype='int16',\n",
       "                                                                                        handle_unknown='use_encoded_value',\n",
       "                                                                                        unknown_value=-1),\n",
       "                                                                         <sklearn.compose._column_transformer.make_column_selector object at 0x7f1ae0679d30>)])),\n",
       "                                       ('gradientboostingclassifier',\n",
       "                                        GradientBoostingCla...345))]),\n",
       "             n_jobs=-1,\n",
       "             param_grid={'gradientboostingclassifier__learning_rate': [0.005,\n",
       "                                                                       0.01,\n",
       "                                                                       0.05],\n",
       "                         'gradientboostingclassifier__loss': ['deviance',\n",
       "                                                              'exponential'],\n",
       "                         'gradientboostingclassifier__n_estimators': [100, 200,\n",
       "                                                                      300]},\n",
       "             refit='f1',\n",
       "             scoring={'accuracy': 'accuracy', 'f1': 'f1',\n",
       "                      'precision': make_scorer(precision_score, zero_division=1),\n",
       "                      'recall': 'recall'},\n",
       "             verbose=1)"
      ]
     },
     "execution_count": 91,
     "metadata": {},
     "output_type": "execute_result"
    }
   ],
   "source": [
    "%time gs_gb.fit(features, target)"
   ]
  },
  {
   "cell_type": "code",
   "execution_count": 92,
   "metadata": {},
   "outputs": [
    {
     "data": {
      "text/html": [
       "<div>\n",
       "<style scoped>\n",
       "    .dataframe tbody tr th:only-of-type {\n",
       "        vertical-align: middle;\n",
       "    }\n",
       "\n",
       "    .dataframe tbody tr th {\n",
       "        vertical-align: top;\n",
       "    }\n",
       "\n",
       "    .dataframe thead th {\n",
       "        text-align: right;\n",
       "    }\n",
       "</style>\n",
       "<table border=\"1\" class=\"dataframe\">\n",
       "  <thead>\n",
       "    <tr style=\"text-align: right;\">\n",
       "      <th></th>\n",
       "      <th>param_gradientboostingclassifier__learning_rate</th>\n",
       "      <th>param_gradientboostingclassifier__loss</th>\n",
       "      <th>param_gradientboostingclassifier__n_estimators</th>\n",
       "      <th>mean_test_f1</th>\n",
       "      <th>rank_test_f1</th>\n",
       "      <th>mean_test_accuracy</th>\n",
       "      <th>rank_test_accuracy</th>\n",
       "      <th>mean_test_precision</th>\n",
       "      <th>rank_test_precision</th>\n",
       "      <th>mean_test_recall</th>\n",
       "      <th>rank_test_recall</th>\n",
       "    </tr>\n",
       "  </thead>\n",
       "  <tbody>\n",
       "    <tr>\n",
       "      <th>0</th>\n",
       "      <td>0.005</td>\n",
       "      <td>deviance</td>\n",
       "      <td>100</td>\n",
       "      <td>0.000000</td>\n",
       "      <td>17</td>\n",
       "      <td>0.745381</td>\n",
       "      <td>6</td>\n",
       "      <td>0.600000</td>\n",
       "      <td>2</td>\n",
       "      <td>0.000000</td>\n",
       "      <td>17</td>\n",
       "    </tr>\n",
       "    <tr>\n",
       "      <th>1</th>\n",
       "      <td>0.005</td>\n",
       "      <td>deviance</td>\n",
       "      <td>200</td>\n",
       "      <td>0.026778</td>\n",
       "      <td>14</td>\n",
       "      <td>0.748300</td>\n",
       "      <td>2</td>\n",
       "      <td>0.600000</td>\n",
       "      <td>2</td>\n",
       "      <td>0.014350</td>\n",
       "      <td>14</td>\n",
       "    </tr>\n",
       "    <tr>\n",
       "      <th>2</th>\n",
       "      <td>0.005</td>\n",
       "      <td>deviance</td>\n",
       "      <td>300</td>\n",
       "      <td>0.033465</td>\n",
       "      <td>11</td>\n",
       "      <td>0.743076</td>\n",
       "      <td>8</td>\n",
       "      <td>0.288889</td>\n",
       "      <td>17</td>\n",
       "      <td>0.017938</td>\n",
       "      <td>11</td>\n",
       "    </tr>\n",
       "    <tr>\n",
       "      <th>3</th>\n",
       "      <td>0.005</td>\n",
       "      <td>exponential</td>\n",
       "      <td>100</td>\n",
       "      <td>0.000000</td>\n",
       "      <td>17</td>\n",
       "      <td>0.745700</td>\n",
       "      <td>5</td>\n",
       "      <td>1.000000</td>\n",
       "      <td>1</td>\n",
       "      <td>0.000000</td>\n",
       "      <td>17</td>\n",
       "    </tr>\n",
       "    <tr>\n",
       "      <th>4</th>\n",
       "      <td>0.005</td>\n",
       "      <td>exponential</td>\n",
       "      <td>200</td>\n",
       "      <td>0.012005</td>\n",
       "      <td>15</td>\n",
       "      <td>0.746704</td>\n",
       "      <td>3</td>\n",
       "      <td>0.600000</td>\n",
       "      <td>2</td>\n",
       "      <td>0.006188</td>\n",
       "      <td>15</td>\n",
       "    </tr>\n",
       "    <tr>\n",
       "      <th>5</th>\n",
       "      <td>0.005</td>\n",
       "      <td>exponential</td>\n",
       "      <td>300</td>\n",
       "      <td>0.027868</td>\n",
       "      <td>12</td>\n",
       "      <td>0.745198</td>\n",
       "      <td>7</td>\n",
       "      <td>0.400000</td>\n",
       "      <td>7</td>\n",
       "      <td>0.014978</td>\n",
       "      <td>12</td>\n",
       "    </tr>\n",
       "    <tr>\n",
       "      <th>6</th>\n",
       "      <td>0.01</td>\n",
       "      <td>deviance</td>\n",
       "      <td>100</td>\n",
       "      <td>0.027090</td>\n",
       "      <td>13</td>\n",
       "      <td>0.748437</td>\n",
       "      <td>1</td>\n",
       "      <td>0.600000</td>\n",
       "      <td>2</td>\n",
       "      <td>0.014529</td>\n",
       "      <td>13</td>\n",
       "    </tr>\n",
       "    <tr>\n",
       "      <th>7</th>\n",
       "      <td>0.01</td>\n",
       "      <td>deviance</td>\n",
       "      <td>200</td>\n",
       "      <td>0.061222</td>\n",
       "      <td>9</td>\n",
       "      <td>0.733518</td>\n",
       "      <td>10</td>\n",
       "      <td>0.286932</td>\n",
       "      <td>18</td>\n",
       "      <td>0.034267</td>\n",
       "      <td>9</td>\n",
       "    </tr>\n",
       "    <tr>\n",
       "      <th>8</th>\n",
       "      <td>0.01</td>\n",
       "      <td>deviance</td>\n",
       "      <td>300</td>\n",
       "      <td>0.134514</td>\n",
       "      <td>7</td>\n",
       "      <td>0.720743</td>\n",
       "      <td>11</td>\n",
       "      <td>0.375124</td>\n",
       "      <td>8</td>\n",
       "      <td>0.098146</td>\n",
       "      <td>7</td>\n",
       "    </tr>\n",
       "    <tr>\n",
       "      <th>9</th>\n",
       "      <td>0.01</td>\n",
       "      <td>exponential</td>\n",
       "      <td>100</td>\n",
       "      <td>0.012005</td>\n",
       "      <td>15</td>\n",
       "      <td>0.746567</td>\n",
       "      <td>4</td>\n",
       "      <td>0.600000</td>\n",
       "      <td>2</td>\n",
       "      <td>0.006188</td>\n",
       "      <td>15</td>\n",
       "    </tr>\n",
       "    <tr>\n",
       "      <th>10</th>\n",
       "      <td>0.01</td>\n",
       "      <td>exponential</td>\n",
       "      <td>200</td>\n",
       "      <td>0.058074</td>\n",
       "      <td>10</td>\n",
       "      <td>0.737008</td>\n",
       "      <td>9</td>\n",
       "      <td>0.304485</td>\n",
       "      <td>15</td>\n",
       "      <td>0.032114</td>\n",
       "      <td>10</td>\n",
       "    </tr>\n",
       "    <tr>\n",
       "      <th>11</th>\n",
       "      <td>0.01</td>\n",
       "      <td>exponential</td>\n",
       "      <td>300</td>\n",
       "      <td>0.101218</td>\n",
       "      <td>8</td>\n",
       "      <td>0.717390</td>\n",
       "      <td>12</td>\n",
       "      <td>0.294377</td>\n",
       "      <td>16</td>\n",
       "      <td>0.071592</td>\n",
       "      <td>8</td>\n",
       "    </tr>\n",
       "    <tr>\n",
       "      <th>12</th>\n",
       "      <td>0.05</td>\n",
       "      <td>deviance</td>\n",
       "      <td>100</td>\n",
       "      <td>0.221225</td>\n",
       "      <td>6</td>\n",
       "      <td>0.698274</td>\n",
       "      <td>14</td>\n",
       "      <td>0.358512</td>\n",
       "      <td>10</td>\n",
       "      <td>0.178341</td>\n",
       "      <td>5</td>\n",
       "    </tr>\n",
       "    <tr>\n",
       "      <th>13</th>\n",
       "      <td>0.05</td>\n",
       "      <td>deviance</td>\n",
       "      <td>200</td>\n",
       "      <td>0.243222</td>\n",
       "      <td>4</td>\n",
       "      <td>0.672427</td>\n",
       "      <td>16</td>\n",
       "      <td>0.349216</td>\n",
       "      <td>12</td>\n",
       "      <td>0.218170</td>\n",
       "      <td>3</td>\n",
       "    </tr>\n",
       "    <tr>\n",
       "      <th>14</th>\n",
       "      <td>0.05</td>\n",
       "      <td>deviance</td>\n",
       "      <td>300</td>\n",
       "      <td>0.248874</td>\n",
       "      <td>2</td>\n",
       "      <td>0.660702</td>\n",
       "      <td>18</td>\n",
       "      <td>0.342284</td>\n",
       "      <td>14</td>\n",
       "      <td>0.229204</td>\n",
       "      <td>2</td>\n",
       "    </tr>\n",
       "    <tr>\n",
       "      <th>15</th>\n",
       "      <td>0.05</td>\n",
       "      <td>exponential</td>\n",
       "      <td>100</td>\n",
       "      <td>0.221928</td>\n",
       "      <td>5</td>\n",
       "      <td>0.704068</td>\n",
       "      <td>13</td>\n",
       "      <td>0.359136</td>\n",
       "      <td>9</td>\n",
       "      <td>0.174930</td>\n",
       "      <td>6</td>\n",
       "    </tr>\n",
       "    <tr>\n",
       "      <th>16</th>\n",
       "      <td>0.05</td>\n",
       "      <td>exponential</td>\n",
       "      <td>200</td>\n",
       "      <td>0.247154</td>\n",
       "      <td>3</td>\n",
       "      <td>0.679796</td>\n",
       "      <td>15</td>\n",
       "      <td>0.353333</td>\n",
       "      <td>11</td>\n",
       "      <td>0.217990</td>\n",
       "      <td>4</td>\n",
       "    </tr>\n",
       "    <tr>\n",
       "      <th>17</th>\n",
       "      <td>0.05</td>\n",
       "      <td>exponential</td>\n",
       "      <td>300</td>\n",
       "      <td>0.252366</td>\n",
       "      <td>1</td>\n",
       "      <td>0.666747</td>\n",
       "      <td>17</td>\n",
       "      <td>0.345460</td>\n",
       "      <td>13</td>\n",
       "      <td>0.231805</td>\n",
       "      <td>1</td>\n",
       "    </tr>\n",
       "  </tbody>\n",
       "</table>\n",
       "</div>"
      ],
      "text/plain": [
       "   param_gradientboostingclassifier__learning_rate  \\\n",
       "0                                            0.005   \n",
       "1                                            0.005   \n",
       "2                                            0.005   \n",
       "3                                            0.005   \n",
       "4                                            0.005   \n",
       "5                                            0.005   \n",
       "6                                             0.01   \n",
       "7                                             0.01   \n",
       "8                                             0.01   \n",
       "9                                             0.01   \n",
       "10                                            0.01   \n",
       "11                                            0.01   \n",
       "12                                            0.05   \n",
       "13                                            0.05   \n",
       "14                                            0.05   \n",
       "15                                            0.05   \n",
       "16                                            0.05   \n",
       "17                                            0.05   \n",
       "\n",
       "   param_gradientboostingclassifier__loss  \\\n",
       "0                                deviance   \n",
       "1                                deviance   \n",
       "2                                deviance   \n",
       "3                             exponential   \n",
       "4                             exponential   \n",
       "5                             exponential   \n",
       "6                                deviance   \n",
       "7                                deviance   \n",
       "8                                deviance   \n",
       "9                             exponential   \n",
       "10                            exponential   \n",
       "11                            exponential   \n",
       "12                               deviance   \n",
       "13                               deviance   \n",
       "14                               deviance   \n",
       "15                            exponential   \n",
       "16                            exponential   \n",
       "17                            exponential   \n",
       "\n",
       "   param_gradientboostingclassifier__n_estimators  mean_test_f1  rank_test_f1  \\\n",
       "0                                             100      0.000000            17   \n",
       "1                                             200      0.026778            14   \n",
       "2                                             300      0.033465            11   \n",
       "3                                             100      0.000000            17   \n",
       "4                                             200      0.012005            15   \n",
       "5                                             300      0.027868            12   \n",
       "6                                             100      0.027090            13   \n",
       "7                                             200      0.061222             9   \n",
       "8                                             300      0.134514             7   \n",
       "9                                             100      0.012005            15   \n",
       "10                                            200      0.058074            10   \n",
       "11                                            300      0.101218             8   \n",
       "12                                            100      0.221225             6   \n",
       "13                                            200      0.243222             4   \n",
       "14                                            300      0.248874             2   \n",
       "15                                            100      0.221928             5   \n",
       "16                                            200      0.247154             3   \n",
       "17                                            300      0.252366             1   \n",
       "\n",
       "    mean_test_accuracy  rank_test_accuracy  mean_test_precision  \\\n",
       "0             0.745381                   6             0.600000   \n",
       "1             0.748300                   2             0.600000   \n",
       "2             0.743076                   8             0.288889   \n",
       "3             0.745700                   5             1.000000   \n",
       "4             0.746704                   3             0.600000   \n",
       "5             0.745198                   7             0.400000   \n",
       "6             0.748437                   1             0.600000   \n",
       "7             0.733518                  10             0.286932   \n",
       "8             0.720743                  11             0.375124   \n",
       "9             0.746567                   4             0.600000   \n",
       "10            0.737008                   9             0.304485   \n",
       "11            0.717390                  12             0.294377   \n",
       "12            0.698274                  14             0.358512   \n",
       "13            0.672427                  16             0.349216   \n",
       "14            0.660702                  18             0.342284   \n",
       "15            0.704068                  13             0.359136   \n",
       "16            0.679796                  15             0.353333   \n",
       "17            0.666747                  17             0.345460   \n",
       "\n",
       "    rank_test_precision  mean_test_recall  rank_test_recall  \n",
       "0                     2          0.000000                17  \n",
       "1                     2          0.014350                14  \n",
       "2                    17          0.017938                11  \n",
       "3                     1          0.000000                17  \n",
       "4                     2          0.006188                15  \n",
       "5                     7          0.014978                12  \n",
       "6                     2          0.014529                13  \n",
       "7                    18          0.034267                 9  \n",
       "8                     8          0.098146                 7  \n",
       "9                     2          0.006188                15  \n",
       "10                   15          0.032114                10  \n",
       "11                   16          0.071592                 8  \n",
       "12                   10          0.178341                 5  \n",
       "13                   12          0.218170                 3  \n",
       "14                   14          0.229204                 2  \n",
       "15                    9          0.174930                 6  \n",
       "16                   11          0.217990                 4  \n",
       "17                   13          0.231805                 1  "
      ]
     },
     "execution_count": 92,
     "metadata": {},
     "output_type": "execute_result"
    }
   ],
   "source": [
    "pd.DataFrame(gs_gb.cv_results_)[[\n",
    "    'param_gradientboostingclassifier__learning_rate', 'param_gradientboostingclassifier__loss',\n",
    "    'param_gradientboostingclassifier__n_estimators',\n",
    "    'mean_test_f1', 'rank_test_f1',\n",
    "    'mean_test_accuracy', 'rank_test_accuracy',\n",
    "    'mean_test_precision', 'rank_test_precision',\n",
    "    'mean_test_recall', 'rank_test_recall',\n",
    "]]"
   ]
  },
  {
   "cell_type": "code",
   "execution_count": 139,
   "metadata": {},
   "outputs": [
    {
     "name": "stdout",
     "output_type": "stream",
     "text": [
      "Метрика F1 составила 0.5636808179595465\n",
      "Метрика Accuracy составила 0.8208859893243305\n",
      "Метрика Precision составила 0.7406542056074766\n",
      "Метрика Recall составила 0.45496950125583063\n"
     ]
    },
    {
     "data": {
      "text/html": [
       "<div>\n",
       "<style scoped>\n",
       "    .dataframe tbody tr th:only-of-type {\n",
       "        vertical-align: middle;\n",
       "    }\n",
       "\n",
       "    .dataframe tbody tr th {\n",
       "        vertical-align: top;\n",
       "    }\n",
       "\n",
       "    .dataframe thead th {\n",
       "        text-align: right;\n",
       "    }\n",
       "</style>\n",
       "<table border=\"1\" class=\"dataframe\">\n",
       "  <thead>\n",
       "    <tr style=\"text-align: right;\">\n",
       "      <th></th>\n",
       "      <th>TN</th>\n",
       "      <th>FP</th>\n",
       "      <th>FN</th>\n",
       "      <th>TP</th>\n",
       "    </tr>\n",
       "  </thead>\n",
       "  <tbody>\n",
       "    <tr>\n",
       "      <th>Для оцениваемой модели</th>\n",
       "      <td>30914</td>\n",
       "      <td>1776</td>\n",
       "      <td>6076</td>\n",
       "      <td>5072</td>\n",
       "    </tr>\n",
       "  </tbody>\n",
       "</table>\n",
       "</div>"
      ],
      "text/plain": [
       "                           TN    FP    FN    TP\n",
       "Для оцениваемой модели  30914  1776  6076  5072"
      ]
     },
     "metadata": {},
     "output_type": "display_data"
    }
   ],
   "source": [
    "model_score(gs_gb, features, target, results_table)"
   ]
  },
  {
   "cell_type": "markdown",
   "metadata": {},
   "source": [
    "Результаты очень похожи с моделью AdaBoostClassifier."
   ]
  },
  {
   "cell_type": "markdown",
   "metadata": {},
   "source": [
    "**`LogisticRegression`**"
   ]
  },
  {
   "cell_type": "code",
   "execution_count": 94,
   "metadata": {},
   "outputs": [],
   "source": [
    "linear_transformer = make_column_transformer(\n",
    "    (\n",
    "        OneHotEncoder(\n",
    "            dtype='uint8',\n",
    "            handle_unknown='ignore'\n",
    "        ), make_column_selector(dtype_include='category')\n",
    "    ),\n",
    "    (\n",
    "        StandardScaler(\n",
    "        ), make_column_selector(dtype_include='number')\n",
    "    ),\n",
    "    remainder='passthrough'\n",
    ")"
   ]
  },
  {
   "cell_type": "code",
   "execution_count": 95,
   "metadata": {},
   "outputs": [],
   "source": [
    "pipe_lr = make_pipeline(\n",
    "    linear_transformer,\n",
    "    LogisticRegression(\n",
    "        class_weight='balanced',\n",
    "        random_state=12345,\n",
    "        n_jobs=-1\n",
    "    )\n",
    ")"
   ]
  },
  {
   "cell_type": "code",
   "execution_count": 96,
   "metadata": {},
   "outputs": [],
   "source": [
    "param_grid = {\n",
    "    'logisticregression__solver':['newton-cg', 'lbfgs', 'liblinear', 'sag', 'saga'],\n",
    "    'logisticregression__C':[.001, .01],\n",
    "    'logisticregression__max_iter':[500, 1000]\n",
    "}\n",
    "\n",
    "gs_lr = GridSearchCV(\n",
    "    pipe_lr,\n",
    "    param_grid,\n",
    "    scoring={'f1':'f1', 'accuracy':'accuracy'},\n",
    "    n_jobs=-1,\n",
    "    verbose=1,\n",
    "    refit='f1'\n",
    ")"
   ]
  },
  {
   "cell_type": "code",
   "execution_count": 97,
   "metadata": {},
   "outputs": [
    {
     "name": "stdout",
     "output_type": "stream",
     "text": [
      "Fitting 5 folds for each of 20 candidates, totalling 100 fits\n",
      "CPU times: user 5min 54s, sys: 222 ms, total: 5min 54s\n",
      "Wall time: 5min 56s\n"
     ]
    },
    {
     "data": {
      "text/plain": [
       "GridSearchCV(estimator=Pipeline(steps=[('columntransformer',\n",
       "                                        ColumnTransformer(remainder='passthrough',\n",
       "                                                          transformers=[('onehotencoder',\n",
       "                                                                         OneHotEncoder(dtype='uint8',\n",
       "                                                                                       handle_unknown='ignore'),\n",
       "                                                                         <sklearn.compose._column_transformer.make_column_selector object at 0x7f1ae0a94160>),\n",
       "                                                                        ('standardscaler',\n",
       "                                                                         StandardScaler(),\n",
       "                                                                         <sklearn.compose._column_transformer.make_colum...94130>)])),\n",
       "                                       ('logisticregression',\n",
       "                                        LogisticRegression(class_weight='balanced',\n",
       "                                                           n_jobs=-1,\n",
       "                                                           random_state=12345))]),\n",
       "             n_jobs=-1,\n",
       "             param_grid={'logisticregression__C': [0.001, 0.01],\n",
       "                         'logisticregression__max_iter': [500, 1000],\n",
       "                         'logisticregression__solver': ['newton-cg', 'lbfgs',\n",
       "                                                        'liblinear', 'sag',\n",
       "                                                        'saga']},\n",
       "             refit='f1', scoring={'accuracy': 'accuracy', 'f1': 'f1'},\n",
       "             verbose=1)"
      ]
     },
     "execution_count": 97,
     "metadata": {},
     "output_type": "execute_result"
    }
   ],
   "source": [
    "%time gs_lr.fit(features, target)"
   ]
  },
  {
   "cell_type": "code",
   "execution_count": 98,
   "metadata": {},
   "outputs": [
    {
     "data": {
      "text/html": [
       "<div>\n",
       "<style scoped>\n",
       "    .dataframe tbody tr th:only-of-type {\n",
       "        vertical-align: middle;\n",
       "    }\n",
       "\n",
       "    .dataframe tbody tr th {\n",
       "        vertical-align: top;\n",
       "    }\n",
       "\n",
       "    .dataframe thead th {\n",
       "        text-align: right;\n",
       "    }\n",
       "</style>\n",
       "<table border=\"1\" class=\"dataframe\">\n",
       "  <thead>\n",
       "    <tr style=\"text-align: right;\">\n",
       "      <th></th>\n",
       "      <th>param_logisticregression__C</th>\n",
       "      <th>param_logisticregression__max_iter</th>\n",
       "      <th>param_logisticregression__solver</th>\n",
       "      <th>mean_test_f1</th>\n",
       "      <th>rank_test_f1</th>\n",
       "      <th>mean_test_accuracy</th>\n",
       "      <th>rank_test_accuracy</th>\n",
       "    </tr>\n",
       "  </thead>\n",
       "  <tbody>\n",
       "    <tr>\n",
       "      <th>0</th>\n",
       "      <td>0.001</td>\n",
       "      <td>500</td>\n",
       "      <td>newton-cg</td>\n",
       "      <td>0.402216</td>\n",
       "      <td>7</td>\n",
       "      <td>0.577987</td>\n",
       "      <td>3</td>\n",
       "    </tr>\n",
       "    <tr>\n",
       "      <th>1</th>\n",
       "      <td>0.001</td>\n",
       "      <td>500</td>\n",
       "      <td>lbfgs</td>\n",
       "      <td>0.402260</td>\n",
       "      <td>4</td>\n",
       "      <td>0.578009</td>\n",
       "      <td>1</td>\n",
       "    </tr>\n",
       "    <tr>\n",
       "      <th>2</th>\n",
       "      <td>0.001</td>\n",
       "      <td>500</td>\n",
       "      <td>liblinear</td>\n",
       "      <td>0.401798</td>\n",
       "      <td>9</td>\n",
       "      <td>0.565395</td>\n",
       "      <td>9</td>\n",
       "    </tr>\n",
       "    <tr>\n",
       "      <th>3</th>\n",
       "      <td>0.001</td>\n",
       "      <td>500</td>\n",
       "      <td>sag</td>\n",
       "      <td>0.402337</td>\n",
       "      <td>3</td>\n",
       "      <td>0.575614</td>\n",
       "      <td>6</td>\n",
       "    </tr>\n",
       "    <tr>\n",
       "      <th>4</th>\n",
       "      <td>0.001</td>\n",
       "      <td>500</td>\n",
       "      <td>saga</td>\n",
       "      <td>0.402792</td>\n",
       "      <td>1</td>\n",
       "      <td>0.570573</td>\n",
       "      <td>8</td>\n",
       "    </tr>\n",
       "    <tr>\n",
       "      <th>5</th>\n",
       "      <td>0.001</td>\n",
       "      <td>1000</td>\n",
       "      <td>newton-cg</td>\n",
       "      <td>0.402216</td>\n",
       "      <td>7</td>\n",
       "      <td>0.577987</td>\n",
       "      <td>3</td>\n",
       "    </tr>\n",
       "    <tr>\n",
       "      <th>6</th>\n",
       "      <td>0.001</td>\n",
       "      <td>1000</td>\n",
       "      <td>lbfgs</td>\n",
       "      <td>0.402260</td>\n",
       "      <td>4</td>\n",
       "      <td>0.578009</td>\n",
       "      <td>1</td>\n",
       "    </tr>\n",
       "    <tr>\n",
       "      <th>7</th>\n",
       "      <td>0.001</td>\n",
       "      <td>1000</td>\n",
       "      <td>liblinear</td>\n",
       "      <td>0.401798</td>\n",
       "      <td>9</td>\n",
       "      <td>0.565395</td>\n",
       "      <td>9</td>\n",
       "    </tr>\n",
       "    <tr>\n",
       "      <th>8</th>\n",
       "      <td>0.001</td>\n",
       "      <td>1000</td>\n",
       "      <td>sag</td>\n",
       "      <td>0.402249</td>\n",
       "      <td>6</td>\n",
       "      <td>0.576458</td>\n",
       "      <td>5</td>\n",
       "    </tr>\n",
       "    <tr>\n",
       "      <th>9</th>\n",
       "      <td>0.001</td>\n",
       "      <td>1000</td>\n",
       "      <td>saga</td>\n",
       "      <td>0.402780</td>\n",
       "      <td>2</td>\n",
       "      <td>0.573173</td>\n",
       "      <td>7</td>\n",
       "    </tr>\n",
       "    <tr>\n",
       "      <th>10</th>\n",
       "      <td>0.01</td>\n",
       "      <td>500</td>\n",
       "      <td>newton-cg</td>\n",
       "      <td>0.357679</td>\n",
       "      <td>13</td>\n",
       "      <td>0.547191</td>\n",
       "      <td>11</td>\n",
       "    </tr>\n",
       "    <tr>\n",
       "      <th>11</th>\n",
       "      <td>0.01</td>\n",
       "      <td>500</td>\n",
       "      <td>lbfgs</td>\n",
       "      <td>0.357615</td>\n",
       "      <td>16</td>\n",
       "      <td>0.547122</td>\n",
       "      <td>13</td>\n",
       "    </tr>\n",
       "    <tr>\n",
       "      <th>12</th>\n",
       "      <td>0.01</td>\n",
       "      <td>500</td>\n",
       "      <td>liblinear</td>\n",
       "      <td>0.357833</td>\n",
       "      <td>11</td>\n",
       "      <td>0.544727</td>\n",
       "      <td>16</td>\n",
       "    </tr>\n",
       "    <tr>\n",
       "      <th>13</th>\n",
       "      <td>0.01</td>\n",
       "      <td>500</td>\n",
       "      <td>sag</td>\n",
       "      <td>0.357627</td>\n",
       "      <td>15</td>\n",
       "      <td>0.544317</td>\n",
       "      <td>18</td>\n",
       "    </tr>\n",
       "    <tr>\n",
       "      <th>14</th>\n",
       "      <td>0.01</td>\n",
       "      <td>500</td>\n",
       "      <td>saga</td>\n",
       "      <td>0.357080</td>\n",
       "      <td>20</td>\n",
       "      <td>0.543336</td>\n",
       "      <td>20</td>\n",
       "    </tr>\n",
       "    <tr>\n",
       "      <th>15</th>\n",
       "      <td>0.01</td>\n",
       "      <td>1000</td>\n",
       "      <td>newton-cg</td>\n",
       "      <td>0.357679</td>\n",
       "      <td>13</td>\n",
       "      <td>0.547191</td>\n",
       "      <td>11</td>\n",
       "    </tr>\n",
       "    <tr>\n",
       "      <th>16</th>\n",
       "      <td>0.01</td>\n",
       "      <td>1000</td>\n",
       "      <td>lbfgs</td>\n",
       "      <td>0.357615</td>\n",
       "      <td>16</td>\n",
       "      <td>0.547122</td>\n",
       "      <td>13</td>\n",
       "    </tr>\n",
       "    <tr>\n",
       "      <th>17</th>\n",
       "      <td>0.01</td>\n",
       "      <td>1000</td>\n",
       "      <td>liblinear</td>\n",
       "      <td>0.357833</td>\n",
       "      <td>11</td>\n",
       "      <td>0.544727</td>\n",
       "      <td>16</td>\n",
       "    </tr>\n",
       "    <tr>\n",
       "      <th>18</th>\n",
       "      <td>0.01</td>\n",
       "      <td>1000</td>\n",
       "      <td>sag</td>\n",
       "      <td>0.357498</td>\n",
       "      <td>18</td>\n",
       "      <td>0.544773</td>\n",
       "      <td>15</td>\n",
       "    </tr>\n",
       "    <tr>\n",
       "      <th>19</th>\n",
       "      <td>0.01</td>\n",
       "      <td>1000</td>\n",
       "      <td>saga</td>\n",
       "      <td>0.357126</td>\n",
       "      <td>19</td>\n",
       "      <td>0.543427</td>\n",
       "      <td>19</td>\n",
       "    </tr>\n",
       "  </tbody>\n",
       "</table>\n",
       "</div>"
      ],
      "text/plain": [
       "   param_logisticregression__C param_logisticregression__max_iter  \\\n",
       "0                        0.001                                500   \n",
       "1                        0.001                                500   \n",
       "2                        0.001                                500   \n",
       "3                        0.001                                500   \n",
       "4                        0.001                                500   \n",
       "5                        0.001                               1000   \n",
       "6                        0.001                               1000   \n",
       "7                        0.001                               1000   \n",
       "8                        0.001                               1000   \n",
       "9                        0.001                               1000   \n",
       "10                        0.01                                500   \n",
       "11                        0.01                                500   \n",
       "12                        0.01                                500   \n",
       "13                        0.01                                500   \n",
       "14                        0.01                                500   \n",
       "15                        0.01                               1000   \n",
       "16                        0.01                               1000   \n",
       "17                        0.01                               1000   \n",
       "18                        0.01                               1000   \n",
       "19                        0.01                               1000   \n",
       "\n",
       "   param_logisticregression__solver  mean_test_f1  rank_test_f1  \\\n",
       "0                         newton-cg      0.402216             7   \n",
       "1                             lbfgs      0.402260             4   \n",
       "2                         liblinear      0.401798             9   \n",
       "3                               sag      0.402337             3   \n",
       "4                              saga      0.402792             1   \n",
       "5                         newton-cg      0.402216             7   \n",
       "6                             lbfgs      0.402260             4   \n",
       "7                         liblinear      0.401798             9   \n",
       "8                               sag      0.402249             6   \n",
       "9                              saga      0.402780             2   \n",
       "10                        newton-cg      0.357679            13   \n",
       "11                            lbfgs      0.357615            16   \n",
       "12                        liblinear      0.357833            11   \n",
       "13                              sag      0.357627            15   \n",
       "14                             saga      0.357080            20   \n",
       "15                        newton-cg      0.357679            13   \n",
       "16                            lbfgs      0.357615            16   \n",
       "17                        liblinear      0.357833            11   \n",
       "18                              sag      0.357498            18   \n",
       "19                             saga      0.357126            19   \n",
       "\n",
       "    mean_test_accuracy  rank_test_accuracy  \n",
       "0             0.577987                   3  \n",
       "1             0.578009                   1  \n",
       "2             0.565395                   9  \n",
       "3             0.575614                   6  \n",
       "4             0.570573                   8  \n",
       "5             0.577987                   3  \n",
       "6             0.578009                   1  \n",
       "7             0.565395                   9  \n",
       "8             0.576458                   5  \n",
       "9             0.573173                   7  \n",
       "10            0.547191                  11  \n",
       "11            0.547122                  13  \n",
       "12            0.544727                  16  \n",
       "13            0.544317                  18  \n",
       "14            0.543336                  20  \n",
       "15            0.547191                  11  \n",
       "16            0.547122                  13  \n",
       "17            0.544727                  16  \n",
       "18            0.544773                  15  \n",
       "19            0.543427                  19  "
      ]
     },
     "execution_count": 98,
     "metadata": {},
     "output_type": "execute_result"
    }
   ],
   "source": [
    "pd.DataFrame(gs_lr.cv_results_)[[\n",
    "    'param_logisticregression__C', 'param_logisticregression__max_iter',\n",
    "    'param_logisticregression__solver',\n",
    "    'mean_test_f1', 'rank_test_f1',\n",
    "    'mean_test_accuracy', 'rank_test_accuracy',\n",
    "]]"
   ]
  },
  {
   "cell_type": "code",
   "execution_count": 140,
   "metadata": {},
   "outputs": [
    {
     "name": "stdout",
     "output_type": "stream",
     "text": [
      "Метрика F1 составила 0.5646132624566834\n",
      "Метрика Accuracy составила 0.7047994890277841\n",
      "Метрика Precision составила 0.4517362045760431\n",
      "Метрика Recall составила 0.7526910656620022\n"
     ]
    },
    {
     "data": {
      "text/html": [
       "<div>\n",
       "<style scoped>\n",
       "    .dataframe tbody tr th:only-of-type {\n",
       "        vertical-align: middle;\n",
       "    }\n",
       "\n",
       "    .dataframe tbody tr th {\n",
       "        vertical-align: top;\n",
       "    }\n",
       "\n",
       "    .dataframe thead th {\n",
       "        text-align: right;\n",
       "    }\n",
       "</style>\n",
       "<table border=\"1\" class=\"dataframe\">\n",
       "  <thead>\n",
       "    <tr style=\"text-align: right;\">\n",
       "      <th></th>\n",
       "      <th>TN</th>\n",
       "      <th>FP</th>\n",
       "      <th>FN</th>\n",
       "      <th>TP</th>\n",
       "    </tr>\n",
       "  </thead>\n",
       "  <tbody>\n",
       "    <tr>\n",
       "      <th>Для оцениваемой модели</th>\n",
       "      <td>22506</td>\n",
       "      <td>10184</td>\n",
       "      <td>2757</td>\n",
       "      <td>8391</td>\n",
       "    </tr>\n",
       "  </tbody>\n",
       "</table>\n",
       "</div>"
      ],
      "text/plain": [
       "                           TN     FP    FN    TP\n",
       "Для оцениваемой модели  22506  10184  2757  8391"
      ]
     },
     "metadata": {},
     "output_type": "display_data"
    }
   ],
   "source": [
    "model_score(gs_lr, features, target, results_table)"
   ]
  },
  {
   "cell_type": "markdown",
   "metadata": {},
   "source": [
    "Модель имеет некоторые хорошие стороны, так как количество верно определенных положительных случаев (TP) высокое (8391), что, вероятно, приводит к хорошей прибавке к прибыли. Однако количество ложноположительных случаев (FP) также значительно (10184), что может увеличить привести к нежелательным последствиям в бизнесе."
   ]
  },
  {
   "cell_type": "markdown",
   "metadata": {},
   "source": [
    "**`LinearSVC`**"
   ]
  },
  {
   "cell_type": "code",
   "execution_count": 100,
   "metadata": {},
   "outputs": [],
   "source": [
    "pipe_lsvc = make_pipeline(\n",
    "    linear_transformer,\n",
    "    LinearSVC(\n",
    "        class_weight='balanced',\n",
    "        random_state=12345\n",
    "    )\n",
    ")"
   ]
  },
  {
   "cell_type": "code",
   "execution_count": 101,
   "metadata": {},
   "outputs": [],
   "source": [
    "param_grid = {\n",
    "    'linearsvc__loss':['hinge', 'squared_hinge'],\n",
    "    'linearsvc__C':[0.0001, .001, .01]\n",
    "}\n",
    "\n",
    "gs_lsvc = GridSearchCV(\n",
    "    pipe_lsvc,\n",
    "    param_grid,\n",
    "    scoring={'f1':'f1', 'accuracy':'accuracy'},\n",
    "    n_jobs=-1,\n",
    "    verbose=1,\n",
    "    refit='f1'\n",
    ")"
   ]
  },
  {
   "cell_type": "code",
   "execution_count": 102,
   "metadata": {},
   "outputs": [
    {
     "name": "stdout",
     "output_type": "stream",
     "text": [
      "Fitting 5 folds for each of 6 candidates, totalling 30 fits\n",
      "CPU times: user 27.3 s, sys: 8.22 ms, total: 27.4 s\n",
      "Wall time: 27.4 s\n"
     ]
    },
    {
     "data": {
      "text/plain": [
       "GridSearchCV(estimator=Pipeline(steps=[('columntransformer',\n",
       "                                        ColumnTransformer(remainder='passthrough',\n",
       "                                                          transformers=[('onehotencoder',\n",
       "                                                                         OneHotEncoder(dtype='uint8',\n",
       "                                                                                       handle_unknown='ignore'),\n",
       "                                                                         <sklearn.compose._column_transformer.make_column_selector object at 0x7f1ae0a94160>),\n",
       "                                                                        ('standardscaler',\n",
       "                                                                         StandardScaler(),\n",
       "                                                                         <sklearn.compose._column_transformer.make_column_selector object at 0x7f1ae0a94130>)])),\n",
       "                                       ('linearsvc',\n",
       "                                        LinearSVC(class_weight='balanced',\n",
       "                                                  random_state=12345))]),\n",
       "             n_jobs=-1,\n",
       "             param_grid={'linearsvc__C': [0.0001, 0.001, 0.01],\n",
       "                         'linearsvc__loss': ['hinge', 'squared_hinge']},\n",
       "             refit='f1', scoring={'accuracy': 'accuracy', 'f1': 'f1'},\n",
       "             verbose=1)"
      ]
     },
     "execution_count": 102,
     "metadata": {},
     "output_type": "execute_result"
    }
   ],
   "source": [
    "%time gs_lsvc.fit(features, target)"
   ]
  },
  {
   "cell_type": "code",
   "execution_count": 103,
   "metadata": {},
   "outputs": [
    {
     "data": {
      "text/html": [
       "<div>\n",
       "<style scoped>\n",
       "    .dataframe tbody tr th:only-of-type {\n",
       "        vertical-align: middle;\n",
       "    }\n",
       "\n",
       "    .dataframe tbody tr th {\n",
       "        vertical-align: top;\n",
       "    }\n",
       "\n",
       "    .dataframe thead th {\n",
       "        text-align: right;\n",
       "    }\n",
       "</style>\n",
       "<table border=\"1\" class=\"dataframe\">\n",
       "  <thead>\n",
       "    <tr style=\"text-align: right;\">\n",
       "      <th></th>\n",
       "      <th>param_linearsvc__C</th>\n",
       "      <th>param_linearsvc__loss</th>\n",
       "      <th>mean_test_f1</th>\n",
       "      <th>rank_test_f1</th>\n",
       "      <th>mean_test_accuracy</th>\n",
       "      <th>rank_test_accuracy</th>\n",
       "    </tr>\n",
       "  </thead>\n",
       "  <tbody>\n",
       "    <tr>\n",
       "      <th>0</th>\n",
       "      <td>0.0001</td>\n",
       "      <td>hinge</td>\n",
       "      <td>0.433500</td>\n",
       "      <td>1</td>\n",
       "      <td>0.540941</td>\n",
       "      <td>4</td>\n",
       "    </tr>\n",
       "    <tr>\n",
       "      <th>1</th>\n",
       "      <td>0.0001</td>\n",
       "      <td>squared_hinge</td>\n",
       "      <td>0.403807</td>\n",
       "      <td>2</td>\n",
       "      <td>0.563365</td>\n",
       "      <td>1</td>\n",
       "    </tr>\n",
       "    <tr>\n",
       "      <th>2</th>\n",
       "      <td>0.001</td>\n",
       "      <td>hinge</td>\n",
       "      <td>0.384388</td>\n",
       "      <td>3</td>\n",
       "      <td>0.553213</td>\n",
       "      <td>2</td>\n",
       "    </tr>\n",
       "    <tr>\n",
       "      <th>3</th>\n",
       "      <td>0.001</td>\n",
       "      <td>squared_hinge</td>\n",
       "      <td>0.357855</td>\n",
       "      <td>4</td>\n",
       "      <td>0.541488</td>\n",
       "      <td>3</td>\n",
       "    </tr>\n",
       "    <tr>\n",
       "      <th>4</th>\n",
       "      <td>0.01</td>\n",
       "      <td>hinge</td>\n",
       "      <td>0.354317</td>\n",
       "      <td>5</td>\n",
       "      <td>0.539595</td>\n",
       "      <td>5</td>\n",
       "    </tr>\n",
       "    <tr>\n",
       "      <th>5</th>\n",
       "      <td>0.01</td>\n",
       "      <td>squared_hinge</td>\n",
       "      <td>0.352709</td>\n",
       "      <td>6</td>\n",
       "      <td>0.537884</td>\n",
       "      <td>6</td>\n",
       "    </tr>\n",
       "  </tbody>\n",
       "</table>\n",
       "</div>"
      ],
      "text/plain": [
       "  param_linearsvc__C param_linearsvc__loss  mean_test_f1  rank_test_f1  \\\n",
       "0             0.0001                 hinge      0.433500             1   \n",
       "1             0.0001         squared_hinge      0.403807             2   \n",
       "2              0.001                 hinge      0.384388             3   \n",
       "3              0.001         squared_hinge      0.357855             4   \n",
       "4               0.01                 hinge      0.354317             5   \n",
       "5               0.01         squared_hinge      0.352709             6   \n",
       "\n",
       "   mean_test_accuracy  rank_test_accuracy  \n",
       "0            0.540941                   4  \n",
       "1            0.563365                   1  \n",
       "2            0.553213                   2  \n",
       "3            0.541488                   3  \n",
       "4            0.539595                   5  \n",
       "5            0.537884                   6  "
      ]
     },
     "execution_count": 103,
     "metadata": {},
     "output_type": "execute_result"
    }
   ],
   "source": [
    "pd.DataFrame(gs_lsvc.cv_results_)[[\n",
    "    'param_linearsvc__C', 'param_linearsvc__loss',\n",
    "    'mean_test_f1', 'rank_test_f1',\n",
    "    'mean_test_accuracy', 'rank_test_accuracy',\n",
    "]]"
   ]
  },
  {
   "cell_type": "code",
   "execution_count": 141,
   "metadata": {},
   "outputs": [
    {
     "name": "stdout",
     "output_type": "stream",
     "text": [
      "Метрика F1 составила 0.5194935217903416\n",
      "Метрика Accuracy составила 0.627765865231078\n",
      "Метрика Precision составила 0.3866824478344731\n",
      "Метрика Recall составила 0.7912630068173664\n"
     ]
    },
    {
     "data": {
      "text/html": [
       "<div>\n",
       "<style scoped>\n",
       "    .dataframe tbody tr th:only-of-type {\n",
       "        vertical-align: middle;\n",
       "    }\n",
       "\n",
       "    .dataframe tbody tr th {\n",
       "        vertical-align: top;\n",
       "    }\n",
       "\n",
       "    .dataframe thead th {\n",
       "        text-align: right;\n",
       "    }\n",
       "</style>\n",
       "<table border=\"1\" class=\"dataframe\">\n",
       "  <thead>\n",
       "    <tr style=\"text-align: right;\">\n",
       "      <th></th>\n",
       "      <th>TN</th>\n",
       "      <th>FP</th>\n",
       "      <th>FN</th>\n",
       "      <th>TP</th>\n",
       "    </tr>\n",
       "  </thead>\n",
       "  <tbody>\n",
       "    <tr>\n",
       "      <th>Для оцениваемой модели</th>\n",
       "      <td>18699</td>\n",
       "      <td>13991</td>\n",
       "      <td>2327</td>\n",
       "      <td>8821</td>\n",
       "    </tr>\n",
       "  </tbody>\n",
       "</table>\n",
       "</div>"
      ],
      "text/plain": [
       "                           TN     FP    FN    TP\n",
       "Для оцениваемой модели  18699  13991  2327  8821"
      ]
     },
     "metadata": {},
     "output_type": "display_data"
    }
   ],
   "source": [
    "model_score(gs_lsvc, features, target, results_table)"
   ]
  },
  {
   "cell_type": "markdown",
   "metadata": {},
   "source": [
    "Слишком велико FP, а особенно когда речь идет о прогнозировании отмены брони, такая система может дать непредсказуемый результат бизнесу."
   ]
  },
  {
   "cell_type": "markdown",
   "metadata": {},
   "source": [
    "**Вывод:**"
   ]
  },
  {
   "cell_type": "code",
   "execution_count": 142,
   "metadata": {},
   "outputs": [
    {
     "data": {
      "text/html": [
       "<div>\n",
       "<style scoped>\n",
       "    .dataframe tbody tr th:only-of-type {\n",
       "        vertical-align: middle;\n",
       "    }\n",
       "\n",
       "    .dataframe tbody tr th {\n",
       "        vertical-align: top;\n",
       "    }\n",
       "\n",
       "    .dataframe thead th {\n",
       "        text-align: right;\n",
       "    }\n",
       "</style>\n",
       "<table border=\"1\" class=\"dataframe\">\n",
       "  <thead>\n",
       "    <tr style=\"text-align: right;\">\n",
       "      <th></th>\n",
       "      <th>F1</th>\n",
       "      <th>Accuracy</th>\n",
       "      <th>TN</th>\n",
       "      <th>FP</th>\n",
       "      <th>FN</th>\n",
       "      <th>TP</th>\n",
       "      <th>Precision</th>\n",
       "      <th>Recall</th>\n",
       "    </tr>\n",
       "  </thead>\n",
       "  <tbody>\n",
       "    <tr>\n",
       "      <th>DummyClassifierRandom</th>\n",
       "      <td>0.337898</td>\n",
       "      <td>0.499293</td>\n",
       "      <td>16287.0</td>\n",
       "      <td>16403.0</td>\n",
       "      <td>5547.0</td>\n",
       "      <td>5601.0</td>\n",
       "      <td>0.254545</td>\n",
       "      <td>0.502422</td>\n",
       "    </tr>\n",
       "    <tr>\n",
       "      <th>RandomForestClassifier</th>\n",
       "      <td>0.575332</td>\n",
       "      <td>0.723459</td>\n",
       "      <td>23503.0</td>\n",
       "      <td>9187.0</td>\n",
       "      <td>2936.0</td>\n",
       "      <td>8212.0</td>\n",
       "      <td>0.471981</td>\n",
       "      <td>0.736634</td>\n",
       "    </tr>\n",
       "    <tr>\n",
       "      <th>AdaBoostClassifier</th>\n",
       "      <td>0.528373</td>\n",
       "      <td>0.805671</td>\n",
       "      <td>30547.0</td>\n",
       "      <td>2143.0</td>\n",
       "      <td>6376.0</td>\n",
       "      <td>4772.0</td>\n",
       "      <td>0.690094</td>\n",
       "      <td>0.428059</td>\n",
       "    </tr>\n",
       "    <tr>\n",
       "      <th>GradientBoostingClassifier</th>\n",
       "      <td>0.563681</td>\n",
       "      <td>0.820886</td>\n",
       "      <td>30914.0</td>\n",
       "      <td>1776.0</td>\n",
       "      <td>6076.0</td>\n",
       "      <td>5072.0</td>\n",
       "      <td>0.740654</td>\n",
       "      <td>0.454970</td>\n",
       "    </tr>\n",
       "    <tr>\n",
       "      <th>LogisticRegression</th>\n",
       "      <td>0.564613</td>\n",
       "      <td>0.704799</td>\n",
       "      <td>22506.0</td>\n",
       "      <td>10184.0</td>\n",
       "      <td>2757.0</td>\n",
       "      <td>8391.0</td>\n",
       "      <td>0.451736</td>\n",
       "      <td>0.752691</td>\n",
       "    </tr>\n",
       "    <tr>\n",
       "      <th>LinearSVC</th>\n",
       "      <td>0.519494</td>\n",
       "      <td>0.627766</td>\n",
       "      <td>18699.0</td>\n",
       "      <td>13991.0</td>\n",
       "      <td>2327.0</td>\n",
       "      <td>8821.0</td>\n",
       "      <td>0.386682</td>\n",
       "      <td>0.791263</td>\n",
       "    </tr>\n",
       "  </tbody>\n",
       "</table>\n",
       "</div>"
      ],
      "text/plain": [
       "                                  F1  Accuracy       TN       FP      FN  \\\n",
       "DummyClassifierRandom       0.337898  0.499293  16287.0  16403.0  5547.0   \n",
       "RandomForestClassifier      0.575332  0.723459  23503.0   9187.0  2936.0   \n",
       "AdaBoostClassifier          0.528373  0.805671  30547.0   2143.0  6376.0   \n",
       "GradientBoostingClassifier  0.563681  0.820886  30914.0   1776.0  6076.0   \n",
       "LogisticRegression          0.564613  0.704799  22506.0  10184.0  2757.0   \n",
       "LinearSVC                   0.519494  0.627766  18699.0  13991.0  2327.0   \n",
       "\n",
       "                                TP  Precision    Recall  \n",
       "DummyClassifierRandom       5601.0   0.254545  0.502422  \n",
       "RandomForestClassifier      8212.0   0.471981  0.736634  \n",
       "AdaBoostClassifier          4772.0   0.690094  0.428059  \n",
       "GradientBoostingClassifier  5072.0   0.740654  0.454970  \n",
       "LogisticRegression          8391.0   0.451736  0.752691  \n",
       "LinearSVC                   8821.0   0.386682  0.791263  "
      ]
     },
     "execution_count": 142,
     "metadata": {},
     "output_type": "execute_result"
    }
   ],
   "source": [
    "pd.DataFrame(\n",
    "    results_table, index=[\n",
    "        'F1', 'Accuracy', 'TN', 'FP', 'FN', 'TP', 'Precision', 'Recall',\n",
    "    ]\n",
    ").transpose()"
   ]
  },
  {
   "cell_type": "markdown",
   "metadata": {},
   "source": [
    "Каждая модель обладает своей спецификой в балансировке между выявлением негативных и позитивных классов. Важно отметить, что  все модели превосходят случайную модель по метрике точности.\n",
    "\n",
    "При выборе оптимальной модели мы стремимся максимизировать потенциальную прибыль, обращая внимание на увеличение количества истинно положительных результатов (TP) и снижение количества ложноотрицательных результатов (FN). Однако важно помнить, что клиенты, которых система могла бы неверно отнести к категории отказников и вынудить оплатить депозит, могут в итоге отказаться от услуг отеля полностью.\n",
    "\n",
    "Таким образом, при принятии решения по выбору модели необходимо учитывать не только потенциальную прибыль, но и возможные негативные последствия для отеля."
   ]
  },
  {
   "cell_type": "markdown",
   "metadata": {},
   "source": [
    "**`RandomForestClassifier`**"
   ]
  },
  {
   "cell_type": "code",
   "execution_count": 143,
   "metadata": {},
   "outputs": [
    {
     "name": "stdout",
     "output_type": "stream",
     "text": [
      "Fitting 5 folds for each of 18 candidates, totalling 90 fits\n",
      "CPU times: user 1min 20s, sys: 176 ms, total: 1min 20s\n",
      "Wall time: 1min 20s\n"
     ]
    },
    {
     "data": {
      "text/plain": [
       "GridSearchCV(estimator=Pipeline(steps=[('columntransformer',\n",
       "                                        ColumnTransformer(remainder='passthrough',\n",
       "                                                          transformers=[('ordinalencoder',\n",
       "                                                                         OrdinalEncoder(dtype='int16',\n",
       "                                                                                        handle_unknown='use_encoded_value',\n",
       "                                                                                        unknown_value=-1),\n",
       "                                                                         <sklearn.compose._column_transformer.make_column_selector object at 0x7f1ae0679d30>)])),\n",
       "                                       ('randomforestclassifier',\n",
       "                                        RandomForestClassifier(class_weight='balanced',\n",
       "                                                               n_jobs=-1,\n",
       "                                                               random_state=12345))]),\n",
       "             n_jobs=-1,\n",
       "             param_grid={'randomforestclassifier__max_depth': array([1, 2, 3, 4, 5, 6, 7, 8, 9]),\n",
       "                         'randomforestclassifier__n_estimators': array([100, 150])},\n",
       "             refit='f1',\n",
       "             scoring={'accuracy': 'accuracy', 'f1': 'f1',\n",
       "                      'precision': 'precision', 'recall': 'recall'},\n",
       "             verbose=1)"
      ]
     },
     "execution_count": 143,
     "metadata": {},
     "output_type": "execute_result"
    }
   ],
   "source": [
    "%time gs_rf.fit(features_test, target_test)"
   ]
  },
  {
   "cell_type": "code",
   "execution_count": 154,
   "metadata": {},
   "outputs": [
    {
     "name": "stdout",
     "output_type": "stream",
     "text": [
      "Метрика F1 составила 0.5940401450172429\n",
      "Метрика Accuracy составила 0.6280482864781658\n",
      "Метрика Precision составила 0.452909054136048\n",
      "Метрика Recall составила 0.862941554271034\n",
      "Прибыль за 2017 год составила 36779280.0 млн. рублей\n"
     ]
    },
    {
     "data": {
      "text/html": [
       "<div>\n",
       "<style scoped>\n",
       "    .dataframe tbody tr th:only-of-type {\n",
       "        vertical-align: middle;\n",
       "    }\n",
       "\n",
       "    .dataframe tbody tr th {\n",
       "        vertical-align: top;\n",
       "    }\n",
       "\n",
       "    .dataframe thead th {\n",
       "        text-align: right;\n",
       "    }\n",
       "</style>\n",
       "<table border=\"1\" class=\"dataframe\">\n",
       "  <thead>\n",
       "    <tr style=\"text-align: right;\">\n",
       "      <th></th>\n",
       "      <th>TN</th>\n",
       "      <th>FP</th>\n",
       "      <th>FN</th>\n",
       "      <th>TP</th>\n",
       "    </tr>\n",
       "  </thead>\n",
       "  <tbody>\n",
       "    <tr>\n",
       "      <th>Для выбранной модели</th>\n",
       "      <td>8786</td>\n",
       "      <td>8115</td>\n",
       "      <td>1067</td>\n",
       "      <td>6718</td>\n",
       "    </tr>\n",
       "  </tbody>\n",
       "</table>\n",
       "</div>"
      ],
      "text/plain": [
       "                        TN    FP    FN    TP\n",
       "Для выбранной модели  8786  8115  1067  6718"
      ]
     },
     "metadata": {},
     "output_type": "display_data"
    }
   ],
   "source": [
    "model_score_best(gs_rf, features_test, target_test, results_table_best)"
   ]
  },
  {
   "cell_type": "markdown",
   "metadata": {},
   "source": [
    "### Шаг 5. Опишите портрет «ненадёжного» клиента"
   ]
  },
  {
   "cell_type": "code",
   "execution_count": null,
   "metadata": {},
   "outputs": [],
   "source": [
    "# Создание корреляционной матрицы без столбца 'income'\n",
    "corr_matrix = hotel_test.drop('income', axis=1).corr()\n",
    "\n",
    "data = go.Heatmap(\n",
    "    z=corr_matrix.values,\n",
    "    x=corr_matrix.columns,\n",
    "    y=corr_matrix.columns,\n",
    "    colorscale='Viridis',\n",
    "    colorbar=dict(title='Correlation')\n",
    ")\n",
    "\n",
    "layout = go.Layout(\n",
    "    title='Correlation Heatmap',\n",
    "    xaxis=dict(title='Features'),\n",
    "    yaxis=dict(title='Features')\n",
    ")\n",
    "\n",
    "fig = go.Figure(data=[data], layout=layout)\n",
    "pyo.iplot(fig)"
   ]
  },
  {
   "cell_type": "markdown",
   "metadata": {},
   "source": [
    "Кажется, основная связь между факторами проявляется между `is_canceled` и `lead_time`: чем больше времени проходит с момента бронирования до даты заселения, тем вероятнее отмена брони. Отрицательные взаимосвязи существуют приблизительно одного уровня с факторами `is_repeated_guest`, `booking_changes`, `required_car_parking_spaces` и `total_of_special_requests`."
   ]
  },
  {
   "cell_type": "markdown",
   "metadata": {},
   "source": [
    "Стоит также обратить внимание на `is_repeated_guest` - это показатель, свидетельствующий о повторном бронировании номера гостем. Он показывает сильную корреляцию с `previous_bookings_not_canceled` - числом подтвержденных заказов у клиента, и `previous_cancellations` - количеством отмененных заказов этого же клиента."
   ]
  },
  {
   "cell_type": "markdown",
   "metadata": {},
   "source": [
    "Кроме анализа связи вероятности отмены с другими факторами в определенных сценариях, важно рассмотреть, как изменяется вероятность отмены в зависимости от количества младенцев и детей."
   ]
  },
  {
   "cell_type": "code",
   "execution_count": null,
   "metadata": {},
   "outputs": [],
   "source": [
    "for kids in ['babies', 'children']:\n",
    "    \n",
    "    plt.figure(figsize=(15, 3))\n",
    "\n",
    "    sns.heatmap(hotel_test.drop('income', axis=1).groupby(kids).corrwith(hotel_test['is_canceled']), linewidth=2, annot=True)\n",
    "\n",
    "    plt.show()"
   ]
  },
  {
   "cell_type": "markdown",
   "metadata": {},
   "source": [
    "При анализе бронирования видно, что вероятность отказа от брони растет в случае наличия младенцев. Отпуск с младенцами, кажется, менее предсказуемым, в то время как планирование отпуска с большой семьей чаще соблюдается по плану.\n",
    "\n",
    "Аналогичная тенденция отмечается и в зависимости от недели заезда. Вероятность отмены отпуска у семей с тремя детьми невелика, и имеются дополнительные запросы.\n",
    "\n",
    "Также увеличение количества детей сопровождается увеличением вероятности отмены при увеличении длительности пребывания в отеле.\n",
    "\n",
    "В целом, анализ этих факторов указывает на то, что клиенты, останавливающиеся в отеле впервые, реже вносят изменения в бронь, не бронируют места для машины, не делают специальных запросов и часто бронируют номера задолго до поездки. Они склонны к отменам и могут считаться менее \"надежными\"."
   ]
  },
  {
   "cell_type": "markdown",
   "metadata": {},
   "source": [
    "### Шаг 6. Напишите общий вывод"
   ]
  },
  {
   "cell_type": "markdown",
   "metadata": {},
   "source": [
    "В ходе выполнения проекта нами было выполнено:\n",
    "\n",
    "**Предобработка и исследовательский анализ данных:**\n",
    "- Проверили данные и откорректировали их там, где потребовалось. Провели исследовательский анализ представленных данных. Описали найденные особенности\n",
    "- Выяснили, что в исходных датафреймах нет пропущенных и дублирующихся значений\n",
    "- Удалили столбец id, так как наличие такого большого количества уникальных значений создает сложности для решения задачи, однако не приносит ценности для качества будущей модели, удалили дублирующиеся строки после удаления столбца\n",
    "- В столбцах reserved_room_type - тип забронированной комнаты и meal - опции заказа были лишние пробелы, убрали их\n",
    "- В столбце babies — количество младенцев было два аномальных значения с 9 и 10 младенцами. Избавились от этих аномальных значений, все же у нас сеть отелей, а не дом малютки :)\n",
    "- В столбце required_car_parking_spaces — необходимость места для автомобиля тоже были лишние значения, избавились от них\n",
    "\n"
   ]
  },
  {
   "cell_type": "markdown",
   "metadata": {},
   "source": [
    "**Вычисление бизнес-метрики:**\n",
    "- Оценили прибыль отеля без внедрения депозитов\n",
    "\n",
    "**Создали функцию для расчета доходности бронирования:**\n",
    "\n",
    "- Расчет сезонного коэффициента: В зависимости от месяца заезда, определяется коэффициент сезонности, который влияет на цену номера.\n",
    "- Расчет стоимости номера: Используются данные о типе зарезервированного номера, общем количестве ночей и сезонном коэффициенте для определения стоимости проживания.\n",
    "- Расчет затрат на обслуживание: Затраты на уборку вычисляются в зависимости от количества ночей проживания и типа номера.\n",
    "- Расчет затрат при отмене бронирования: Если бронь была отменена (is_canceled == 1), то учитывается убыток от отмены бронирования, который включает стоимость одной уборки и одной ночи с учетом сезонного коэффициента.\n",
    "- Применение функции к данным Функция calculate_income применяется к каждой записи (строке) в DataFrame hotel_train и hotel_test, чтобы рассчитать доходность бронирования и записать результат в новый столбец income.\n",
    "\n",
    "Этот код позволил оценить доходность отдельных бронирований, учитывая различные факторы, такие как тип номера, длительность проживания, сезонные изменения цен и статус отмены брони."
   ]
  },
  {
   "cell_type": "markdown",
   "metadata": {},
   "source": [
    "**Разработка модели ML:**\n",
    "- Обучили разные модели и оценили их качество. \n",
    "- Описали выводы. \n",
    "- Но в контексте представленных метрик и показателей, модель RandomForestClassifier выделяется на фоне других вариантов. Её способность обеспечить  высокую точность (Accuracy) и уровень F1-меры указывают на хороший баланс между точностью и полнотой предсказаний. Особенно важно отметить величины TN (True Negative) и TP (True Positive), которые представляют собой количество правильно определенных объектов отрицательного и положительного классов соответственно. Также Precision и Recall подчеркивают, что модель способна делать достаточно точные и полные прогнозы относительно различных классов. Но самым весомым аспектом является и прибыль, которая модель RandomForestClassifier обещает принести. Её способность прогнозировать прибыль достигает 36 779 280, что делает её очень привлекательным вариантом для бизнеса. С учётом всех этих факторов, можно с уверенностью утверждать, что RandomForestClassifier представляет собой оптимальное и сбалансированное решение для задачи прогнозирования в данном контексте."
   ]
  },
  {
   "cell_type": "markdown",
   "metadata": {},
   "source": [
    "**Выявление признаков «ненадёжного» клиента:**\n",
    "- На основе исследовательского анализа данных описали клиента, склонного к отказу от брони: клиенты, останавливающиеся в отеле впервые, реже вносящие изменения в бронь, небронирующие места для машины, неделающие специальных запросов и часто бронирующие номера задолго до поездки более склонны к отменам и могут считаться менее \"надежными\"."
   ]
  },
  {
   "cell_type": "markdown",
   "metadata": {},
   "source": [
    "Модели машинного обучения имеют огромное значение для бизнеса. Они позволяют компаниям анализировать большие объемы данных для выявления закономерностей и предсказания будущих тенденций. Это помогает оптимизировать процессы, улучшить прогнозы спроса, повысить эффективность производства и снизить издержки.\n",
    "\n",
    "Модели машинного обучения также способны автоматизировать рутинные задачи, что позволяет сотрудникам сосредоточиться на более стратегически важных задачах. \n",
    "\n",
    "Использование моделей машинного обучения также позволяет нализировать риски и улучшать процессы принятия решений на основе данных. В целом, они играют ключевую роль в повышении конкурентоспособности компаний и помогают им адаптироваться к быстро меняющейся бизнес-среде."
   ]
  }
 ],
 "metadata": {
  "ExecuteTimeLog": [
   {
    "duration": 28057,
    "start_time": "2023-11-22T13:11:23.629Z"
   },
   {
    "duration": 149,
    "start_time": "2023-11-22T13:14:25.303Z"
   },
   {
    "duration": 44,
    "start_time": "2023-11-22T13:14:45.718Z"
   },
   {
    "duration": 45,
    "start_time": "2023-11-22T13:14:55.767Z"
   },
   {
    "duration": 52,
    "start_time": "2023-11-22T13:15:16.319Z"
   },
   {
    "duration": 565,
    "start_time": "2023-11-22T13:15:44.925Z"
   },
   {
    "duration": 294,
    "start_time": "2023-11-22T13:17:34.249Z"
   },
   {
    "duration": 58,
    "start_time": "2023-11-25T12:58:03.265Z"
   },
   {
    "duration": 25475,
    "start_time": "2023-11-25T12:58:09.529Z"
   },
   {
    "duration": 218,
    "start_time": "2023-11-25T12:58:35.006Z"
   },
   {
    "duration": 211,
    "start_time": "2023-11-25T12:58:35.226Z"
   },
   {
    "duration": 99,
    "start_time": "2023-11-25T12:58:35.439Z"
   },
   {
    "duration": 2959,
    "start_time": "2023-11-25T12:58:56.476Z"
   },
   {
    "duration": 9,
    "start_time": "2023-11-25T12:59:01.985Z"
   },
   {
    "duration": 8,
    "start_time": "2023-11-25T13:00:23.552Z"
   },
   {
    "duration": 2660,
    "start_time": "2023-11-25T13:00:28.376Z"
   },
   {
    "duration": 13,
    "start_time": "2023-11-25T13:00:34.094Z"
   },
   {
    "duration": 2710,
    "start_time": "2023-11-25T13:01:21.460Z"
   },
   {
    "duration": 8,
    "start_time": "2023-11-25T13:01:34.527Z"
   },
   {
    "duration": 3853,
    "start_time": "2023-11-25T13:02:42.493Z"
   },
   {
    "duration": 33260,
    "start_time": "2023-11-25T13:02:52.864Z"
   },
   {
    "duration": 33818,
    "start_time": "2023-11-25T13:03:56.402Z"
   },
   {
    "duration": 154,
    "start_time": "2023-11-25T13:05:03.544Z"
   },
   {
    "duration": 199,
    "start_time": "2023-11-25T13:05:08.385Z"
   },
   {
    "duration": 142,
    "start_time": "2023-11-25T13:05:27.680Z"
   },
   {
    "duration": 123,
    "start_time": "2023-11-25T13:05:29.985Z"
   },
   {
    "duration": 4656,
    "start_time": "2023-11-25T13:05:36.488Z"
   },
   {
    "duration": 32812,
    "start_time": "2023-11-25T13:06:04.529Z"
   },
   {
    "duration": 5102,
    "start_time": "2023-11-25T13:06:47.023Z"
   },
   {
    "duration": 0,
    "start_time": "2023-11-25T13:06:52.127Z"
   },
   {
    "duration": 0,
    "start_time": "2023-11-25T13:06:52.127Z"
   },
   {
    "duration": 0,
    "start_time": "2023-11-25T13:06:52.128Z"
   },
   {
    "duration": 0,
    "start_time": "2023-11-25T13:06:52.129Z"
   },
   {
    "duration": 5089,
    "start_time": "2023-11-25T13:07:22.156Z"
   },
   {
    "duration": 148,
    "start_time": "2023-11-25T13:07:27.247Z"
   },
   {
    "duration": 75,
    "start_time": "2023-11-25T13:07:27.396Z"
   },
   {
    "duration": 3393,
    "start_time": "2023-11-25T13:07:27.473Z"
   },
   {
    "duration": 42271,
    "start_time": "2023-11-25T13:07:30.869Z"
   },
   {
    "duration": 39,
    "start_time": "2023-11-25T13:11:37.571Z"
   },
   {
    "duration": 28,
    "start_time": "2023-11-25T13:12:13.676Z"
   },
   {
    "duration": 20,
    "start_time": "2023-11-25T13:15:54.143Z"
   },
   {
    "duration": 20,
    "start_time": "2023-11-25T13:16:01.829Z"
   },
   {
    "duration": 20,
    "start_time": "2023-11-25T13:16:22.696Z"
   },
   {
    "duration": 41462,
    "start_time": "2023-11-25T13:23:30.362Z"
   },
   {
    "duration": 171,
    "start_time": "2023-11-25T13:34:17.181Z"
   },
   {
    "duration": 17,
    "start_time": "2023-11-25T13:34:22.805Z"
   },
   {
    "duration": 20,
    "start_time": "2023-11-25T13:34:51.269Z"
   },
   {
    "duration": 18,
    "start_time": "2023-11-25T13:35:00.645Z"
   },
   {
    "duration": 16,
    "start_time": "2023-11-25T13:35:06.584Z"
   },
   {
    "duration": 20,
    "start_time": "2023-11-25T13:35:13.102Z"
   },
   {
    "duration": 6,
    "start_time": "2023-11-25T13:35:20.657Z"
   },
   {
    "duration": 18,
    "start_time": "2023-11-25T13:35:23.147Z"
   },
   {
    "duration": 19,
    "start_time": "2023-11-25T13:35:30.926Z"
   },
   {
    "duration": 66,
    "start_time": "2023-11-25T13:47:35.816Z"
   },
   {
    "duration": 63,
    "start_time": "2023-11-25T13:50:51.038Z"
   },
   {
    "duration": 49,
    "start_time": "2023-11-25T13:50:58.002Z"
   },
   {
    "duration": 19,
    "start_time": "2023-11-25T13:51:34.397Z"
   },
   {
    "duration": 31,
    "start_time": "2023-11-25T13:51:45.751Z"
   },
   {
    "duration": 14,
    "start_time": "2023-11-25T14:38:10.893Z"
   },
   {
    "duration": 4,
    "start_time": "2023-11-25T14:38:21.563Z"
   },
   {
    "duration": 5,
    "start_time": "2023-11-25T14:38:28.976Z"
   },
   {
    "duration": 6,
    "start_time": "2023-11-25T14:39:16.161Z"
   },
   {
    "duration": 43,
    "start_time": "2023-11-25T14:43:13.454Z"
   },
   {
    "duration": 6,
    "start_time": "2023-11-25T14:43:25.366Z"
   },
   {
    "duration": 5,
    "start_time": "2023-11-25T14:44:03.699Z"
   },
   {
    "duration": 5,
    "start_time": "2023-11-25T14:44:22.477Z"
   },
   {
    "duration": 4,
    "start_time": "2023-11-25T14:44:33.228Z"
   },
   {
    "duration": 5,
    "start_time": "2023-11-25T14:44:52.247Z"
   },
   {
    "duration": 41,
    "start_time": "2023-11-25T14:45:08.488Z"
   },
   {
    "duration": 7,
    "start_time": "2023-11-25T14:45:22.433Z"
   },
   {
    "duration": 20,
    "start_time": "2023-11-25T14:45:28.427Z"
   },
   {
    "duration": 6,
    "start_time": "2023-11-25T14:45:30.223Z"
   },
   {
    "duration": 41,
    "start_time": "2023-11-25T14:45:36.768Z"
   },
   {
    "duration": 6,
    "start_time": "2023-11-25T14:45:38.392Z"
   },
   {
    "duration": 52,
    "start_time": "2023-11-25T14:47:39.578Z"
   },
   {
    "duration": 14,
    "start_time": "2023-11-25T14:54:15.681Z"
   },
   {
    "duration": 4,
    "start_time": "2023-11-25T14:54:29.412Z"
   },
   {
    "duration": 8,
    "start_time": "2023-11-25T15:03:27.982Z"
   },
   {
    "duration": 3,
    "start_time": "2023-11-25T15:03:41.065Z"
   },
   {
    "duration": 4,
    "start_time": "2023-11-25T15:04:02.548Z"
   },
   {
    "duration": 4,
    "start_time": "2023-11-25T15:04:04.412Z"
   },
   {
    "duration": 5258,
    "start_time": "2023-11-25T15:04:21.566Z"
   },
   {
    "duration": 159,
    "start_time": "2023-11-25T15:04:26.826Z"
   },
   {
    "duration": 76,
    "start_time": "2023-11-25T15:04:26.987Z"
   },
   {
    "duration": 31,
    "start_time": "2023-11-25T15:04:27.064Z"
   },
   {
    "duration": 19,
    "start_time": "2023-11-25T15:04:27.098Z"
   },
   {
    "duration": 24,
    "start_time": "2023-11-25T15:04:27.118Z"
   },
   {
    "duration": 21,
    "start_time": "2023-11-25T15:04:27.166Z"
   },
   {
    "duration": 42629,
    "start_time": "2023-11-25T15:04:27.188Z"
   },
   {
    "duration": 41906,
    "start_time": "2023-11-25T15:05:09.819Z"
   },
   {
    "duration": 40,
    "start_time": "2023-11-25T15:05:51.728Z"
   },
   {
    "duration": 127,
    "start_time": "2023-11-25T15:05:51.770Z"
   },
   {
    "duration": 176,
    "start_time": "2023-11-25T15:05:51.898Z"
   },
   {
    "duration": 203,
    "start_time": "2023-11-25T15:05:52.075Z"
   },
   {
    "duration": 0,
    "start_time": "2023-11-25T15:05:52.280Z"
   },
   {
    "duration": 0,
    "start_time": "2023-11-25T15:05:52.281Z"
   },
   {
    "duration": 0,
    "start_time": "2023-11-25T15:05:52.282Z"
   },
   {
    "duration": 0,
    "start_time": "2023-11-25T15:05:52.283Z"
   },
   {
    "duration": 6,
    "start_time": "2023-11-25T15:07:10.490Z"
   },
   {
    "duration": 56,
    "start_time": "2023-11-25T15:07:13.432Z"
   },
   {
    "duration": 12,
    "start_time": "2023-11-25T15:07:16.683Z"
   },
   {
    "duration": 12,
    "start_time": "2023-11-25T15:07:19.038Z"
   },
   {
    "duration": 4,
    "start_time": "2023-11-25T15:07:20.792Z"
   },
   {
    "duration": 873,
    "start_time": "2023-11-25T15:23:07.593Z"
   },
   {
    "duration": 23,
    "start_time": "2023-11-25T15:23:27.020Z"
   },
   {
    "duration": 21,
    "start_time": "2023-11-25T15:24:23.968Z"
   },
   {
    "duration": 19,
    "start_time": "2023-11-25T15:26:11.289Z"
   },
   {
    "duration": 449,
    "start_time": "2023-11-25T15:27:04.898Z"
   },
   {
    "duration": 9,
    "start_time": "2023-11-25T15:27:53.834Z"
   },
   {
    "duration": 8,
    "start_time": "2023-11-25T15:28:06.553Z"
   },
   {
    "duration": 20,
    "start_time": "2023-11-25T15:28:59.474Z"
   },
   {
    "duration": 894,
    "start_time": "2023-11-25T15:31:45.246Z"
   },
   {
    "duration": 897,
    "start_time": "2023-11-25T15:32:34.453Z"
   },
   {
    "duration": 12,
    "start_time": "2023-11-25T15:33:14.239Z"
   },
   {
    "duration": 21,
    "start_time": "2023-11-25T15:36:11.573Z"
   },
   {
    "duration": 4,
    "start_time": "2023-11-25T15:45:02.062Z"
   },
   {
    "duration": 973,
    "start_time": "2023-11-25T15:47:46.372Z"
   },
   {
    "duration": 22,
    "start_time": "2023-11-25T15:47:53.679Z"
   },
   {
    "duration": 20,
    "start_time": "2023-11-25T15:58:48.349Z"
   },
   {
    "duration": 23,
    "start_time": "2023-11-25T15:59:27.121Z"
   },
   {
    "duration": 19,
    "start_time": "2023-11-25T15:59:40.857Z"
   },
   {
    "duration": 21,
    "start_time": "2023-11-25T16:00:10.726Z"
   },
   {
    "duration": 12,
    "start_time": "2023-11-25T16:01:58.324Z"
   },
   {
    "duration": 39,
    "start_time": "2023-11-25T16:06:44.112Z"
   },
   {
    "duration": 35,
    "start_time": "2023-11-25T16:06:55.284Z"
   },
   {
    "duration": 20,
    "start_time": "2023-11-25T16:09:32.572Z"
   },
   {
    "duration": 7,
    "start_time": "2023-11-25T16:09:48.113Z"
   },
   {
    "duration": 28107,
    "start_time": "2023-11-26T11:11:13.991Z"
   },
   {
    "duration": 238,
    "start_time": "2023-11-26T11:11:42.100Z"
   },
   {
    "duration": 212,
    "start_time": "2023-11-26T11:11:42.339Z"
   },
   {
    "duration": 33,
    "start_time": "2023-11-26T11:11:42.553Z"
   },
   {
    "duration": 28,
    "start_time": "2023-11-26T11:11:42.588Z"
   },
   {
    "duration": 34,
    "start_time": "2023-11-26T11:11:42.618Z"
   },
   {
    "duration": 29,
    "start_time": "2023-11-26T11:11:42.654Z"
   },
   {
    "duration": 35809,
    "start_time": "2023-11-26T11:11:42.685Z"
   },
   {
    "duration": 31279,
    "start_time": "2023-11-26T11:12:18.507Z"
   },
   {
    "duration": 26,
    "start_time": "2023-11-26T11:12:49.788Z"
   },
   {
    "duration": 101,
    "start_time": "2023-11-26T11:12:49.817Z"
   },
   {
    "duration": 85,
    "start_time": "2023-11-26T11:12:49.921Z"
   },
   {
    "duration": 8,
    "start_time": "2023-11-26T11:12:50.009Z"
   },
   {
    "duration": 86,
    "start_time": "2023-11-26T11:12:50.021Z"
   },
   {
    "duration": 10,
    "start_time": "2023-11-26T11:12:50.109Z"
   },
   {
    "duration": 19,
    "start_time": "2023-11-26T11:12:50.121Z"
   },
   {
    "duration": 1000,
    "start_time": "2023-11-26T11:12:50.142Z"
   },
   {
    "duration": 23,
    "start_time": "2023-11-26T11:12:51.144Z"
   },
   {
    "duration": 61,
    "start_time": "2023-11-26T11:12:51.169Z"
   },
   {
    "duration": 1731,
    "start_time": "2023-11-26T11:20:06.246Z"
   },
   {
    "duration": 26,
    "start_time": "2023-11-26T11:20:10.968Z"
   },
   {
    "duration": 39,
    "start_time": "2023-11-26T11:20:13.468Z"
   },
   {
    "duration": 1717,
    "start_time": "2023-11-26T11:22:03.202Z"
   },
   {
    "duration": 24,
    "start_time": "2023-11-26T11:22:07.357Z"
   },
   {
    "duration": 38,
    "start_time": "2023-11-26T11:22:19.437Z"
   },
   {
    "duration": 1788,
    "start_time": "2023-11-26T11:23:35.237Z"
   },
   {
    "duration": 23,
    "start_time": "2023-11-26T11:23:40.292Z"
   },
   {
    "duration": 39,
    "start_time": "2023-11-26T11:23:47.201Z"
   },
   {
    "duration": 231,
    "start_time": "2023-11-26T11:24:57.741Z"
   },
   {
    "duration": 1710,
    "start_time": "2023-11-26T11:28:16.345Z"
   },
   {
    "duration": 23,
    "start_time": "2023-11-26T11:28:21.107Z"
   },
   {
    "duration": 41,
    "start_time": "2023-11-26T11:29:18.585Z"
   },
   {
    "duration": 1872,
    "start_time": "2023-11-26T11:31:51.035Z"
   },
   {
    "duration": 22,
    "start_time": "2023-11-26T11:31:55.452Z"
   },
   {
    "duration": 37,
    "start_time": "2023-11-26T11:31:58.368Z"
   },
   {
    "duration": 1833,
    "start_time": "2023-11-26T11:38:06.237Z"
   },
   {
    "duration": 23,
    "start_time": "2023-11-26T11:38:10.978Z"
   },
   {
    "duration": 38,
    "start_time": "2023-11-26T11:38:13.015Z"
   },
   {
    "duration": 1965,
    "start_time": "2023-11-26T11:41:48.215Z"
   },
   {
    "duration": 34,
    "start_time": "2023-11-26T11:41:52.296Z"
   },
   {
    "duration": 38,
    "start_time": "2023-11-26T11:41:54.872Z"
   },
   {
    "duration": 1848,
    "start_time": "2023-11-26T11:43:36.164Z"
   },
   {
    "duration": 24,
    "start_time": "2023-11-26T11:43:40.435Z"
   },
   {
    "duration": 38,
    "start_time": "2023-11-26T11:43:42.785Z"
   },
   {
    "duration": 23,
    "start_time": "2023-11-26T11:43:53.479Z"
   },
   {
    "duration": 1863,
    "start_time": "2023-11-26T11:44:37.931Z"
   },
   {
    "duration": 24,
    "start_time": "2023-11-26T11:44:40.642Z"
   },
   {
    "duration": 38,
    "start_time": "2023-11-26T11:44:43.618Z"
   },
   {
    "duration": 5608,
    "start_time": "2023-11-26T12:16:22.262Z"
   },
   {
    "duration": 164,
    "start_time": "2023-11-26T12:16:27.872Z"
   },
   {
    "duration": 80,
    "start_time": "2023-11-26T12:16:28.037Z"
   },
   {
    "duration": 32,
    "start_time": "2023-11-26T12:16:28.119Z"
   },
   {
    "duration": 20,
    "start_time": "2023-11-26T12:16:28.153Z"
   },
   {
    "duration": 45,
    "start_time": "2023-11-26T12:16:28.175Z"
   },
   {
    "duration": 22,
    "start_time": "2023-11-26T12:16:28.222Z"
   },
   {
    "duration": 35160,
    "start_time": "2023-11-26T12:16:28.246Z"
   },
   {
    "duration": 31253,
    "start_time": "2023-11-26T12:17:03.409Z"
   },
   {
    "duration": 11,
    "start_time": "2023-11-26T12:17:34.664Z"
   },
   {
    "duration": 98,
    "start_time": "2023-11-26T12:17:34.676Z"
   },
   {
    "duration": 77,
    "start_time": "2023-11-26T12:17:34.776Z"
   },
   {
    "duration": 6,
    "start_time": "2023-11-26T12:17:34.855Z"
   },
   {
    "duration": 77,
    "start_time": "2023-11-26T12:17:34.863Z"
   },
   {
    "duration": 11,
    "start_time": "2023-11-26T12:17:34.941Z"
   },
   {
    "duration": 12,
    "start_time": "2023-11-26T12:17:34.953Z"
   },
   {
    "duration": 1981,
    "start_time": "2023-11-26T12:17:34.966Z"
   },
   {
    "duration": 22,
    "start_time": "2023-11-26T12:17:36.949Z"
   },
   {
    "duration": 52,
    "start_time": "2023-11-26T12:17:36.973Z"
   },
   {
    "duration": 5,
    "start_time": "2023-11-26T12:24:10.593Z"
   },
   {
    "duration": 4,
    "start_time": "2023-11-26T12:24:14.432Z"
   },
   {
    "duration": 5,
    "start_time": "2023-11-26T12:24:44.784Z"
   },
   {
    "duration": 5,
    "start_time": "2023-11-26T12:24:56.473Z"
   },
   {
    "duration": 13,
    "start_time": "2023-11-26T12:41:09.479Z"
   },
   {
    "duration": 32,
    "start_time": "2023-11-26T12:43:53.601Z"
   },
   {
    "duration": 4,
    "start_time": "2023-11-26T12:44:04.564Z"
   },
   {
    "duration": 13,
    "start_time": "2023-11-26T12:46:55.446Z"
   },
   {
    "duration": 188,
    "start_time": "2023-11-26T12:47:37.612Z"
   },
   {
    "duration": 3081,
    "start_time": "2023-11-26T12:48:06.910Z"
   },
   {
    "duration": 2927,
    "start_time": "2023-11-26T12:48:34.417Z"
   },
   {
    "duration": 87,
    "start_time": "2023-11-26T12:49:01.621Z"
   },
   {
    "duration": 3405,
    "start_time": "2023-11-26T12:49:10.621Z"
   },
   {
    "duration": 83,
    "start_time": "2023-11-26T12:49:55.214Z"
   },
   {
    "duration": 3126,
    "start_time": "2023-11-26T12:50:01.357Z"
   },
   {
    "duration": 4166,
    "start_time": "2023-11-26T12:50:30.212Z"
   },
   {
    "duration": 3266,
    "start_time": "2023-11-26T12:50:37.741Z"
   },
   {
    "duration": 168,
    "start_time": "2023-11-26T12:51:00.180Z"
   },
   {
    "duration": 364,
    "start_time": "2023-11-26T12:51:25.387Z"
   },
   {
    "duration": 36,
    "start_time": "2023-11-26T12:51:37.581Z"
   },
   {
    "duration": 33,
    "start_time": "2023-11-26T12:52:55.244Z"
   },
   {
    "duration": 45,
    "start_time": "2023-11-26T12:56:30.909Z"
   },
   {
    "duration": 6,
    "start_time": "2023-11-26T12:56:41.012Z"
   },
   {
    "duration": 5,
    "start_time": "2023-11-26T12:58:13.456Z"
   },
   {
    "duration": 5,
    "start_time": "2023-11-26T12:58:20.115Z"
   },
   {
    "duration": 76,
    "start_time": "2023-11-26T13:00:41.049Z"
   },
   {
    "duration": 6,
    "start_time": "2023-11-26T13:00:43.603Z"
   },
   {
    "duration": 145,
    "start_time": "2023-11-26T13:00:54.584Z"
   },
   {
    "duration": 7,
    "start_time": "2023-11-26T13:00:56.066Z"
   },
   {
    "duration": 727,
    "start_time": "2023-11-26T13:01:11.762Z"
   },
   {
    "duration": 6,
    "start_time": "2023-11-26T13:01:16.363Z"
   },
   {
    "duration": 3027,
    "start_time": "2023-11-26T13:01:25.060Z"
   },
   {
    "duration": 2797,
    "start_time": "2023-11-26T13:01:28.089Z"
   },
   {
    "duration": 6246,
    "start_time": "2023-11-26T13:01:30.889Z"
   },
   {
    "duration": 165,
    "start_time": "2023-11-26T13:01:37.137Z"
   },
   {
    "duration": 84,
    "start_time": "2023-11-26T13:01:37.305Z"
   },
   {
    "duration": 31,
    "start_time": "2023-11-26T13:01:37.391Z"
   },
   {
    "duration": 21,
    "start_time": "2023-11-26T13:01:37.424Z"
   },
   {
    "duration": 26,
    "start_time": "2023-11-26T13:01:37.447Z"
   },
   {
    "duration": 44,
    "start_time": "2023-11-26T13:01:37.475Z"
   },
   {
    "duration": 36671,
    "start_time": "2023-11-26T13:01:37.520Z"
   },
   {
    "duration": 31375,
    "start_time": "2023-11-26T13:02:14.206Z"
   },
   {
    "duration": 26,
    "start_time": "2023-11-26T13:02:45.582Z"
   },
   {
    "duration": 86,
    "start_time": "2023-11-26T13:02:45.610Z"
   },
   {
    "duration": 74,
    "start_time": "2023-11-26T13:02:45.699Z"
   },
   {
    "duration": 7,
    "start_time": "2023-11-26T13:02:45.775Z"
   },
   {
    "duration": 72,
    "start_time": "2023-11-26T13:02:45.784Z"
   },
   {
    "duration": 12,
    "start_time": "2023-11-26T13:02:45.858Z"
   },
   {
    "duration": 12,
    "start_time": "2023-11-26T13:02:45.871Z"
   },
   {
    "duration": 1915,
    "start_time": "2023-11-26T13:02:45.885Z"
   },
   {
    "duration": 24,
    "start_time": "2023-11-26T13:02:47.802Z"
   },
   {
    "duration": 55,
    "start_time": "2023-11-26T13:02:47.828Z"
   },
   {
    "duration": 5,
    "start_time": "2023-11-26T13:02:47.885Z"
   },
   {
    "duration": 15,
    "start_time": "2023-11-26T13:02:47.892Z"
   },
   {
    "duration": 14,
    "start_time": "2023-11-26T13:02:47.909Z"
   },
   {
    "duration": 35,
    "start_time": "2023-11-26T13:02:47.926Z"
   },
   {
    "duration": 14,
    "start_time": "2023-11-26T13:02:47.963Z"
   },
   {
    "duration": 175,
    "start_time": "2023-11-26T13:02:47.979Z"
   },
   {
    "duration": 392,
    "start_time": "2023-11-26T13:02:48.155Z"
   },
   {
    "duration": 36,
    "start_time": "2023-11-26T13:02:48.548Z"
   },
   {
    "duration": 49,
    "start_time": "2023-11-26T13:02:48.586Z"
   },
   {
    "duration": 105,
    "start_time": "2023-11-26T13:02:48.637Z"
   },
   {
    "duration": 6,
    "start_time": "2023-11-26T13:02:48.744Z"
   },
   {
    "duration": 2976,
    "start_time": "2023-11-26T13:04:23.061Z"
   },
   {
    "duration": 2775,
    "start_time": "2023-11-26T13:04:26.039Z"
   },
   {
    "duration": 5945,
    "start_time": "2023-11-26T13:04:28.817Z"
   },
   {
    "duration": 167,
    "start_time": "2023-11-26T13:04:34.764Z"
   },
   {
    "duration": 81,
    "start_time": "2023-11-26T13:04:34.933Z"
   },
   {
    "duration": 31,
    "start_time": "2023-11-26T13:04:35.015Z"
   },
   {
    "duration": 39,
    "start_time": "2023-11-26T13:04:35.047Z"
   },
   {
    "duration": 58,
    "start_time": "2023-11-26T13:04:35.087Z"
   },
   {
    "duration": 41,
    "start_time": "2023-11-26T13:04:35.147Z"
   },
   {
    "duration": 35601,
    "start_time": "2023-11-26T13:04:35.190Z"
   },
   {
    "duration": 31287,
    "start_time": "2023-11-26T13:05:10.793Z"
   },
   {
    "duration": 23,
    "start_time": "2023-11-26T13:05:42.083Z"
   },
   {
    "duration": 68,
    "start_time": "2023-11-26T13:05:42.108Z"
   },
   {
    "duration": 84,
    "start_time": "2023-11-26T13:05:42.178Z"
   },
   {
    "duration": 6,
    "start_time": "2023-11-26T13:05:42.264Z"
   },
   {
    "duration": 71,
    "start_time": "2023-11-26T13:05:42.272Z"
   },
   {
    "duration": 12,
    "start_time": "2023-11-26T13:05:42.345Z"
   },
   {
    "duration": 13,
    "start_time": "2023-11-26T13:05:42.359Z"
   },
   {
    "duration": 1888,
    "start_time": "2023-11-26T13:05:42.373Z"
   },
   {
    "duration": 23,
    "start_time": "2023-11-26T13:05:44.263Z"
   },
   {
    "duration": 54,
    "start_time": "2023-11-26T13:05:44.288Z"
   },
   {
    "duration": 6,
    "start_time": "2023-11-26T13:05:44.344Z"
   },
   {
    "duration": 14,
    "start_time": "2023-11-26T13:05:44.351Z"
   },
   {
    "duration": 43,
    "start_time": "2023-11-26T13:05:44.366Z"
   },
   {
    "duration": 70,
    "start_time": "2023-11-26T13:05:44.411Z"
   },
   {
    "duration": 19,
    "start_time": "2023-11-26T13:05:44.483Z"
   },
   {
    "duration": 145,
    "start_time": "2023-11-26T13:05:44.504Z"
   },
   {
    "duration": 351,
    "start_time": "2023-11-26T13:05:44.653Z"
   },
   {
    "duration": 34,
    "start_time": "2023-11-26T13:05:45.006Z"
   },
   {
    "duration": 71,
    "start_time": "2023-11-26T13:05:45.043Z"
   },
   {
    "duration": 33,
    "start_time": "2023-11-26T13:05:45.116Z"
   },
   {
    "duration": 13,
    "start_time": "2023-11-26T13:05:45.151Z"
   },
   {
    "duration": 57,
    "start_time": "2023-11-26T13:06:53.865Z"
   },
   {
    "duration": 6,
    "start_time": "2023-11-26T13:06:56.986Z"
   },
   {
    "duration": 32,
    "start_time": "2023-11-26T13:12:06.951Z"
   },
   {
    "duration": 4,
    "start_time": "2023-11-26T13:15:44.070Z"
   },
   {
    "duration": 5,
    "start_time": "2023-11-26T13:16:38.188Z"
   },
   {
    "duration": 156,
    "start_time": "2023-11-26T13:17:34.943Z"
   },
   {
    "duration": 3604,
    "start_time": "2023-11-26T13:20:53.204Z"
   },
   {
    "duration": 397,
    "start_time": "2023-11-26T13:21:41.124Z"
   },
   {
    "duration": 3040,
    "start_time": "2023-11-26T13:25:03.598Z"
   },
   {
    "duration": 2785,
    "start_time": "2023-11-26T13:25:06.640Z"
   },
   {
    "duration": 5945,
    "start_time": "2023-11-26T13:25:09.427Z"
   },
   {
    "duration": 171,
    "start_time": "2023-11-26T13:25:15.374Z"
   },
   {
    "duration": 82,
    "start_time": "2023-11-26T13:25:15.548Z"
   },
   {
    "duration": 32,
    "start_time": "2023-11-26T13:25:15.632Z"
   },
   {
    "duration": 21,
    "start_time": "2023-11-26T13:25:15.665Z"
   },
   {
    "duration": 42,
    "start_time": "2023-11-26T13:25:15.688Z"
   },
   {
    "duration": 25,
    "start_time": "2023-11-26T13:25:15.731Z"
   },
   {
    "duration": 36479,
    "start_time": "2023-11-26T13:25:15.757Z"
   },
   {
    "duration": 32143,
    "start_time": "2023-11-26T13:25:52.238Z"
   },
   {
    "duration": 25,
    "start_time": "2023-11-26T13:26:24.383Z"
   },
   {
    "duration": 71,
    "start_time": "2023-11-26T13:26:24.410Z"
   },
   {
    "duration": 82,
    "start_time": "2023-11-26T13:26:24.484Z"
   },
   {
    "duration": 7,
    "start_time": "2023-11-26T13:26:24.567Z"
   },
   {
    "duration": 68,
    "start_time": "2023-11-26T13:26:24.576Z"
   },
   {
    "duration": 10,
    "start_time": "2023-11-26T13:26:24.646Z"
   },
   {
    "duration": 11,
    "start_time": "2023-11-26T13:26:24.658Z"
   },
   {
    "duration": 1929,
    "start_time": "2023-11-26T13:26:24.671Z"
   },
   {
    "duration": 24,
    "start_time": "2023-11-26T13:26:26.603Z"
   },
   {
    "duration": 60,
    "start_time": "2023-11-26T13:26:26.629Z"
   },
   {
    "duration": 15,
    "start_time": "2023-11-26T13:26:26.691Z"
   },
   {
    "duration": 30,
    "start_time": "2023-11-26T13:26:26.708Z"
   },
   {
    "duration": 56,
    "start_time": "2023-11-26T13:26:26.740Z"
   },
   {
    "duration": 58,
    "start_time": "2023-11-26T13:26:26.798Z"
   },
   {
    "duration": 42,
    "start_time": "2023-11-26T13:26:26.858Z"
   },
   {
    "duration": 142,
    "start_time": "2023-11-26T13:26:26.902Z"
   },
   {
    "duration": 364,
    "start_time": "2023-11-26T13:26:27.046Z"
   },
   {
    "duration": 33,
    "start_time": "2023-11-26T13:26:27.412Z"
   },
   {
    "duration": 32,
    "start_time": "2023-11-26T13:26:27.446Z"
   },
   {
    "duration": 71,
    "start_time": "2023-11-26T13:26:27.479Z"
   },
   {
    "duration": 6,
    "start_time": "2023-11-26T13:26:27.552Z"
   },
   {
    "duration": 55,
    "start_time": "2023-11-26T13:26:27.559Z"
   },
   {
    "duration": 5,
    "start_time": "2023-11-26T13:26:27.616Z"
   },
   {
    "duration": 32,
    "start_time": "2023-11-26T13:26:27.623Z"
   },
   {
    "duration": 2951,
    "start_time": "2023-11-26T13:26:27.658Z"
   },
   {
    "duration": 544,
    "start_time": "2023-11-26T13:26:30.611Z"
   },
   {
    "duration": 2933,
    "start_time": "2023-11-26T13:27:28.075Z"
   },
   {
    "duration": 620,
    "start_time": "2023-11-26T13:27:58.644Z"
   },
   {
    "duration": 28162,
    "start_time": "2023-11-26T13:30:25.446Z"
   },
   {
    "duration": 3019,
    "start_time": "2023-11-26T13:31:36.540Z"
   },
   {
    "duration": 2793,
    "start_time": "2023-11-26T13:31:39.561Z"
   },
   {
    "duration": 6131,
    "start_time": "2023-11-26T13:31:42.356Z"
   },
   {
    "duration": 165,
    "start_time": "2023-11-26T13:31:48.490Z"
   },
   {
    "duration": 91,
    "start_time": "2023-11-26T13:31:48.658Z"
   },
   {
    "duration": 30,
    "start_time": "2023-11-26T13:31:48.751Z"
   },
   {
    "duration": 31,
    "start_time": "2023-11-26T13:31:48.783Z"
   },
   {
    "duration": 29,
    "start_time": "2023-11-26T13:31:48.815Z"
   },
   {
    "duration": 22,
    "start_time": "2023-11-26T13:31:48.846Z"
   },
   {
    "duration": 35525,
    "start_time": "2023-11-26T13:31:48.870Z"
   },
   {
    "duration": 31312,
    "start_time": "2023-11-26T13:32:24.407Z"
   },
   {
    "duration": 12,
    "start_time": "2023-11-26T13:32:55.720Z"
   },
   {
    "duration": 84,
    "start_time": "2023-11-26T13:32:55.733Z"
   },
   {
    "duration": 73,
    "start_time": "2023-11-26T13:32:55.821Z"
   },
   {
    "duration": 8,
    "start_time": "2023-11-26T13:32:55.907Z"
   },
   {
    "duration": 76,
    "start_time": "2023-11-26T13:32:55.917Z"
   },
   {
    "duration": 13,
    "start_time": "2023-11-26T13:32:55.995Z"
   },
   {
    "duration": 13,
    "start_time": "2023-11-26T13:32:56.009Z"
   },
   {
    "duration": 1890,
    "start_time": "2023-11-26T13:32:56.024Z"
   },
   {
    "duration": 23,
    "start_time": "2023-11-26T13:32:57.916Z"
   },
   {
    "duration": 40,
    "start_time": "2023-11-26T13:32:57.941Z"
   },
   {
    "duration": 24,
    "start_time": "2023-11-26T13:32:57.983Z"
   },
   {
    "duration": 4,
    "start_time": "2023-11-26T13:32:58.009Z"
   },
   {
    "duration": 18,
    "start_time": "2023-11-26T13:32:58.015Z"
   },
   {
    "duration": 33,
    "start_time": "2023-11-26T13:32:58.035Z"
   },
   {
    "duration": 10,
    "start_time": "2023-11-26T13:32:58.070Z"
   },
   {
    "duration": 160,
    "start_time": "2023-11-26T13:32:58.082Z"
   },
   {
    "duration": 346,
    "start_time": "2023-11-26T13:32:58.244Z"
   },
   {
    "duration": 38,
    "start_time": "2023-11-26T13:32:58.592Z"
   },
   {
    "duration": 31,
    "start_time": "2023-11-26T13:32:58.632Z"
   },
   {
    "duration": 42,
    "start_time": "2023-11-26T13:32:58.665Z"
   },
   {
    "duration": 6,
    "start_time": "2023-11-26T13:32:58.709Z"
   },
   {
    "duration": 7,
    "start_time": "2023-11-26T13:32:58.717Z"
   },
   {
    "duration": 2483,
    "start_time": "2023-11-26T13:32:58.725Z"
   },
   {
    "duration": 519,
    "start_time": "2023-11-26T13:33:01.210Z"
   },
   {
    "duration": 655,
    "start_time": "2023-11-26T13:33:01.806Z"
   },
   {
    "duration": 3025,
    "start_time": "2023-11-26T13:35:30.532Z"
   },
   {
    "duration": 2796,
    "start_time": "2023-11-26T13:35:33.560Z"
   },
   {
    "duration": 5924,
    "start_time": "2023-11-26T13:35:36.358Z"
   },
   {
    "duration": 167,
    "start_time": "2023-11-26T13:35:42.284Z"
   },
   {
    "duration": 81,
    "start_time": "2023-11-26T13:35:42.453Z"
   },
   {
    "duration": 31,
    "start_time": "2023-11-26T13:35:42.535Z"
   },
   {
    "duration": 21,
    "start_time": "2023-11-26T13:35:42.567Z"
   },
   {
    "duration": 27,
    "start_time": "2023-11-26T13:35:42.606Z"
   },
   {
    "duration": 22,
    "start_time": "2023-11-26T13:35:42.635Z"
   },
   {
    "duration": 36,
    "start_time": "2023-11-26T13:35:42.658Z"
   },
   {
    "duration": 18,
    "start_time": "2023-11-26T13:35:42.695Z"
   },
   {
    "duration": 20,
    "start_time": "2023-11-26T13:35:42.714Z"
   },
   {
    "duration": 78,
    "start_time": "2023-11-26T13:35:42.735Z"
   },
   {
    "duration": 70,
    "start_time": "2023-11-26T13:35:42.816Z"
   },
   {
    "duration": 28,
    "start_time": "2023-11-26T13:35:42.888Z"
   },
   {
    "duration": 64,
    "start_time": "2023-11-26T13:35:42.917Z"
   },
   {
    "duration": 26,
    "start_time": "2023-11-26T13:35:42.982Z"
   },
   {
    "duration": 17,
    "start_time": "2023-11-26T13:35:43.010Z"
   },
   {
    "duration": 1872,
    "start_time": "2023-11-26T13:35:43.028Z"
   },
   {
    "duration": 24,
    "start_time": "2023-11-26T13:35:44.901Z"
   },
   {
    "duration": 53,
    "start_time": "2023-11-26T13:35:44.926Z"
   },
   {
    "duration": 26,
    "start_time": "2023-11-26T13:35:44.981Z"
   },
   {
    "duration": 3,
    "start_time": "2023-11-26T13:35:45.009Z"
   },
   {
    "duration": 69,
    "start_time": "2023-11-26T13:35:45.014Z"
   },
   {
    "duration": 53,
    "start_time": "2023-11-26T13:35:45.085Z"
   },
   {
    "duration": 13,
    "start_time": "2023-11-26T13:35:45.140Z"
   },
   {
    "duration": 35,
    "start_time": "2023-11-26T13:35:45.154Z"
   },
   {
    "duration": 29,
    "start_time": "2023-11-26T13:35:45.191Z"
   },
   {
    "duration": 36,
    "start_time": "2023-11-26T13:35:45.222Z"
   },
   {
    "duration": 246,
    "start_time": "2023-11-26T13:35:45.260Z"
   },
   {
    "duration": 0,
    "start_time": "2023-11-26T13:35:45.508Z"
   },
   {
    "duration": 0,
    "start_time": "2023-11-26T13:35:45.509Z"
   },
   {
    "duration": 5,
    "start_time": "2023-11-26T14:20:09.394Z"
   },
   {
    "duration": 10,
    "start_time": "2023-11-26T14:20:12.222Z"
   },
   {
    "duration": 26,
    "start_time": "2023-11-26T14:24:38.399Z"
   },
   {
    "duration": 57,
    "start_time": "2023-11-26T14:24:44.314Z"
   },
   {
    "duration": 19,
    "start_time": "2023-11-26T14:36:58.203Z"
   },
   {
    "duration": 65,
    "start_time": "2023-11-26T14:37:03.577Z"
   },
   {
    "duration": 46,
    "start_time": "2023-11-26T14:37:57.251Z"
   },
   {
    "duration": 7,
    "start_time": "2023-11-26T14:38:11.230Z"
   },
   {
    "duration": 54,
    "start_time": "2023-11-26T14:38:13.425Z"
   },
   {
    "duration": 4,
    "start_time": "2023-11-26T14:40:32.539Z"
   },
   {
    "duration": 4,
    "start_time": "2023-11-26T14:41:41.753Z"
   },
   {
    "duration": 46,
    "start_time": "2023-11-26T14:41:44.353Z"
   },
   {
    "duration": 4,
    "start_time": "2023-11-26T14:42:42.532Z"
   },
   {
    "duration": 54,
    "start_time": "2023-11-26T14:43:01.387Z"
   },
   {
    "duration": 3,
    "start_time": "2023-11-26T14:43:18.650Z"
   },
   {
    "duration": 65,
    "start_time": "2023-11-26T14:43:20.674Z"
   },
   {
    "duration": 4,
    "start_time": "2023-11-26T14:44:26.251Z"
   },
   {
    "duration": 75,
    "start_time": "2023-11-26T14:44:28.401Z"
   },
   {
    "duration": 56,
    "start_time": "2023-11-26T14:46:25.807Z"
   },
   {
    "duration": 4,
    "start_time": "2023-11-26T14:48:28.351Z"
   },
   {
    "duration": 50,
    "start_time": "2023-11-26T14:48:30.699Z"
   },
   {
    "duration": 19,
    "start_time": "2023-11-26T14:51:16.631Z"
   },
   {
    "duration": 3,
    "start_time": "2023-11-26T14:52:04.850Z"
   },
   {
    "duration": 4,
    "start_time": "2023-11-26T14:53:25.466Z"
   },
   {
    "duration": 47,
    "start_time": "2023-11-26T14:53:27.655Z"
   },
   {
    "duration": 4,
    "start_time": "2023-11-26T14:54:31.989Z"
   },
   {
    "duration": 46,
    "start_time": "2023-11-26T14:54:34.228Z"
   },
   {
    "duration": 4,
    "start_time": "2023-11-26T14:55:23.006Z"
   },
   {
    "duration": 45,
    "start_time": "2023-11-26T14:55:24.986Z"
   },
   {
    "duration": 4,
    "start_time": "2023-11-26T14:56:32.835Z"
   },
   {
    "duration": 46,
    "start_time": "2023-11-26T14:56:34.586Z"
   },
   {
    "duration": 3,
    "start_time": "2023-11-26T14:56:38.537Z"
   },
   {
    "duration": 45,
    "start_time": "2023-11-26T14:56:40.191Z"
   },
   {
    "duration": 4,
    "start_time": "2023-11-26T14:57:08.414Z"
   },
   {
    "duration": 46,
    "start_time": "2023-11-26T14:57:10.462Z"
   },
   {
    "duration": 4,
    "start_time": "2023-11-26T14:57:13.847Z"
   },
   {
    "duration": 46,
    "start_time": "2023-11-26T14:57:16.081Z"
   },
   {
    "duration": 93,
    "start_time": "2023-11-26T15:02:05.308Z"
   },
   {
    "duration": 1117,
    "start_time": "2023-11-26T15:02:11.151Z"
   },
   {
    "duration": 1474,
    "start_time": "2023-11-26T15:10:25.144Z"
   },
   {
    "duration": 48,
    "start_time": "2023-11-26T15:11:23.993Z"
   },
   {
    "duration": 4,
    "start_time": "2023-11-26T15:15:03.905Z"
   },
   {
    "duration": 52,
    "start_time": "2023-11-26T15:15:51.950Z"
   },
   {
    "duration": 5,
    "start_time": "2023-11-26T15:16:40.357Z"
   },
   {
    "duration": 87,
    "start_time": "2023-11-26T15:16:42.475Z"
   },
   {
    "duration": 3,
    "start_time": "2023-11-26T15:17:38.446Z"
   },
   {
    "duration": 766,
    "start_time": "2023-11-26T15:17:40.498Z"
   },
   {
    "duration": 89,
    "start_time": "2023-11-26T15:20:40.652Z"
   },
   {
    "duration": 760,
    "start_time": "2023-11-26T15:20:49.926Z"
   },
   {
    "duration": 3,
    "start_time": "2023-11-26T15:24:13.215Z"
   },
   {
    "duration": 57,
    "start_time": "2023-11-26T15:24:15.625Z"
   },
   {
    "duration": 3,
    "start_time": "2023-11-26T15:24:28.951Z"
   },
   {
    "duration": 56,
    "start_time": "2023-11-26T15:24:31.069Z"
   },
   {
    "duration": 5,
    "start_time": "2023-11-26T15:25:25.460Z"
   },
   {
    "duration": 47,
    "start_time": "2023-11-26T15:26:32.456Z"
   },
   {
    "duration": 817,
    "start_time": "2023-11-26T15:27:23.453Z"
   },
   {
    "duration": 809,
    "start_time": "2023-11-26T15:27:36.290Z"
   },
   {
    "duration": 716,
    "start_time": "2023-11-26T15:27:49.033Z"
   },
   {
    "duration": 8,
    "start_time": "2023-11-26T15:38:00.251Z"
   },
   {
    "duration": 13,
    "start_time": "2023-11-26T15:40:48.176Z"
   },
   {
    "duration": 11,
    "start_time": "2023-11-26T15:41:14.159Z"
   },
   {
    "duration": 20,
    "start_time": "2023-11-26T15:41:30.206Z"
   },
   {
    "duration": 11,
    "start_time": "2023-11-26T15:41:37.792Z"
   },
   {
    "duration": 6,
    "start_time": "2023-11-26T15:43:31.227Z"
   },
   {
    "duration": 13,
    "start_time": "2023-11-26T15:44:30.518Z"
   },
   {
    "duration": 5,
    "start_time": "2023-11-26T15:44:55.268Z"
   },
   {
    "duration": 5,
    "start_time": "2023-11-26T15:48:21.434Z"
   },
   {
    "duration": 6,
    "start_time": "2023-11-26T15:48:24.935Z"
   },
   {
    "duration": 5,
    "start_time": "2023-11-26T15:48:29.566Z"
   },
   {
    "duration": 4,
    "start_time": "2023-11-26T15:51:53.550Z"
   },
   {
    "duration": 875,
    "start_time": "2023-11-26T15:51:56.198Z"
   },
   {
    "duration": 5,
    "start_time": "2023-11-26T15:54:30.745Z"
   },
   {
    "duration": 76,
    "start_time": "2023-11-26T15:54:33.175Z"
   },
   {
    "duration": 5,
    "start_time": "2023-11-26T15:57:29.329Z"
   },
   {
    "duration": 845,
    "start_time": "2023-11-26T15:57:32.073Z"
   },
   {
    "duration": 4,
    "start_time": "2023-11-26T15:58:41.395Z"
   },
   {
    "duration": 853,
    "start_time": "2023-11-26T15:58:43.278Z"
   },
   {
    "duration": 5,
    "start_time": "2023-11-26T15:59:47.709Z"
   },
   {
    "duration": 66,
    "start_time": "2023-11-26T15:59:49.581Z"
   },
   {
    "duration": 7,
    "start_time": "2023-11-26T16:03:26.738Z"
   },
   {
    "duration": 3,
    "start_time": "2023-11-26T16:03:28.492Z"
   },
   {
    "duration": 98,
    "start_time": "2023-11-26T16:03:31.556Z"
   },
   {
    "duration": 107,
    "start_time": "2023-11-26T16:06:51.137Z"
   },
   {
    "duration": 6,
    "start_time": "2023-11-26T16:07:49.841Z"
   },
   {
    "duration": 5,
    "start_time": "2023-11-26T16:07:54.217Z"
   },
   {
    "duration": 97,
    "start_time": "2023-11-26T16:07:56.453Z"
   },
   {
    "duration": 62,
    "start_time": "2023-11-26T16:09:48.410Z"
   },
   {
    "duration": 4,
    "start_time": "2023-11-26T16:12:05.076Z"
   },
   {
    "duration": 9,
    "start_time": "2023-11-26T16:12:31.319Z"
   },
   {
    "duration": 7,
    "start_time": "2023-11-26T16:13:48.694Z"
   },
   {
    "duration": 23,
    "start_time": "2023-11-26T16:16:14.507Z"
   },
   {
    "duration": 5,
    "start_time": "2023-11-26T16:16:16.308Z"
   },
   {
    "duration": 69,
    "start_time": "2023-11-26T16:16:20.677Z"
   },
   {
    "duration": 41,
    "start_time": "2023-11-26T16:21:31.699Z"
   },
   {
    "duration": 805,
    "start_time": "2023-11-26T16:21:53.902Z"
   },
   {
    "duration": 771,
    "start_time": "2023-11-26T16:23:06.126Z"
   },
   {
    "duration": 756,
    "start_time": "2023-11-26T16:26:05.820Z"
   },
   {
    "duration": 48,
    "start_time": "2023-11-26T16:26:31.587Z"
   },
   {
    "duration": 39,
    "start_time": "2023-11-26T16:27:38.517Z"
   },
   {
    "duration": 38,
    "start_time": "2023-11-26T16:27:52.069Z"
   },
   {
    "duration": 6,
    "start_time": "2023-11-26T16:39:28.775Z"
   },
   {
    "duration": 682,
    "start_time": "2023-11-26T16:39:38.555Z"
   },
   {
    "duration": 37,
    "start_time": "2023-11-26T16:40:10.230Z"
   },
   {
    "duration": 3,
    "start_time": "2023-11-26T17:01:58.031Z"
   },
   {
    "duration": 13,
    "start_time": "2023-11-26T17:02:55.840Z"
   },
   {
    "duration": 744,
    "start_time": "2023-11-26T17:03:04.034Z"
   },
   {
    "duration": 44,
    "start_time": "2023-11-26T17:03:05.792Z"
   },
   {
    "duration": 3,
    "start_time": "2023-11-26T17:03:11.372Z"
   },
   {
    "duration": 3,
    "start_time": "2023-11-26T17:03:14.052Z"
   },
   {
    "duration": 2766,
    "start_time": "2023-11-26T17:17:40.043Z"
   },
   {
    "duration": 3,
    "start_time": "2023-11-26T17:18:22.145Z"
   },
   {
    "duration": 66,
    "start_time": "2023-11-26T17:18:45.432Z"
   },
   {
    "duration": 48,
    "start_time": "2023-11-26T17:19:41.089Z"
   },
   {
    "duration": 13,
    "start_time": "2023-11-26T17:30:01.992Z"
   },
   {
    "duration": 7,
    "start_time": "2023-11-26T17:30:35.977Z"
   },
   {
    "duration": 13,
    "start_time": "2023-11-26T17:30:41.043Z"
   },
   {
    "duration": 11,
    "start_time": "2023-11-26T17:31:06.508Z"
   },
   {
    "duration": 18,
    "start_time": "2023-11-26T17:31:11.111Z"
   },
   {
    "duration": 12,
    "start_time": "2023-11-26T17:31:38.305Z"
   },
   {
    "duration": 3,
    "start_time": "2023-11-26T17:31:44.074Z"
   },
   {
    "duration": 3,
    "start_time": "2023-11-26T17:34:53.047Z"
   },
   {
    "duration": 4,
    "start_time": "2023-11-26T17:35:07.143Z"
   },
   {
    "duration": 4,
    "start_time": "2023-11-26T17:35:39.052Z"
   },
   {
    "duration": 12,
    "start_time": "2023-11-26T17:36:06.234Z"
   },
   {
    "duration": 4253,
    "start_time": "2023-11-26T17:36:21.042Z"
   },
   {
    "duration": 15,
    "start_time": "2023-11-26T17:39:13.951Z"
   },
   {
    "duration": 50,
    "start_time": "2023-11-26T17:39:42.419Z"
   },
   {
    "duration": 3278,
    "start_time": "2023-11-26T17:39:50.222Z"
   },
   {
    "duration": 2852,
    "start_time": "2023-11-26T17:39:53.503Z"
   },
   {
    "duration": 6464,
    "start_time": "2023-11-26T17:39:56.357Z"
   },
   {
    "duration": 3036,
    "start_time": "2023-11-26T17:40:02.826Z"
   },
   {
    "duration": 13,
    "start_time": "2023-11-26T17:40:05.865Z"
   },
   {
    "duration": 206,
    "start_time": "2023-11-26T17:40:05.880Z"
   },
   {
    "duration": 91,
    "start_time": "2023-11-26T17:40:06.087Z"
   },
   {
    "duration": 41,
    "start_time": "2023-11-26T17:40:06.180Z"
   },
   {
    "duration": 22,
    "start_time": "2023-11-26T17:40:06.223Z"
   },
   {
    "duration": 31,
    "start_time": "2023-11-26T17:40:06.247Z"
   },
   {
    "duration": 52,
    "start_time": "2023-11-26T17:40:06.280Z"
   },
   {
    "duration": 2,
    "start_time": "2023-11-26T17:40:06.334Z"
   },
   {
    "duration": 4,
    "start_time": "2023-11-26T17:40:06.338Z"
   },
   {
    "duration": 21,
    "start_time": "2023-11-26T17:40:06.345Z"
   },
   {
    "duration": 114,
    "start_time": "2023-11-26T17:40:06.367Z"
   },
   {
    "duration": 96,
    "start_time": "2023-11-26T17:40:06.482Z"
   },
   {
    "duration": 7,
    "start_time": "2023-11-26T17:40:06.580Z"
   },
   {
    "duration": 84,
    "start_time": "2023-11-26T17:40:06.589Z"
   },
   {
    "duration": 14,
    "start_time": "2023-11-26T17:40:06.675Z"
   },
   {
    "duration": 36,
    "start_time": "2023-11-26T17:40:06.691Z"
   },
   {
    "duration": 2110,
    "start_time": "2023-11-26T17:40:06.729Z"
   },
   {
    "duration": 23,
    "start_time": "2023-11-26T17:40:08.841Z"
   },
   {
    "duration": 76,
    "start_time": "2023-11-26T17:40:08.866Z"
   },
   {
    "duration": 6,
    "start_time": "2023-11-26T17:40:08.943Z"
   },
   {
    "duration": 60,
    "start_time": "2023-11-26T17:40:08.951Z"
   },
   {
    "duration": 9,
    "start_time": "2023-11-26T17:40:09.014Z"
   },
   {
    "duration": 34,
    "start_time": "2023-11-26T17:40:09.034Z"
   },
   {
    "duration": 986,
    "start_time": "2023-11-26T17:40:09.070Z"
   },
   {
    "duration": 0,
    "start_time": "2023-11-26T17:40:10.058Z"
   },
   {
    "duration": 0,
    "start_time": "2023-11-26T17:40:10.060Z"
   },
   {
    "duration": 0,
    "start_time": "2023-11-26T17:40:10.062Z"
   },
   {
    "duration": 0,
    "start_time": "2023-11-26T17:40:10.063Z"
   },
   {
    "duration": 0,
    "start_time": "2023-11-26T17:40:10.065Z"
   },
   {
    "duration": 0,
    "start_time": "2023-11-26T17:40:10.066Z"
   },
   {
    "duration": 748,
    "start_time": "2023-11-26T17:41:16.235Z"
   },
   {
    "duration": 36,
    "start_time": "2023-11-26T17:41:19.853Z"
   },
   {
    "duration": 14,
    "start_time": "2023-11-26T17:41:24.698Z"
   },
   {
    "duration": 14,
    "start_time": "2023-11-26T17:42:01.559Z"
   },
   {
    "duration": 15,
    "start_time": "2023-11-26T17:42:25.869Z"
   },
   {
    "duration": 19,
    "start_time": "2023-11-26T17:42:30.855Z"
   },
   {
    "duration": 3,
    "start_time": "2023-11-26T17:42:33.001Z"
   },
   {
    "duration": 3,
    "start_time": "2023-11-26T17:42:34.953Z"
   },
   {
    "duration": 3,
    "start_time": "2023-11-26T17:42:36.593Z"
   },
   {
    "duration": 3,
    "start_time": "2023-11-26T17:42:38.426Z"
   },
   {
    "duration": 173099,
    "start_time": "2023-11-26T17:45:31.169Z"
   },
   {
    "duration": 176597,
    "start_time": "2023-11-26T17:51:12.052Z"
   },
   {
    "duration": 3146,
    "start_time": "2023-11-26T17:55:53.207Z"
   },
   {
    "duration": 3097,
    "start_time": "2023-11-26T17:55:56.355Z"
   },
   {
    "duration": 6567,
    "start_time": "2023-11-26T17:55:59.454Z"
   },
   {
    "duration": 3016,
    "start_time": "2023-11-26T17:56:06.028Z"
   },
   {
    "duration": 10,
    "start_time": "2023-11-26T17:56:09.047Z"
   },
   {
    "duration": 198,
    "start_time": "2023-11-26T17:56:09.059Z"
   },
   {
    "duration": 89,
    "start_time": "2023-11-26T17:56:09.259Z"
   },
   {
    "duration": 31,
    "start_time": "2023-11-26T17:56:09.350Z"
   },
   {
    "duration": 39,
    "start_time": "2023-11-26T17:56:09.382Z"
   },
   {
    "duration": 29,
    "start_time": "2023-11-26T17:56:09.426Z"
   },
   {
    "duration": 22,
    "start_time": "2023-11-26T17:56:09.456Z"
   },
   {
    "duration": 10,
    "start_time": "2023-11-26T17:56:09.479Z"
   },
   {
    "duration": 12,
    "start_time": "2023-11-26T17:56:09.491Z"
   },
   {
    "duration": 20,
    "start_time": "2023-11-26T17:56:09.522Z"
   },
   {
    "duration": 98,
    "start_time": "2023-11-26T17:56:09.544Z"
   },
   {
    "duration": 88,
    "start_time": "2023-11-26T17:56:09.644Z"
   },
   {
    "duration": 8,
    "start_time": "2023-11-26T17:56:09.734Z"
   },
   {
    "duration": 86,
    "start_time": "2023-11-26T17:56:09.743Z"
   },
   {
    "duration": 15,
    "start_time": "2023-11-26T17:56:09.831Z"
   },
   {
    "duration": 13,
    "start_time": "2023-11-26T17:56:09.848Z"
   },
   {
    "duration": 2163,
    "start_time": "2023-11-26T17:56:09.863Z"
   },
   {
    "duration": 25,
    "start_time": "2023-11-26T17:56:12.029Z"
   },
   {
    "duration": 72,
    "start_time": "2023-11-26T17:56:12.056Z"
   },
   {
    "duration": 9,
    "start_time": "2023-11-26T17:56:12.131Z"
   },
   {
    "duration": 58,
    "start_time": "2023-11-26T17:56:12.141Z"
   },
   {
    "duration": 262,
    "start_time": "2023-11-26T17:56:12.201Z"
   },
   {
    "duration": 0,
    "start_time": "2023-11-26T17:56:12.465Z"
   },
   {
    "duration": 0,
    "start_time": "2023-11-26T17:56:12.466Z"
   },
   {
    "duration": 0,
    "start_time": "2023-11-26T17:56:12.467Z"
   },
   {
    "duration": 0,
    "start_time": "2023-11-26T17:56:12.468Z"
   },
   {
    "duration": 0,
    "start_time": "2023-11-26T17:56:12.469Z"
   },
   {
    "duration": 0,
    "start_time": "2023-11-26T17:56:12.470Z"
   },
   {
    "duration": 0,
    "start_time": "2023-11-26T17:56:12.471Z"
   },
   {
    "duration": 0,
    "start_time": "2023-11-26T17:56:12.472Z"
   },
   {
    "duration": 0,
    "start_time": "2023-11-26T17:56:12.473Z"
   },
   {
    "duration": 6,
    "start_time": "2023-11-26T17:56:49.969Z"
   },
   {
    "duration": 10,
    "start_time": "2023-11-26T17:57:38.672Z"
   },
   {
    "duration": 39,
    "start_time": "2023-11-26T17:57:40.808Z"
   },
   {
    "duration": 1338,
    "start_time": "2023-11-26T17:57:45.242Z"
   },
   {
    "duration": 1283,
    "start_time": "2023-11-26T17:58:38.608Z"
   },
   {
    "duration": 3188,
    "start_time": "2023-11-26T17:58:46.355Z"
   },
   {
    "duration": 3009,
    "start_time": "2023-11-26T17:58:49.546Z"
   },
   {
    "duration": 6309,
    "start_time": "2023-11-26T17:58:52.557Z"
   },
   {
    "duration": 3019,
    "start_time": "2023-11-26T17:58:58.867Z"
   },
   {
    "duration": 11,
    "start_time": "2023-11-26T17:59:01.889Z"
   },
   {
    "duration": 230,
    "start_time": "2023-11-26T17:59:01.901Z"
   },
   {
    "duration": 91,
    "start_time": "2023-11-26T17:59:02.133Z"
   },
   {
    "duration": 36,
    "start_time": "2023-11-26T17:59:02.227Z"
   },
   {
    "duration": 121,
    "start_time": "2023-11-26T17:59:02.264Z"
   },
   {
    "duration": 54,
    "start_time": "2023-11-26T17:59:02.386Z"
   },
   {
    "duration": 21,
    "start_time": "2023-11-26T17:59:02.442Z"
   },
   {
    "duration": 18,
    "start_time": "2023-11-26T17:59:02.464Z"
   },
   {
    "duration": 29,
    "start_time": "2023-11-26T17:59:02.484Z"
   },
   {
    "duration": 35,
    "start_time": "2023-11-26T17:59:02.516Z"
   },
   {
    "duration": 103,
    "start_time": "2023-11-26T17:59:02.553Z"
   },
   {
    "duration": 84,
    "start_time": "2023-11-26T17:59:02.658Z"
   },
   {
    "duration": 7,
    "start_time": "2023-11-26T17:59:02.744Z"
   },
   {
    "duration": 82,
    "start_time": "2023-11-26T17:59:02.752Z"
   },
   {
    "duration": 12,
    "start_time": "2023-11-26T17:59:02.836Z"
   },
   {
    "duration": 15,
    "start_time": "2023-11-26T17:59:02.850Z"
   },
   {
    "duration": 1965,
    "start_time": "2023-11-26T17:59:02.867Z"
   },
   {
    "duration": 32,
    "start_time": "2023-11-26T17:59:04.834Z"
   },
   {
    "duration": 77,
    "start_time": "2023-11-26T17:59:04.868Z"
   },
   {
    "duration": 6,
    "start_time": "2023-11-26T17:59:04.947Z"
   },
   {
    "duration": 58,
    "start_time": "2023-11-26T17:59:04.955Z"
   },
   {
    "duration": 9,
    "start_time": "2023-11-26T17:59:05.016Z"
   },
   {
    "duration": 10,
    "start_time": "2023-11-26T17:59:05.027Z"
   },
   {
    "duration": 63,
    "start_time": "2023-11-26T17:59:05.038Z"
   },
   {
    "duration": 768,
    "start_time": "2023-11-26T17:59:05.103Z"
   },
   {
    "duration": 52,
    "start_time": "2023-11-26T17:59:05.873Z"
   },
   {
    "duration": 24,
    "start_time": "2023-11-26T17:59:05.927Z"
   },
   {
    "duration": 16,
    "start_time": "2023-11-26T17:59:05.953Z"
   },
   {
    "duration": 19,
    "start_time": "2023-11-26T17:59:05.970Z"
   },
   {
    "duration": 67,
    "start_time": "2023-11-26T17:59:05.991Z"
   },
   {
    "duration": 5,
    "start_time": "2023-11-26T17:59:06.060Z"
   },
   {
    "duration": 348,
    "start_time": "2023-11-26T18:00:01.118Z"
   },
   {
    "duration": 30663,
    "start_time": "2023-11-26T18:00:21.596Z"
   },
   {
    "duration": 21,
    "start_time": "2023-11-26T18:01:12.538Z"
   },
   {
    "duration": 15,
    "start_time": "2023-11-26T18:01:22.960Z"
   },
   {
    "duration": 4,
    "start_time": "2023-11-26T18:02:19.388Z"
   },
   {
    "duration": 6,
    "start_time": "2023-11-26T18:02:39.720Z"
   },
   {
    "duration": 3,
    "start_time": "2023-11-26T18:05:20.338Z"
   },
   {
    "duration": 30369,
    "start_time": "2023-11-26T18:05:20.343Z"
   },
   {
    "duration": 16,
    "start_time": "2023-11-26T18:06:04.500Z"
   },
   {
    "duration": 981,
    "start_time": "2023-11-26T18:14:19.128Z"
   },
   {
    "duration": 1013,
    "start_time": "2023-11-26T18:14:56.855Z"
   },
   {
    "duration": 1034,
    "start_time": "2023-11-26T18:15:58.515Z"
   },
   {
    "duration": 936,
    "start_time": "2023-11-26T18:18:41.534Z"
   },
   {
    "duration": 37,
    "start_time": "2023-11-26T18:20:39.217Z"
   },
   {
    "duration": 289,
    "start_time": "2023-11-26T18:22:45.862Z"
   },
   {
    "duration": 79,
    "start_time": "2023-11-26T18:23:16.258Z"
   },
   {
    "duration": 78,
    "start_time": "2023-11-26T18:23:25.326Z"
   },
   {
    "duration": 279,
    "start_time": "2023-11-26T18:23:30.127Z"
   },
   {
    "duration": 2981,
    "start_time": "2023-11-26T18:42:39.762Z"
   },
   {
    "duration": 2991,
    "start_time": "2023-11-26T18:42:42.746Z"
   },
   {
    "duration": 2775,
    "start_time": "2023-11-26T18:42:45.739Z"
   },
   {
    "duration": 193,
    "start_time": "2023-11-26T18:42:48.517Z"
   },
   {
    "duration": 90,
    "start_time": "2023-11-26T18:42:48.712Z"
   },
   {
    "duration": 36,
    "start_time": "2023-11-26T18:42:48.803Z"
   },
   {
    "duration": 20,
    "start_time": "2023-11-26T18:42:48.841Z"
   },
   {
    "duration": 45,
    "start_time": "2023-11-26T18:42:48.863Z"
   },
   {
    "duration": 22,
    "start_time": "2023-11-26T18:42:48.910Z"
   },
   {
    "duration": 37164,
    "start_time": "2023-11-26T18:42:48.935Z"
   },
   {
    "duration": 5645,
    "start_time": "2023-11-26T18:43:57.381Z"
   },
   {
    "duration": 4943,
    "start_time": "2023-11-26T18:44:03.028Z"
   },
   {
    "duration": 7789,
    "start_time": "2023-11-26T18:44:07.973Z"
   },
   {
    "duration": 3257,
    "start_time": "2023-11-26T18:44:15.764Z"
   },
   {
    "duration": 2836,
    "start_time": "2023-11-26T18:44:19.024Z"
   },
   {
    "duration": 166,
    "start_time": "2023-11-26T18:44:21.862Z"
   },
   {
    "duration": 82,
    "start_time": "2023-11-26T18:44:22.030Z"
   },
   {
    "duration": 32,
    "start_time": "2023-11-26T18:44:22.114Z"
   },
   {
    "duration": 24,
    "start_time": "2023-11-26T18:44:22.148Z"
   },
   {
    "duration": 54,
    "start_time": "2023-11-26T18:44:22.174Z"
   },
   {
    "duration": 23,
    "start_time": "2023-11-26T18:44:22.230Z"
   },
   {
    "duration": 47941,
    "start_time": "2023-11-26T18:44:22.255Z"
   },
   {
    "duration": 43764,
    "start_time": "2023-11-26T18:45:10.198Z"
   },
   {
    "duration": 40,
    "start_time": "2023-11-26T18:45:53.967Z"
   },
   {
    "duration": 940,
    "start_time": "2023-11-26T18:45:54.009Z"
   },
   {
    "duration": 81,
    "start_time": "2023-11-26T18:45:54.950Z"
   },
   {
    "duration": 6,
    "start_time": "2023-11-26T18:45:55.033Z"
   },
   {
    "duration": 79,
    "start_time": "2023-11-26T18:45:55.041Z"
   },
   {
    "duration": 12,
    "start_time": "2023-11-26T18:45:55.122Z"
   },
   {
    "duration": 26,
    "start_time": "2023-11-26T18:45:55.135Z"
   },
   {
    "duration": 1884,
    "start_time": "2023-11-26T18:45:55.163Z"
   },
   {
    "duration": 24,
    "start_time": "2023-11-26T18:45:57.049Z"
   },
   {
    "duration": 67,
    "start_time": "2023-11-26T18:45:57.076Z"
   },
   {
    "duration": 6,
    "start_time": "2023-11-26T18:45:57.145Z"
   },
   {
    "duration": 64,
    "start_time": "2023-11-26T18:45:57.153Z"
   },
   {
    "duration": 6,
    "start_time": "2023-11-26T18:45:57.219Z"
   },
   {
    "duration": 32,
    "start_time": "2023-11-26T18:45:57.227Z"
   },
   {
    "duration": 696,
    "start_time": "2023-11-26T18:45:57.260Z"
   },
   {
    "duration": 34,
    "start_time": "2023-11-26T18:45:57.958Z"
   },
   {
    "duration": 19,
    "start_time": "2023-11-26T18:45:58.006Z"
   },
   {
    "duration": 20,
    "start_time": "2023-11-26T18:45:58.026Z"
   },
   {
    "duration": 138,
    "start_time": "2023-11-26T18:45:58.047Z"
   },
   {
    "duration": 21,
    "start_time": "2023-11-26T18:45:58.187Z"
   },
   {
    "duration": 29,
    "start_time": "2023-11-26T18:45:58.210Z"
   },
   {
    "duration": 165080,
    "start_time": "2023-11-26T18:45:58.241Z"
   },
   {
    "duration": 29,
    "start_time": "2023-11-26T18:48:43.326Z"
   },
   {
    "duration": 49,
    "start_time": "2023-11-27T09:04:02.900Z"
   },
   {
    "duration": 5265,
    "start_time": "2023-11-27T09:14:15.175Z"
   },
   {
    "duration": 4142,
    "start_time": "2023-11-27T09:14:20.442Z"
   },
   {
    "duration": 24726,
    "start_time": "2023-11-27T09:14:24.589Z"
   },
   {
    "duration": 6409,
    "start_time": "2023-11-27T09:14:49.317Z"
   },
   {
    "duration": 2871,
    "start_time": "2023-11-27T09:14:55.728Z"
   },
   {
    "duration": 0,
    "start_time": "2023-11-27T09:14:58.601Z"
   },
   {
    "duration": 0,
    "start_time": "2023-11-27T09:14:58.603Z"
   },
   {
    "duration": 0,
    "start_time": "2023-11-27T09:14:58.604Z"
   },
   {
    "duration": 0,
    "start_time": "2023-11-27T09:14:58.605Z"
   },
   {
    "duration": 0,
    "start_time": "2023-11-27T09:14:58.606Z"
   },
   {
    "duration": 0,
    "start_time": "2023-11-27T09:14:58.608Z"
   },
   {
    "duration": 0,
    "start_time": "2023-11-27T09:14:58.609Z"
   },
   {
    "duration": 0,
    "start_time": "2023-11-27T09:14:58.610Z"
   },
   {
    "duration": 0,
    "start_time": "2023-11-27T09:14:58.611Z"
   },
   {
    "duration": 0,
    "start_time": "2023-11-27T09:14:58.612Z"
   },
   {
    "duration": 0,
    "start_time": "2023-11-27T09:14:58.613Z"
   },
   {
    "duration": 0,
    "start_time": "2023-11-27T09:14:58.614Z"
   },
   {
    "duration": 0,
    "start_time": "2023-11-27T09:14:58.615Z"
   },
   {
    "duration": 0,
    "start_time": "2023-11-27T09:14:58.642Z"
   },
   {
    "duration": 0,
    "start_time": "2023-11-27T09:14:58.643Z"
   },
   {
    "duration": 0,
    "start_time": "2023-11-27T09:14:58.644Z"
   },
   {
    "duration": 0,
    "start_time": "2023-11-27T09:14:58.646Z"
   },
   {
    "duration": 0,
    "start_time": "2023-11-27T09:14:58.647Z"
   },
   {
    "duration": 0,
    "start_time": "2023-11-27T09:14:58.648Z"
   },
   {
    "duration": 0,
    "start_time": "2023-11-27T09:14:58.649Z"
   },
   {
    "duration": 0,
    "start_time": "2023-11-27T09:14:58.650Z"
   },
   {
    "duration": 0,
    "start_time": "2023-11-27T09:14:58.651Z"
   },
   {
    "duration": 0,
    "start_time": "2023-11-27T09:14:58.652Z"
   },
   {
    "duration": 0,
    "start_time": "2023-11-27T09:14:58.653Z"
   },
   {
    "duration": 0,
    "start_time": "2023-11-27T09:14:58.654Z"
   },
   {
    "duration": 0,
    "start_time": "2023-11-27T09:14:58.656Z"
   },
   {
    "duration": 0,
    "start_time": "2023-11-27T09:14:58.657Z"
   },
   {
    "duration": 0,
    "start_time": "2023-11-27T09:14:58.658Z"
   },
   {
    "duration": 0,
    "start_time": "2023-11-27T09:14:58.659Z"
   },
   {
    "duration": 0,
    "start_time": "2023-11-27T09:14:58.660Z"
   },
   {
    "duration": 0,
    "start_time": "2023-11-27T09:14:58.661Z"
   },
   {
    "duration": 0,
    "start_time": "2023-11-27T09:14:58.662Z"
   },
   {
    "duration": 0,
    "start_time": "2023-11-27T09:14:58.663Z"
   },
   {
    "duration": 10,
    "start_time": "2023-11-27T09:15:49.683Z"
   },
   {
    "duration": 2961,
    "start_time": "2023-11-27T09:15:57.558Z"
   },
   {
    "duration": 3027,
    "start_time": "2023-11-27T09:16:00.521Z"
   },
   {
    "duration": 2789,
    "start_time": "2023-11-27T09:16:03.550Z"
   },
   {
    "duration": 2843,
    "start_time": "2023-11-27T09:16:06.342Z"
   },
   {
    "duration": 2406,
    "start_time": "2023-11-27T09:16:09.188Z"
   },
   {
    "duration": 222,
    "start_time": "2023-11-27T09:16:11.596Z"
   },
   {
    "duration": 199,
    "start_time": "2023-11-27T09:16:11.819Z"
   },
   {
    "duration": 28,
    "start_time": "2023-11-27T09:16:12.020Z"
   },
   {
    "duration": 20,
    "start_time": "2023-11-27T09:16:12.049Z"
   },
   {
    "duration": 32,
    "start_time": "2023-11-27T09:16:12.070Z"
   },
   {
    "duration": 18,
    "start_time": "2023-11-27T09:16:12.104Z"
   },
   {
    "duration": 41276,
    "start_time": "2023-11-27T09:16:12.123Z"
   },
   {
    "duration": 38173,
    "start_time": "2023-11-27T09:16:53.401Z"
   },
   {
    "duration": 11,
    "start_time": "2023-11-27T09:17:31.578Z"
   },
   {
    "duration": 167,
    "start_time": "2023-11-27T09:17:31.591Z"
   },
   {
    "duration": 184,
    "start_time": "2023-11-27T09:17:31.760Z"
   },
   {
    "duration": 6,
    "start_time": "2023-11-27T09:17:31.946Z"
   },
   {
    "duration": 62,
    "start_time": "2023-11-27T09:17:31.954Z"
   },
   {
    "duration": 34,
    "start_time": "2023-11-27T09:17:32.017Z"
   },
   {
    "duration": 21,
    "start_time": "2023-11-27T09:17:32.052Z"
   },
   {
    "duration": 1732,
    "start_time": "2023-11-27T09:17:32.075Z"
   },
   {
    "duration": 21,
    "start_time": "2023-11-27T09:17:33.809Z"
   },
   {
    "duration": 43,
    "start_time": "2023-11-27T09:17:33.832Z"
   },
   {
    "duration": 6,
    "start_time": "2023-11-27T09:17:33.876Z"
   },
   {
    "duration": 62,
    "start_time": "2023-11-27T09:17:33.884Z"
   },
   {
    "duration": 5,
    "start_time": "2023-11-27T09:17:33.947Z"
   },
   {
    "duration": 25,
    "start_time": "2023-11-27T09:17:33.954Z"
   },
   {
    "duration": 652,
    "start_time": "2023-11-27T09:17:33.981Z"
   },
   {
    "duration": 31,
    "start_time": "2023-11-27T09:17:34.634Z"
   },
   {
    "duration": 17,
    "start_time": "2023-11-27T09:17:34.667Z"
   },
   {
    "duration": 3,
    "start_time": "2023-11-27T09:17:34.686Z"
   },
   {
    "duration": 113,
    "start_time": "2023-11-27T09:17:34.691Z"
   },
   {
    "duration": 0,
    "start_time": "2023-11-27T09:17:34.806Z"
   },
   {
    "duration": 0,
    "start_time": "2023-11-27T09:17:34.808Z"
   },
   {
    "duration": 0,
    "start_time": "2023-11-27T09:17:34.809Z"
   },
   {
    "duration": 0,
    "start_time": "2023-11-27T09:17:34.811Z"
   },
   {
    "duration": 0,
    "start_time": "2023-11-27T09:17:34.812Z"
   },
   {
    "duration": 0,
    "start_time": "2023-11-27T09:17:34.813Z"
   },
   {
    "duration": 96,
    "start_time": "2023-11-27T09:18:40.107Z"
   },
   {
    "duration": 6,
    "start_time": "2023-11-27T09:19:00.384Z"
   },
   {
    "duration": 2,
    "start_time": "2023-11-27T09:19:04.950Z"
   },
   {
    "duration": 3,
    "start_time": "2023-11-27T09:19:06.847Z"
   },
   {
    "duration": 4,
    "start_time": "2023-11-27T09:19:09.592Z"
   },
   {
    "duration": 132760,
    "start_time": "2023-11-27T09:19:11.643Z"
   },
   {
    "duration": 18,
    "start_time": "2023-11-27T09:21:43.673Z"
   },
   {
    "duration": 1765,
    "start_time": "2023-11-27T09:22:03.598Z"
   },
   {
    "duration": 6,
    "start_time": "2023-11-27T09:22:42.584Z"
   },
   {
    "duration": 1733,
    "start_time": "2023-11-27T09:22:46.878Z"
   },
   {
    "duration": 6,
    "start_time": "2023-11-27T09:23:21.718Z"
   },
   {
    "duration": 1725,
    "start_time": "2023-11-27T09:23:26.607Z"
   },
   {
    "duration": 3,
    "start_time": "2023-11-27T09:24:25.757Z"
   },
   {
    "duration": 3,
    "start_time": "2023-11-27T09:24:27.434Z"
   },
   {
    "duration": 4,
    "start_time": "2023-11-27T09:24:29.530Z"
   },
   {
    "duration": 16,
    "start_time": "2023-11-27T09:27:34.786Z"
   },
   {
    "duration": 3411,
    "start_time": "2023-11-27T09:27:47.633Z"
   },
   {
    "duration": 2818,
    "start_time": "2023-11-27T09:28:40.972Z"
   },
   {
    "duration": 3072,
    "start_time": "2023-11-27T09:28:43.792Z"
   },
   {
    "duration": 2823,
    "start_time": "2023-11-27T09:28:46.866Z"
   },
   {
    "duration": 2839,
    "start_time": "2023-11-27T09:28:49.690Z"
   },
   {
    "duration": 2520,
    "start_time": "2023-11-27T09:28:52.531Z"
   },
   {
    "duration": 146,
    "start_time": "2023-11-27T09:28:55.052Z"
   },
   {
    "duration": 76,
    "start_time": "2023-11-27T09:28:55.200Z"
   },
   {
    "duration": 28,
    "start_time": "2023-11-27T09:28:55.278Z"
   },
   {
    "duration": 18,
    "start_time": "2023-11-27T09:28:55.307Z"
   },
   {
    "duration": 28,
    "start_time": "2023-11-27T09:28:55.341Z"
   },
   {
    "duration": 38,
    "start_time": "2023-11-27T09:28:55.371Z"
   },
   {
    "duration": 2,
    "start_time": "2023-11-27T09:28:55.411Z"
   },
   {
    "duration": 29,
    "start_time": "2023-11-27T09:28:55.415Z"
   },
   {
    "duration": 39,
    "start_time": "2023-11-27T09:28:55.447Z"
   },
   {
    "duration": 92,
    "start_time": "2023-11-27T09:28:55.488Z"
   },
   {
    "duration": 66,
    "start_time": "2023-11-27T09:28:55.582Z"
   },
   {
    "duration": 5,
    "start_time": "2023-11-27T09:28:55.650Z"
   },
   {
    "duration": 90,
    "start_time": "2023-11-27T09:28:55.657Z"
   },
   {
    "duration": 13,
    "start_time": "2023-11-27T09:28:55.749Z"
   },
   {
    "duration": 64,
    "start_time": "2023-11-27T09:28:55.764Z"
   },
   {
    "duration": 1837,
    "start_time": "2023-11-27T09:28:55.829Z"
   },
   {
    "duration": 21,
    "start_time": "2023-11-27T09:28:57.667Z"
   },
   {
    "duration": 53,
    "start_time": "2023-11-27T09:28:57.690Z"
   },
   {
    "duration": 6,
    "start_time": "2023-11-27T09:28:57.745Z"
   },
   {
    "duration": 62,
    "start_time": "2023-11-27T09:28:57.753Z"
   },
   {
    "duration": 6,
    "start_time": "2023-11-27T09:28:57.817Z"
   },
   {
    "duration": 49,
    "start_time": "2023-11-27T09:28:57.824Z"
   },
   {
    "duration": 642,
    "start_time": "2023-11-27T09:28:57.874Z"
   },
   {
    "duration": 40,
    "start_time": "2023-11-27T09:28:58.518Z"
   },
   {
    "duration": 17,
    "start_time": "2023-11-27T09:28:58.559Z"
   },
   {
    "duration": 3,
    "start_time": "2023-11-27T09:28:58.578Z"
   },
   {
    "duration": 8,
    "start_time": "2023-11-27T09:28:58.582Z"
   },
   {
    "duration": 6,
    "start_time": "2023-11-27T09:28:58.591Z"
   },
   {
    "duration": 7,
    "start_time": "2023-11-27T09:28:58.598Z"
   },
   {
    "duration": 8,
    "start_time": "2023-11-27T09:28:58.607Z"
   },
   {
    "duration": 140054,
    "start_time": "2023-11-27T09:28:58.616Z"
   },
   {
    "duration": 17,
    "start_time": "2023-11-27T09:31:18.672Z"
   },
   {
    "duration": 2663,
    "start_time": "2023-11-27T09:31:18.691Z"
   },
   {
    "duration": 2854,
    "start_time": "2023-11-27T09:42:01.631Z"
   },
   {
    "duration": 3116,
    "start_time": "2023-11-27T09:42:04.487Z"
   },
   {
    "duration": 2861,
    "start_time": "2023-11-27T09:42:07.605Z"
   },
   {
    "duration": 2828,
    "start_time": "2023-11-27T09:42:10.468Z"
   },
   {
    "duration": 2479,
    "start_time": "2023-11-27T09:42:13.297Z"
   },
   {
    "duration": 151,
    "start_time": "2023-11-27T09:42:15.778Z"
   },
   {
    "duration": 76,
    "start_time": "2023-11-27T09:42:15.931Z"
   },
   {
    "duration": 28,
    "start_time": "2023-11-27T09:42:16.008Z"
   },
   {
    "duration": 23,
    "start_time": "2023-11-27T09:42:16.037Z"
   },
   {
    "duration": 32,
    "start_time": "2023-11-27T09:42:16.064Z"
   },
   {
    "duration": 20,
    "start_time": "2023-11-27T09:42:16.097Z"
   },
   {
    "duration": 2,
    "start_time": "2023-11-27T09:42:16.143Z"
   },
   {
    "duration": 23,
    "start_time": "2023-11-27T09:42:16.147Z"
   },
   {
    "duration": 31,
    "start_time": "2023-11-27T09:42:16.171Z"
   },
   {
    "duration": 70,
    "start_time": "2023-11-27T09:42:16.204Z"
   },
   {
    "duration": 69,
    "start_time": "2023-11-27T09:42:16.276Z"
   },
   {
    "duration": 7,
    "start_time": "2023-11-27T09:42:16.346Z"
   },
   {
    "duration": 53,
    "start_time": "2023-11-27T09:42:16.355Z"
   },
   {
    "duration": 11,
    "start_time": "2023-11-27T09:42:16.410Z"
   },
   {
    "duration": 30,
    "start_time": "2023-11-27T09:42:16.422Z"
   },
   {
    "duration": 1714,
    "start_time": "2023-11-27T09:42:16.453Z"
   },
   {
    "duration": 21,
    "start_time": "2023-11-27T09:42:18.169Z"
   },
   {
    "duration": 64,
    "start_time": "2023-11-27T09:42:18.192Z"
   },
   {
    "duration": 6,
    "start_time": "2023-11-27T09:42:18.258Z"
   },
   {
    "duration": 50,
    "start_time": "2023-11-27T09:42:18.266Z"
   },
   {
    "duration": 6,
    "start_time": "2023-11-27T09:42:18.318Z"
   },
   {
    "duration": 40,
    "start_time": "2023-11-27T09:42:18.326Z"
   },
   {
    "duration": 632,
    "start_time": "2023-11-27T09:42:18.370Z"
   },
   {
    "duration": 40,
    "start_time": "2023-11-27T09:42:19.004Z"
   },
   {
    "duration": 17,
    "start_time": "2023-11-27T09:42:19.046Z"
   },
   {
    "duration": 4,
    "start_time": "2023-11-27T09:42:19.064Z"
   },
   {
    "duration": 6,
    "start_time": "2023-11-27T09:42:19.069Z"
   },
   {
    "duration": 10,
    "start_time": "2023-11-27T09:42:19.076Z"
   },
   {
    "duration": 4,
    "start_time": "2023-11-27T09:42:19.087Z"
   },
   {
    "duration": 6,
    "start_time": "2023-11-27T09:42:19.092Z"
   },
   {
    "duration": 142129,
    "start_time": "2023-11-27T09:42:19.100Z"
   },
   {
    "duration": 23,
    "start_time": "2023-11-27T09:44:41.231Z"
   },
   {
    "duration": 2369,
    "start_time": "2023-11-27T09:44:41.256Z"
   },
   {
    "duration": 6,
    "start_time": "2023-11-27T09:45:09.055Z"
   },
   {
    "duration": 2454,
    "start_time": "2023-11-27T09:45:13.166Z"
   },
   {
    "duration": 3,
    "start_time": "2023-11-27T09:45:37.969Z"
   },
   {
    "duration": 98,
    "start_time": "2023-11-27T09:47:15.063Z"
   },
   {
    "duration": 11,
    "start_time": "2023-11-27T09:49:03.419Z"
   },
   {
    "duration": 3,
    "start_time": "2023-11-27T09:49:08.022Z"
   },
   {
    "duration": 4,
    "start_time": "2023-11-27T09:49:30.380Z"
   },
   {
    "duration": 184139,
    "start_time": "2023-11-27T09:50:20.328Z"
   },
   {
    "duration": 16,
    "start_time": "2023-11-27T09:53:43.489Z"
   },
   {
    "duration": 3961,
    "start_time": "2023-11-27T09:54:03.219Z"
   },
   {
    "duration": 6,
    "start_time": "2023-11-27T09:55:50.913Z"
   },
   {
    "duration": 4032,
    "start_time": "2023-11-27T09:55:58.147Z"
   },
   {
    "duration": 6,
    "start_time": "2023-11-27T09:56:23.229Z"
   },
   {
    "duration": 3953,
    "start_time": "2023-11-27T09:56:28.757Z"
   },
   {
    "duration": 6,
    "start_time": "2023-11-27T09:56:54.382Z"
   },
   {
    "duration": 4034,
    "start_time": "2023-11-27T09:56:58.507Z"
   },
   {
    "duration": 4032,
    "start_time": "2023-11-27T09:57:11.484Z"
   },
   {
    "duration": 4022,
    "start_time": "2023-11-27T09:57:18.971Z"
   },
   {
    "duration": 4074,
    "start_time": "2023-11-27T09:57:27.768Z"
   },
   {
    "duration": 3885,
    "start_time": "2023-11-27T09:57:46.305Z"
   },
   {
    "duration": 9,
    "start_time": "2023-11-27T10:01:31.718Z"
   },
   {
    "duration": 4,
    "start_time": "2023-11-27T10:01:36.330Z"
   },
   {
    "duration": 106,
    "start_time": "2023-11-27T10:04:09.434Z"
   },
   {
    "duration": 4,
    "start_time": "2023-11-27T10:04:40.541Z"
   },
   {
    "duration": 271879,
    "start_time": "2023-11-27T10:04:42.497Z"
   },
   {
    "duration": 4,
    "start_time": "2023-11-27T10:09:14.382Z"
   },
   {
    "duration": 11,
    "start_time": "2023-11-27T10:09:14.388Z"
   },
   {
    "duration": 5647,
    "start_time": "2023-11-27T10:09:14.401Z"
   },
   {
    "duration": 3,
    "start_time": "2023-11-27T10:09:25.331Z"
   },
   {
    "duration": 3,
    "start_time": "2023-11-27T10:09:26.795Z"
   },
   {
    "duration": 88511,
    "start_time": "2023-11-27T10:09:28.504Z"
   },
   {
    "duration": 3,
    "start_time": "2023-11-27T10:11:15.933Z"
   },
   {
    "duration": 12,
    "start_time": "2023-11-27T10:11:17.439Z"
   },
   {
    "duration": 7,
    "start_time": "2023-11-27T10:11:44.755Z"
   },
   {
    "duration": 3,
    "start_time": "2023-11-27T10:11:54.284Z"
   },
   {
    "duration": 744710,
    "start_time": "2023-11-27T10:11:56.645Z"
   },
   {
    "duration": 28,
    "start_time": "2023-11-27T10:26:22.869Z"
   },
   {
    "duration": 17,
    "start_time": "2023-11-27T10:26:30.387Z"
   },
   {
    "duration": 1572,
    "start_time": "2023-11-27T10:27:07.419Z"
   },
   {
    "duration": 3,
    "start_time": "2023-11-27T10:28:30.653Z"
   },
   {
    "duration": 10,
    "start_time": "2023-11-27T10:28:41.005Z"
   },
   {
    "duration": 3,
    "start_time": "2023-11-27T10:28:45.403Z"
   },
   {
    "duration": 12,
    "start_time": "2023-11-27T10:29:11.884Z"
   },
   {
    "duration": 3,
    "start_time": "2023-11-27T10:29:19.815Z"
   },
   {
    "duration": 235877,
    "start_time": "2023-11-27T10:30:23.720Z"
   },
   {
    "duration": 3,
    "start_time": "2023-11-27T10:34:28.351Z"
   },
   {
    "duration": 2,
    "start_time": "2023-11-27T10:34:30.183Z"
   },
   {
    "duration": 3,
    "start_time": "2023-11-27T10:34:32.404Z"
   },
   {
    "duration": 190801,
    "start_time": "2023-11-27T10:34:34.617Z"
   },
   {
    "duration": 3,
    "start_time": "2023-11-27T10:38:30.237Z"
   },
   {
    "duration": 4,
    "start_time": "2023-11-27T10:38:31.780Z"
   },
   {
    "duration": 17,
    "start_time": "2023-11-27T10:38:33.362Z"
   },
   {
    "duration": 3,
    "start_time": "2023-11-27T10:38:41.647Z"
   },
   {
    "duration": 334243,
    "start_time": "2023-11-27T10:38:43.699Z"
   },
   {
    "duration": 14,
    "start_time": "2023-11-27T10:44:46.715Z"
   },
   {
    "duration": 1107,
    "start_time": "2023-11-27T10:45:01.524Z"
   },
   {
    "duration": 3,
    "start_time": "2023-11-27T10:51:05.126Z"
   },
   {
    "duration": 3,
    "start_time": "2023-11-27T10:51:20.227Z"
   },
   {
    "duration": 23847,
    "start_time": "2023-11-27T10:51:53.935Z"
   },
   {
    "duration": 23085,
    "start_time": "2023-11-27T10:52:24.960Z"
   },
   {
    "duration": 7,
    "start_time": "2023-11-27T10:53:30.999Z"
   },
   {
    "duration": 23210,
    "start_time": "2023-11-27T10:53:47.449Z"
   },
   {
    "duration": 11,
    "start_time": "2023-11-27T10:55:09.249Z"
   },
   {
    "duration": 1111,
    "start_time": "2023-11-27T10:55:23.024Z"
   },
   {
    "duration": 15,
    "start_time": "2023-11-27T10:58:32.017Z"
   },
   {
    "duration": 11,
    "start_time": "2023-11-27T11:06:10.180Z"
   },
   {
    "duration": 286,
    "start_time": "2023-11-27T11:06:18.869Z"
   },
   {
    "duration": 10,
    "start_time": "2023-11-27T11:19:31.059Z"
   },
   {
    "duration": 62,
    "start_time": "2023-11-27T11:20:54.203Z"
   },
   {
    "duration": 76,
    "start_time": "2023-11-27T11:21:05.646Z"
   },
   {
    "duration": 107,
    "start_time": "2023-11-27T11:21:42.440Z"
   },
   {
    "duration": 1438,
    "start_time": "2023-11-27T11:21:52.732Z"
   },
   {
    "duration": 177,
    "start_time": "2023-11-27T11:23:03.750Z"
   },
   {
    "duration": 74,
    "start_time": "2023-11-27T11:23:52.525Z"
   },
   {
    "duration": 72,
    "start_time": "2023-11-27T11:24:35.504Z"
   },
   {
    "duration": 16,
    "start_time": "2023-11-27T11:24:57.275Z"
   },
   {
    "duration": 7,
    "start_time": "2023-11-27T11:25:35.527Z"
   },
   {
    "duration": 15,
    "start_time": "2023-11-27T11:25:45.561Z"
   },
   {
    "duration": 1466,
    "start_time": "2023-11-27T11:25:57.773Z"
   },
   {
    "duration": 108,
    "start_time": "2023-11-27T11:31:02.055Z"
   },
   {
    "duration": 2936,
    "start_time": "2023-11-27T11:54:04.680Z"
   },
   {
    "duration": 3041,
    "start_time": "2023-11-27T11:54:07.618Z"
   },
   {
    "duration": 2847,
    "start_time": "2023-11-27T12:14:04.857Z"
   },
   {
    "duration": 9927,
    "start_time": "2023-11-27T12:14:07.706Z"
   },
   {
    "duration": 2820,
    "start_time": "2023-11-27T12:14:17.635Z"
   },
   {
    "duration": 2826,
    "start_time": "2023-11-27T12:14:20.457Z"
   },
   {
    "duration": 2514,
    "start_time": "2023-11-27T12:14:23.289Z"
   },
   {
    "duration": 153,
    "start_time": "2023-11-27T12:14:25.805Z"
   },
   {
    "duration": 74,
    "start_time": "2023-11-27T12:14:25.960Z"
   },
   {
    "duration": 29,
    "start_time": "2023-11-27T12:14:26.036Z"
   },
   {
    "duration": 38,
    "start_time": "2023-11-27T12:14:26.066Z"
   },
   {
    "duration": 29,
    "start_time": "2023-11-27T12:14:26.105Z"
   },
   {
    "duration": 31,
    "start_time": "2023-11-27T12:14:26.135Z"
   },
   {
    "duration": 41965,
    "start_time": "2023-11-27T12:14:26.167Z"
   },
   {
    "duration": 39265,
    "start_time": "2023-11-27T12:15:08.133Z"
   },
   {
    "duration": 13,
    "start_time": "2023-11-27T12:15:47.403Z"
   },
   {
    "duration": 120,
    "start_time": "2023-11-27T12:15:47.443Z"
   },
   {
    "duration": 116,
    "start_time": "2023-11-27T12:15:47.564Z"
   },
   {
    "duration": 61,
    "start_time": "2023-11-27T12:15:47.682Z"
   },
   {
    "duration": 101,
    "start_time": "2023-11-27T12:15:47.744Z"
   },
   {
    "duration": 13,
    "start_time": "2023-11-27T12:15:47.847Z"
   },
   {
    "duration": 18,
    "start_time": "2023-11-27T12:15:47.861Z"
   },
   {
    "duration": 1754,
    "start_time": "2023-11-27T12:15:47.881Z"
   },
   {
    "duration": 26,
    "start_time": "2023-11-27T12:15:49.636Z"
   },
   {
    "duration": 38,
    "start_time": "2023-11-27T12:15:49.664Z"
   },
   {
    "duration": 6,
    "start_time": "2023-11-27T12:15:49.703Z"
   },
   {
    "duration": 73,
    "start_time": "2023-11-27T12:15:49.710Z"
   },
   {
    "duration": 7,
    "start_time": "2023-11-27T12:15:49.785Z"
   },
   {
    "duration": 29,
    "start_time": "2023-11-27T12:15:49.794Z"
   },
   {
    "duration": 631,
    "start_time": "2023-11-27T12:15:49.825Z"
   },
   {
    "duration": 41,
    "start_time": "2023-11-27T12:15:50.458Z"
   },
   {
    "duration": 16,
    "start_time": "2023-11-27T12:15:50.501Z"
   },
   {
    "duration": 3,
    "start_time": "2023-11-27T12:15:50.519Z"
   },
   {
    "duration": 25,
    "start_time": "2023-11-27T12:15:50.523Z"
   },
   {
    "duration": 12,
    "start_time": "2023-11-27T12:15:50.550Z"
   },
   {
    "duration": 14,
    "start_time": "2023-11-27T12:15:50.563Z"
   },
   {
    "duration": 5,
    "start_time": "2023-11-27T12:15:50.578Z"
   },
   {
    "duration": 146919,
    "start_time": "2023-11-27T12:15:50.585Z"
   },
   {
    "duration": 17,
    "start_time": "2023-11-27T12:18:17.506Z"
   },
   {
    "duration": 2562,
    "start_time": "2023-11-27T12:18:17.524Z"
   },
   {
    "duration": 3,
    "start_time": "2023-11-27T12:18:20.087Z"
   },
   {
    "duration": 11,
    "start_time": "2023-11-27T12:18:20.091Z"
   },
   {
    "duration": 187872,
    "start_time": "2023-11-27T12:18:20.106Z"
   },
   {
    "duration": 16,
    "start_time": "2023-11-27T12:21:27.980Z"
   },
   {
    "duration": 4157,
    "start_time": "2023-11-27T12:21:27.998Z"
   },
   {
    "duration": 4,
    "start_time": "2023-11-27T12:21:32.156Z"
   },
   {
    "duration": 21,
    "start_time": "2023-11-27T12:21:32.162Z"
   },
   {
    "duration": 774826,
    "start_time": "2023-11-27T12:21:32.185Z"
   },
   {
    "duration": 17,
    "start_time": "2023-11-27T12:34:27.013Z"
   },
   {
    "duration": 1694,
    "start_time": "2023-11-27T12:34:27.032Z"
   },
   {
    "duration": 3,
    "start_time": "2023-11-27T12:34:28.727Z"
   },
   {
    "duration": 24,
    "start_time": "2023-11-27T12:34:28.731Z"
   },
   {
    "duration": 18,
    "start_time": "2023-11-27T12:34:28.757Z"
   },
   {
    "duration": 354142,
    "start_time": "2023-11-27T12:34:28.776Z"
   },
   {
    "duration": 26,
    "start_time": "2023-11-27T12:40:22.919Z"
   },
   {
    "duration": 1209,
    "start_time": "2023-11-27T12:40:22.947Z"
   },
   {
    "duration": 3,
    "start_time": "2023-11-27T12:40:24.158Z"
   },
   {
    "duration": 23,
    "start_time": "2023-11-27T12:40:24.163Z"
   },
   {
    "duration": 28213,
    "start_time": "2023-11-27T12:40:24.188Z"
   },
   {
    "duration": 11,
    "start_time": "2023-11-27T12:40:52.403Z"
   },
   {
    "duration": 1247,
    "start_time": "2023-11-27T12:40:52.416Z"
   },
   {
    "duration": 17,
    "start_time": "2023-11-27T12:40:53.664Z"
   },
   {
    "duration": 299,
    "start_time": "2023-11-27T12:40:53.683Z"
   },
   {
    "duration": 1577,
    "start_time": "2023-11-27T12:40:53.984Z"
   },
   {
    "duration": 81,
    "start_time": "2023-11-28T18:29:20.070Z"
   },
   {
    "duration": 80,
    "start_time": "2023-11-28T18:29:23.829Z"
   },
   {
    "duration": 118,
    "start_time": "2023-11-28T18:29:59.501Z"
   },
   {
    "duration": 402,
    "start_time": "2023-11-28T18:30:25.313Z"
   },
   {
    "duration": 1203,
    "start_time": "2023-11-28T18:30:33.246Z"
   },
   {
    "duration": 235,
    "start_time": "2023-11-28T18:30:38.225Z"
   },
   {
    "duration": 218,
    "start_time": "2023-11-28T18:30:39.983Z"
   },
   {
    "duration": 80,
    "start_time": "2023-11-28T18:31:11.313Z"
   },
   {
    "duration": 1079,
    "start_time": "2023-11-28T18:38:25.806Z"
   },
   {
    "duration": 85,
    "start_time": "2023-11-28T18:39:11.988Z"
   },
   {
    "duration": 6365,
    "start_time": "2023-11-28T18:48:24.849Z"
   },
   {
    "duration": 1770,
    "start_time": "2023-11-28T18:51:44.545Z"
   },
   {
    "duration": 1169,
    "start_time": "2023-11-28T18:53:39.940Z"
   },
   {
    "duration": 72,
    "start_time": "2023-11-28T19:21:32.880Z"
   },
   {
    "duration": 108,
    "start_time": "2023-11-28T19:28:48.687Z"
   },
   {
    "duration": 54,
    "start_time": "2023-11-28T19:29:00.954Z"
   },
   {
    "duration": 5349,
    "start_time": "2023-11-29T11:36:09.430Z"
   },
   {
    "duration": 4354,
    "start_time": "2023-11-29T11:36:14.781Z"
   },
   {
    "duration": 27086,
    "start_time": "2023-11-29T11:36:19.137Z"
   },
   {
    "duration": 6746,
    "start_time": "2023-11-29T11:36:46.225Z"
   },
   {
    "duration": 2089,
    "start_time": "2023-11-29T11:36:52.974Z"
   },
   {
    "duration": 575,
    "start_time": "2023-11-29T11:36:55.065Z"
   },
   {
    "duration": 290,
    "start_time": "2023-11-29T11:36:55.642Z"
   },
   {
    "duration": 28,
    "start_time": "2023-11-29T11:36:55.934Z"
   },
   {
    "duration": 18,
    "start_time": "2023-11-29T11:36:55.964Z"
   },
   {
    "duration": 25,
    "start_time": "2023-11-29T11:36:55.984Z"
   },
   {
    "duration": 18,
    "start_time": "2023-11-29T11:36:56.011Z"
   },
   {
    "duration": 123,
    "start_time": "2023-11-29T11:36:56.030Z"
   },
   {
    "duration": 0,
    "start_time": "2023-11-29T11:36:56.156Z"
   },
   {
    "duration": 0,
    "start_time": "2023-11-29T11:36:56.157Z"
   },
   {
    "duration": 0,
    "start_time": "2023-11-29T11:36:56.158Z"
   },
   {
    "duration": 0,
    "start_time": "2023-11-29T11:36:56.159Z"
   },
   {
    "duration": 0,
    "start_time": "2023-11-29T11:36:56.160Z"
   },
   {
    "duration": 0,
    "start_time": "2023-11-29T11:36:56.161Z"
   },
   {
    "duration": 0,
    "start_time": "2023-11-29T11:36:56.162Z"
   },
   {
    "duration": 0,
    "start_time": "2023-11-29T11:36:56.163Z"
   },
   {
    "duration": 0,
    "start_time": "2023-11-29T11:36:56.164Z"
   },
   {
    "duration": 0,
    "start_time": "2023-11-29T11:36:56.165Z"
   },
   {
    "duration": 0,
    "start_time": "2023-11-29T11:36:56.166Z"
   },
   {
    "duration": 0,
    "start_time": "2023-11-29T11:36:56.167Z"
   },
   {
    "duration": 0,
    "start_time": "2023-11-29T11:36:56.168Z"
   },
   {
    "duration": 0,
    "start_time": "2023-11-29T11:36:56.169Z"
   },
   {
    "duration": 0,
    "start_time": "2023-11-29T11:36:56.170Z"
   },
   {
    "duration": 0,
    "start_time": "2023-11-29T11:36:56.199Z"
   },
   {
    "duration": 0,
    "start_time": "2023-11-29T11:36:56.200Z"
   },
   {
    "duration": 0,
    "start_time": "2023-11-29T11:36:56.201Z"
   },
   {
    "duration": 0,
    "start_time": "2023-11-29T11:36:56.202Z"
   },
   {
    "duration": 0,
    "start_time": "2023-11-29T11:36:56.204Z"
   },
   {
    "duration": 0,
    "start_time": "2023-11-29T11:36:56.205Z"
   },
   {
    "duration": 1,
    "start_time": "2023-11-29T11:36:56.205Z"
   },
   {
    "duration": 0,
    "start_time": "2023-11-29T11:36:56.206Z"
   },
   {
    "duration": 1,
    "start_time": "2023-11-29T11:36:56.207Z"
   },
   {
    "duration": 0,
    "start_time": "2023-11-29T11:36:56.208Z"
   },
   {
    "duration": 0,
    "start_time": "2023-11-29T11:36:56.209Z"
   },
   {
    "duration": 0,
    "start_time": "2023-11-29T11:36:56.210Z"
   },
   {
    "duration": 0,
    "start_time": "2023-11-29T11:36:56.212Z"
   },
   {
    "duration": 0,
    "start_time": "2023-11-29T11:36:56.212Z"
   },
   {
    "duration": 0,
    "start_time": "2023-11-29T11:36:56.213Z"
   },
   {
    "duration": 0,
    "start_time": "2023-11-29T11:36:56.214Z"
   },
   {
    "duration": 0,
    "start_time": "2023-11-29T11:36:56.215Z"
   },
   {
    "duration": 0,
    "start_time": "2023-11-29T11:36:56.216Z"
   },
   {
    "duration": 0,
    "start_time": "2023-11-29T11:36:56.217Z"
   },
   {
    "duration": 0,
    "start_time": "2023-11-29T11:36:56.218Z"
   },
   {
    "duration": 0,
    "start_time": "2023-11-29T11:36:56.219Z"
   },
   {
    "duration": 0,
    "start_time": "2023-11-29T11:36:56.220Z"
   },
   {
    "duration": 0,
    "start_time": "2023-11-29T11:36:56.221Z"
   },
   {
    "duration": 0,
    "start_time": "2023-11-29T11:36:56.222Z"
   },
   {
    "duration": 0,
    "start_time": "2023-11-29T11:36:56.223Z"
   },
   {
    "duration": 0,
    "start_time": "2023-11-29T11:36:56.224Z"
   },
   {
    "duration": 0,
    "start_time": "2023-11-29T11:36:56.225Z"
   },
   {
    "duration": 0,
    "start_time": "2023-11-29T11:36:56.226Z"
   },
   {
    "duration": 0,
    "start_time": "2023-11-29T11:36:56.227Z"
   },
   {
    "duration": 0,
    "start_time": "2023-11-29T11:36:56.228Z"
   },
   {
    "duration": 0,
    "start_time": "2023-11-29T11:36:56.229Z"
   },
   {
    "duration": 0,
    "start_time": "2023-11-29T11:36:56.230Z"
   },
   {
    "duration": 0,
    "start_time": "2023-11-29T11:36:56.231Z"
   },
   {
    "duration": 0,
    "start_time": "2023-11-29T11:36:56.232Z"
   },
   {
    "duration": 0,
    "start_time": "2023-11-29T11:36:56.233Z"
   },
   {
    "duration": 0,
    "start_time": "2023-11-29T11:36:56.234Z"
   },
   {
    "duration": 0,
    "start_time": "2023-11-29T11:36:56.301Z"
   },
   {
    "duration": 0,
    "start_time": "2023-11-29T11:36:56.302Z"
   },
   {
    "duration": 0,
    "start_time": "2023-11-29T11:36:56.303Z"
   },
   {
    "duration": 0,
    "start_time": "2023-11-29T11:36:56.305Z"
   },
   {
    "duration": 0,
    "start_time": "2023-11-29T11:36:56.305Z"
   },
   {
    "duration": 2847,
    "start_time": "2023-11-29T11:37:41.228Z"
   },
   {
    "duration": 3019,
    "start_time": "2023-11-29T11:37:44.077Z"
   },
   {
    "duration": 2778,
    "start_time": "2023-11-29T11:37:47.097Z"
   },
   {
    "duration": 2759,
    "start_time": "2023-11-29T11:37:49.877Z"
   },
   {
    "duration": 2995,
    "start_time": "2023-11-29T11:37:52.638Z"
   },
   {
    "duration": 156,
    "start_time": "2023-11-29T11:37:55.635Z"
   },
   {
    "duration": 78,
    "start_time": "2023-11-29T11:37:55.792Z"
   },
   {
    "duration": 27,
    "start_time": "2023-11-29T11:37:55.872Z"
   },
   {
    "duration": 18,
    "start_time": "2023-11-29T11:37:55.901Z"
   },
   {
    "duration": 33,
    "start_time": "2023-11-29T11:37:55.920Z"
   },
   {
    "duration": 19,
    "start_time": "2023-11-29T11:37:55.954Z"
   },
   {
    "duration": 41935,
    "start_time": "2023-11-29T11:37:55.975Z"
   },
   {
    "duration": 40310,
    "start_time": "2023-11-29T11:38:37.913Z"
   },
   {
    "duration": 1236,
    "start_time": "2023-11-29T11:39:18.226Z"
   },
   {
    "duration": 7556,
    "start_time": "2023-11-29T11:39:19.463Z"
   },
   {
    "duration": 2902,
    "start_time": "2023-11-29T11:39:27.021Z"
   },
   {
    "duration": 1332,
    "start_time": "2023-11-29T11:39:29.925Z"
   },
   {
    "duration": 11,
    "start_time": "2023-11-29T11:39:31.259Z"
   },
   {
    "duration": 90,
    "start_time": "2023-11-29T11:39:31.271Z"
   },
   {
    "duration": 73,
    "start_time": "2023-11-29T11:39:31.363Z"
   },
   {
    "duration": 8,
    "start_time": "2023-11-29T11:39:31.437Z"
   },
   {
    "duration": 89,
    "start_time": "2023-11-29T11:39:31.446Z"
   },
   {
    "duration": 12,
    "start_time": "2023-11-29T11:39:31.537Z"
   },
   {
    "duration": 30,
    "start_time": "2023-11-29T11:39:31.551Z"
   },
   {
    "duration": 1622,
    "start_time": "2023-11-29T11:39:31.583Z"
   },
   {
    "duration": 1502,
    "start_time": "2023-11-29T11:39:33.207Z"
   },
   {
    "duration": 21,
    "start_time": "2023-11-29T11:39:34.711Z"
   },
   {
    "duration": 38,
    "start_time": "2023-11-29T11:39:34.734Z"
   },
   {
    "duration": 26,
    "start_time": "2023-11-29T11:39:34.774Z"
   },
   {
    "duration": 25,
    "start_time": "2023-11-29T11:39:34.802Z"
   },
   {
    "duration": 51,
    "start_time": "2023-11-29T11:39:34.829Z"
   },
   {
    "duration": 7,
    "start_time": "2023-11-29T11:39:34.882Z"
   },
   {
    "duration": 47,
    "start_time": "2023-11-29T11:39:34.891Z"
   },
   {
    "duration": 179,
    "start_time": "2023-11-29T11:39:34.940Z"
   },
   {
    "duration": 0,
    "start_time": "2023-11-29T11:39:35.122Z"
   },
   {
    "duration": 0,
    "start_time": "2023-11-29T11:39:35.123Z"
   },
   {
    "duration": 0,
    "start_time": "2023-11-29T11:39:35.125Z"
   },
   {
    "duration": 1,
    "start_time": "2023-11-29T11:39:35.125Z"
   },
   {
    "duration": 0,
    "start_time": "2023-11-29T11:39:35.127Z"
   },
   {
    "duration": 0,
    "start_time": "2023-11-29T11:39:35.128Z"
   },
   {
    "duration": 0,
    "start_time": "2023-11-29T11:39:35.130Z"
   },
   {
    "duration": 0,
    "start_time": "2023-11-29T11:39:35.131Z"
   },
   {
    "duration": 0,
    "start_time": "2023-11-29T11:39:35.132Z"
   },
   {
    "duration": 0,
    "start_time": "2023-11-29T11:39:35.133Z"
   },
   {
    "duration": 0,
    "start_time": "2023-11-29T11:39:35.134Z"
   },
   {
    "duration": 0,
    "start_time": "2023-11-29T11:39:35.135Z"
   },
   {
    "duration": 0,
    "start_time": "2023-11-29T11:39:35.136Z"
   },
   {
    "duration": 0,
    "start_time": "2023-11-29T11:39:35.137Z"
   },
   {
    "duration": 0,
    "start_time": "2023-11-29T11:39:35.139Z"
   },
   {
    "duration": 0,
    "start_time": "2023-11-29T11:39:35.140Z"
   },
   {
    "duration": 0,
    "start_time": "2023-11-29T11:39:35.141Z"
   },
   {
    "duration": 0,
    "start_time": "2023-11-29T11:39:35.143Z"
   },
   {
    "duration": 0,
    "start_time": "2023-11-29T11:39:35.145Z"
   },
   {
    "duration": 0,
    "start_time": "2023-11-29T11:39:35.146Z"
   },
   {
    "duration": 0,
    "start_time": "2023-11-29T11:39:35.148Z"
   },
   {
    "duration": 0,
    "start_time": "2023-11-29T11:39:35.149Z"
   },
   {
    "duration": 0,
    "start_time": "2023-11-29T11:39:35.150Z"
   },
   {
    "duration": 0,
    "start_time": "2023-11-29T11:39:35.152Z"
   },
   {
    "duration": 0,
    "start_time": "2023-11-29T11:39:35.200Z"
   },
   {
    "duration": 0,
    "start_time": "2023-11-29T11:39:35.201Z"
   },
   {
    "duration": 0,
    "start_time": "2023-11-29T11:39:35.203Z"
   },
   {
    "duration": 0,
    "start_time": "2023-11-29T11:39:35.204Z"
   },
   {
    "duration": 0,
    "start_time": "2023-11-29T11:39:35.206Z"
   },
   {
    "duration": 0,
    "start_time": "2023-11-29T11:39:35.207Z"
   },
   {
    "duration": 0,
    "start_time": "2023-11-29T11:39:35.208Z"
   },
   {
    "duration": 0,
    "start_time": "2023-11-29T11:39:35.210Z"
   },
   {
    "duration": 0,
    "start_time": "2023-11-29T11:39:35.211Z"
   },
   {
    "duration": 0,
    "start_time": "2023-11-29T11:39:35.212Z"
   },
   {
    "duration": 5252,
    "start_time": "2023-11-29T12:29:20.346Z"
   },
   {
    "duration": 4390,
    "start_time": "2023-11-29T12:29:25.600Z"
   },
   {
    "duration": 24891,
    "start_time": "2023-11-29T12:29:29.992Z"
   },
   {
    "duration": 6239,
    "start_time": "2023-11-29T12:29:54.885Z"
   },
   {
    "duration": 2737,
    "start_time": "2023-11-29T12:30:01.126Z"
   },
   {
    "duration": 217,
    "start_time": "2023-11-29T12:30:03.865Z"
   },
   {
    "duration": 211,
    "start_time": "2023-11-29T12:30:04.084Z"
   },
   {
    "duration": 29,
    "start_time": "2023-11-29T12:30:04.297Z"
   },
   {
    "duration": 19,
    "start_time": "2023-11-29T12:30:04.327Z"
   },
   {
    "duration": 34,
    "start_time": "2023-11-29T12:30:04.348Z"
   },
   {
    "duration": 28,
    "start_time": "2023-11-29T12:30:04.384Z"
   },
   {
    "duration": 41792,
    "start_time": "2023-11-29T12:30:04.413Z"
   },
   {
    "duration": 38315,
    "start_time": "2023-11-29T12:30:46.207Z"
   },
   {
    "duration": 1296,
    "start_time": "2023-11-29T12:31:24.524Z"
   },
   {
    "duration": 7612,
    "start_time": "2023-11-29T12:31:25.822Z"
   },
   {
    "duration": 1874,
    "start_time": "2023-11-29T12:31:33.436Z"
   },
   {
    "duration": 1341,
    "start_time": "2023-11-29T12:31:35.312Z"
   },
   {
    "duration": 11,
    "start_time": "2023-11-29T12:31:36.654Z"
   },
   {
    "duration": 362,
    "start_time": "2023-11-29T12:31:36.666Z"
   },
   {
    "duration": 69,
    "start_time": "2023-11-29T12:31:37.029Z"
   },
   {
    "duration": 16,
    "start_time": "2023-11-29T12:31:37.100Z"
   },
   {
    "duration": 69,
    "start_time": "2023-11-29T12:31:37.117Z"
   },
   {
    "duration": 11,
    "start_time": "2023-11-29T12:31:37.187Z"
   },
   {
    "duration": 18,
    "start_time": "2023-11-29T12:31:37.200Z"
   },
   {
    "duration": 1698,
    "start_time": "2023-11-29T12:31:37.220Z"
   },
   {
    "duration": 1586,
    "start_time": "2023-11-29T12:31:38.920Z"
   },
   {
    "duration": 22,
    "start_time": "2023-11-29T12:31:40.507Z"
   },
   {
    "duration": 38,
    "start_time": "2023-11-29T12:31:40.533Z"
   },
   {
    "duration": 4,
    "start_time": "2023-11-29T12:31:40.573Z"
   },
   {
    "duration": 9,
    "start_time": "2023-11-29T12:31:40.579Z"
   },
   {
    "duration": 7,
    "start_time": "2023-11-29T12:31:40.610Z"
   },
   {
    "duration": 48,
    "start_time": "2023-11-29T12:31:40.619Z"
   },
   {
    "duration": 6,
    "start_time": "2023-11-29T12:31:40.668Z"
   },
   {
    "duration": 43,
    "start_time": "2023-11-29T12:31:40.675Z"
   },
   {
    "duration": 192,
    "start_time": "2023-11-29T12:31:40.720Z"
   },
   {
    "duration": 0,
    "start_time": "2023-11-29T12:31:40.913Z"
   },
   {
    "duration": 0,
    "start_time": "2023-11-29T12:31:40.915Z"
   },
   {
    "duration": 0,
    "start_time": "2023-11-29T12:31:40.917Z"
   },
   {
    "duration": 0,
    "start_time": "2023-11-29T12:31:40.918Z"
   },
   {
    "duration": 1,
    "start_time": "2023-11-29T12:31:40.919Z"
   },
   {
    "duration": 0,
    "start_time": "2023-11-29T12:31:40.921Z"
   },
   {
    "duration": 0,
    "start_time": "2023-11-29T12:31:40.922Z"
   },
   {
    "duration": 0,
    "start_time": "2023-11-29T12:31:40.923Z"
   },
   {
    "duration": 0,
    "start_time": "2023-11-29T12:31:40.926Z"
   },
   {
    "duration": 0,
    "start_time": "2023-11-29T12:31:40.927Z"
   },
   {
    "duration": 0,
    "start_time": "2023-11-29T12:31:40.928Z"
   },
   {
    "duration": 0,
    "start_time": "2023-11-29T12:31:40.931Z"
   },
   {
    "duration": 0,
    "start_time": "2023-11-29T12:31:40.932Z"
   },
   {
    "duration": 0,
    "start_time": "2023-11-29T12:31:40.933Z"
   },
   {
    "duration": 0,
    "start_time": "2023-11-29T12:31:40.935Z"
   },
   {
    "duration": 0,
    "start_time": "2023-11-29T12:31:40.936Z"
   },
   {
    "duration": 0,
    "start_time": "2023-11-29T12:31:40.937Z"
   },
   {
    "duration": 0,
    "start_time": "2023-11-29T12:31:40.938Z"
   },
   {
    "duration": 0,
    "start_time": "2023-11-29T12:31:40.940Z"
   },
   {
    "duration": 0,
    "start_time": "2023-11-29T12:31:40.941Z"
   },
   {
    "duration": 0,
    "start_time": "2023-11-29T12:31:40.942Z"
   },
   {
    "duration": 0,
    "start_time": "2023-11-29T12:31:40.944Z"
   },
   {
    "duration": 0,
    "start_time": "2023-11-29T12:31:40.945Z"
   },
   {
    "duration": 0,
    "start_time": "2023-11-29T12:31:40.946Z"
   },
   {
    "duration": 0,
    "start_time": "2023-11-29T12:31:40.947Z"
   },
   {
    "duration": 0,
    "start_time": "2023-11-29T12:31:40.948Z"
   },
   {
    "duration": 0,
    "start_time": "2023-11-29T12:31:40.949Z"
   },
   {
    "duration": 0,
    "start_time": "2023-11-29T12:31:40.950Z"
   },
   {
    "duration": 0,
    "start_time": "2023-11-29T12:31:41.011Z"
   },
   {
    "duration": 0,
    "start_time": "2023-11-29T12:31:41.012Z"
   },
   {
    "duration": 0,
    "start_time": "2023-11-29T12:31:41.013Z"
   },
   {
    "duration": 0,
    "start_time": "2023-11-29T12:31:41.014Z"
   },
   {
    "duration": 0,
    "start_time": "2023-11-29T12:31:41.015Z"
   },
   {
    "duration": 0,
    "start_time": "2023-11-29T12:31:41.016Z"
   },
   {
    "duration": 37,
    "start_time": "2023-11-29T12:36:50.207Z"
   },
   {
    "duration": 688,
    "start_time": "2023-11-29T12:37:38.091Z"
   },
   {
    "duration": 34,
    "start_time": "2023-11-29T12:38:27.699Z"
   },
   {
    "duration": 700,
    "start_time": "2023-11-29T12:38:57.106Z"
   },
   {
    "duration": 722,
    "start_time": "2023-11-29T12:39:29.194Z"
   },
   {
    "duration": 696,
    "start_time": "2023-11-29T12:40:08.640Z"
   },
   {
    "duration": 683,
    "start_time": "2023-11-29T12:40:19.330Z"
   },
   {
    "duration": 693,
    "start_time": "2023-11-29T12:41:05.148Z"
   },
   {
    "duration": 1216,
    "start_time": "2023-11-29T12:42:03.893Z"
   },
   {
    "duration": 1328,
    "start_time": "2023-11-29T12:45:18.583Z"
   },
   {
    "duration": 0,
    "start_time": "2023-11-29T12:45:19.913Z"
   },
   {
    "duration": 23,
    "start_time": "2023-11-29T12:45:43.724Z"
   },
   {
    "duration": 4,
    "start_time": "2023-11-29T12:46:00.735Z"
   },
   {
    "duration": 663,
    "start_time": "2023-11-29T12:46:17.653Z"
   },
   {
    "duration": 36,
    "start_time": "2023-11-29T12:48:24.573Z"
   },
   {
    "duration": 18,
    "start_time": "2023-11-29T12:49:53.654Z"
   },
   {
    "duration": 3,
    "start_time": "2023-11-29T12:49:55.898Z"
   },
   {
    "duration": 8,
    "start_time": "2023-11-29T12:53:48.940Z"
   },
   {
    "duration": 3,
    "start_time": "2023-11-29T12:53:55.636Z"
   },
   {
    "duration": 3,
    "start_time": "2023-11-29T12:53:58.023Z"
   },
   {
    "duration": 4,
    "start_time": "2023-11-29T12:54:00.779Z"
   },
   {
    "duration": 144057,
    "start_time": "2023-11-29T12:54:03.705Z"
   },
   {
    "duration": 18,
    "start_time": "2023-11-29T12:56:48.259Z"
   },
   {
    "duration": 13,
    "start_time": "2023-11-29T12:56:51.938Z"
   },
   {
    "duration": 6,
    "start_time": "2023-11-29T12:57:09.590Z"
   },
   {
    "duration": 11,
    "start_time": "2023-11-29T12:57:14.008Z"
   },
   {
    "duration": 6,
    "start_time": "2023-11-29T13:00:55.458Z"
   },
   {
    "duration": 11,
    "start_time": "2023-11-29T13:00:59.687Z"
   },
   {
    "duration": 1334,
    "start_time": "2023-11-29T13:02:07.124Z"
   },
   {
    "duration": 7,
    "start_time": "2023-11-29T13:05:10.042Z"
   },
   {
    "duration": 1980,
    "start_time": "2023-11-29T13:05:14.206Z"
   },
   {
    "duration": 7,
    "start_time": "2023-11-29T13:09:42.125Z"
   },
   {
    "duration": 3183,
    "start_time": "2023-11-29T13:09:48.443Z"
   },
   {
    "duration": 8,
    "start_time": "2023-11-29T13:12:31.204Z"
   },
   {
    "duration": 6,
    "start_time": "2023-11-29T13:12:33.444Z"
   },
   {
    "duration": 1351,
    "start_time": "2023-11-29T13:12:38.881Z"
   },
   {
    "duration": 9,
    "start_time": "2023-11-29T13:13:17.555Z"
   },
   {
    "duration": 2462,
    "start_time": "2023-11-29T13:13:21.717Z"
   },
   {
    "duration": 3,
    "start_time": "2023-11-29T13:13:50.640Z"
   },
   {
    "duration": 89,
    "start_time": "2023-11-29T13:18:03.808Z"
   },
   {
    "duration": 5,
    "start_time": "2023-11-29T13:21:32.492Z"
   },
   {
    "duration": 7,
    "start_time": "2023-11-29T13:21:37.746Z"
   },
   {
    "duration": 1559,
    "start_time": "2023-11-29T13:21:43.735Z"
   },
   {
    "duration": 3,
    "start_time": "2023-11-29T13:21:58.590Z"
   },
   {
    "duration": 7,
    "start_time": "2023-11-29T13:24:47.129Z"
   },
   {
    "duration": 3,
    "start_time": "2023-11-29T13:25:15.127Z"
   },
   {
    "duration": 3,
    "start_time": "2023-11-29T13:25:37.827Z"
   },
   {
    "duration": 1616,
    "start_time": "2023-11-29T13:25:46.142Z"
   },
   {
    "duration": 4,
    "start_time": "2023-11-29T13:25:50.260Z"
   },
   {
    "duration": 2,
    "start_time": "2023-11-29T13:26:46.276Z"
   },
   {
    "duration": 3,
    "start_time": "2023-11-29T13:26:48.526Z"
   },
   {
    "duration": 185905,
    "start_time": "2023-11-29T13:26:50.593Z"
   },
   {
    "duration": 16,
    "start_time": "2023-11-29T13:30:28.277Z"
   },
   {
    "duration": 3036,
    "start_time": "2023-11-29T13:30:32.120Z"
   },
   {
    "duration": 3,
    "start_time": "2023-11-29T13:30:58.761Z"
   },
   {
    "duration": 4,
    "start_time": "2023-11-29T13:31:00.778Z"
   },
   {
    "duration": 744195,
    "start_time": "2023-11-29T13:31:02.628Z"
   },
   {
    "duration": 18,
    "start_time": "2023-11-29T13:43:52.751Z"
   },
   {
    "duration": 807,
    "start_time": "2023-11-29T13:43:56.147Z"
   },
   {
    "duration": 3,
    "start_time": "2023-11-29T13:44:42.652Z"
   },
   {
    "duration": 3,
    "start_time": "2023-11-29T13:44:44.883Z"
   },
   {
    "duration": 3,
    "start_time": "2023-11-29T13:44:46.748Z"
   },
   {
    "duration": 356209,
    "start_time": "2023-11-29T13:44:51.137Z"
   },
   {
    "duration": 20,
    "start_time": "2023-11-29T13:51:13.609Z"
   },
   {
    "duration": 390,
    "start_time": "2023-11-29T13:51:22.134Z"
   },
   {
    "duration": 2,
    "start_time": "2023-11-29T13:51:34.052Z"
   },
   {
    "duration": 3,
    "start_time": "2023-11-29T13:51:36.064Z"
   },
   {
    "duration": 27381,
    "start_time": "2023-11-29T13:51:41.915Z"
   },
   {
    "duration": 11,
    "start_time": "2023-11-29T13:54:03.530Z"
   },
   {
    "duration": 411,
    "start_time": "2023-11-29T13:54:06.209Z"
   },
   {
    "duration": 21,
    "start_time": "2023-11-29T13:54:21.714Z"
   },
   {
    "duration": 17,
    "start_time": "2023-11-29T13:54:36.883Z"
   },
   {
    "duration": 2,
    "start_time": "2023-11-29T13:55:03.708Z"
   },
   {
    "duration": 2,
    "start_time": "2023-11-29T13:55:57.562Z"
   },
   {
    "duration": 400,
    "start_time": "2023-11-29T13:56:04.539Z"
   },
   {
    "duration": 3,
    "start_time": "2023-11-29T13:56:10.933Z"
   },
   {
    "duration": 3,
    "start_time": "2023-11-29T13:56:52.800Z"
   },
   {
    "duration": 17,
    "start_time": "2023-11-29T13:57:08.151Z"
   },
   {
    "duration": 2,
    "start_time": "2023-11-29T13:57:10.397Z"
   },
   {
    "duration": 1574,
    "start_time": "2023-11-29T13:58:13.789Z"
   },
   {
    "duration": 3047,
    "start_time": "2023-11-29T13:58:22.368Z"
   },
   {
    "duration": 835,
    "start_time": "2023-11-29T13:58:31.680Z"
   },
   {
    "duration": 416,
    "start_time": "2023-11-29T13:58:45.495Z"
   },
   {
    "duration": 404,
    "start_time": "2023-11-29T13:58:51.263Z"
   },
   {
    "duration": 3,
    "start_time": "2023-11-29T13:58:54.930Z"
   },
   {
    "duration": 13,
    "start_time": "2023-11-29T13:58:57.165Z"
   },
   {
    "duration": 14,
    "start_time": "2023-11-29T14:01:38.847Z"
   },
   {
    "duration": 15,
    "start_time": "2023-11-29T14:03:43.087Z"
   },
   {
    "duration": 14,
    "start_time": "2023-11-29T14:07:08.733Z"
   },
   {
    "duration": 14,
    "start_time": "2023-11-29T14:10:35.399Z"
   },
   {
    "duration": 15,
    "start_time": "2023-11-29T14:12:11.199Z"
   },
   {
    "duration": 14,
    "start_time": "2023-11-29T14:15:31.019Z"
   },
   {
    "duration": 14,
    "start_time": "2023-11-29T14:21:44.971Z"
   },
   {
    "duration": 14,
    "start_time": "2023-11-29T14:27:01.189Z"
   },
   {
    "duration": 27,
    "start_time": "2023-11-29T15:05:09.099Z"
   },
   {
    "duration": 43,
    "start_time": "2023-11-29T15:05:51.013Z"
   },
   {
    "duration": 28,
    "start_time": "2023-11-29T15:06:41.267Z"
   },
   {
    "duration": 3,
    "start_time": "2023-11-29T15:06:45.247Z"
   },
   {
    "duration": 6,
    "start_time": "2023-11-29T15:07:55.001Z"
   },
   {
    "duration": 6,
    "start_time": "2023-11-29T15:08:54.901Z"
   },
   {
    "duration": 438,
    "start_time": "2023-11-29T15:09:11.666Z"
   },
   {
    "duration": 5,
    "start_time": "2023-11-29T15:09:47.675Z"
   },
   {
    "duration": 2487,
    "start_time": "2023-11-29T15:09:53.315Z"
   },
   {
    "duration": 5058,
    "start_time": "2023-11-29T15:10:28.181Z"
   },
   {
    "duration": 1350,
    "start_time": "2023-11-29T15:11:09.644Z"
   },
   {
    "duration": 590,
    "start_time": "2023-11-29T15:11:32.582Z"
   },
   {
    "duration": 644,
    "start_time": "2023-11-29T15:12:30.035Z"
   },
   {
    "duration": 14,
    "start_time": "2023-11-29T15:12:39.366Z"
   },
   {
    "duration": 80218,
    "start_time": "2023-11-29T15:27:10.791Z"
   },
   {
    "duration": 2019,
    "start_time": "2023-11-29T15:30:23.970Z"
   },
   {
    "duration": 7,
    "start_time": "2023-11-29T15:33:03.622Z"
   },
   {
    "duration": 970,
    "start_time": "2023-11-29T15:33:20.004Z"
   },
   {
    "duration": 5,
    "start_time": "2023-11-29T15:34:34.567Z"
   },
   {
    "duration": 966,
    "start_time": "2023-11-29T15:34:54.386Z"
   },
   {
    "duration": 12,
    "start_time": "2023-11-29T15:44:58.020Z"
   },
   {
    "duration": 1018,
    "start_time": "2023-11-29T15:45:11.872Z"
   },
   {
    "duration": 7,
    "start_time": "2023-11-29T15:47:18.506Z"
   },
   {
    "duration": 1974,
    "start_time": "2023-11-29T15:47:35.822Z"
   },
   {
    "duration": 6,
    "start_time": "2023-11-29T15:58:58.375Z"
   },
   {
    "duration": 1990,
    "start_time": "2023-11-29T15:59:08.091Z"
   }
  ],
  "kernelspec": {
   "display_name": "Python 3 (ipykernel)",
   "language": "python",
   "name": "python3"
  },
  "language_info": {
   "codemirror_mode": {
    "name": "ipython",
    "version": 3
   },
   "file_extension": ".py",
   "mimetype": "text/x-python",
   "name": "python",
   "nbconvert_exporter": "python",
   "pygments_lexer": "ipython3",
   "version": "3.10.9"
  },
  "toc": {
   "base_numbering": 1,
   "nav_menu": {},
   "number_sections": true,
   "sideBar": true,
   "skip_h1_title": true,
   "title_cell": "Table of Contents",
   "title_sidebar": "Contents",
   "toc_cell": false,
   "toc_position": {},
   "toc_section_display": true,
   "toc_window_display": true
  }
 },
 "nbformat": 4,
 "nbformat_minor": 2
}
